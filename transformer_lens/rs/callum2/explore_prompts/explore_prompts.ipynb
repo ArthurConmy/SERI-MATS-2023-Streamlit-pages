{
 "cells": [
  {
   "cell_type": "markdown",
   "metadata": {},
   "source": [
    "# Explore Prompts\n",
    "\n",
    "This is the notebook I use to test out the functions in this directory, and generate the plots in the Streamlit page."
   ]
  },
  {
   "cell_type": "code",
   "execution_count": 1,
   "metadata": {},
   "outputs": [],
   "source": [
    "from transformer_lens.cautils.notebook import *\n",
    "\n",
    "import sys, os\n",
    "root_dir = os.getcwd().split(\"rs/\")[0] + \"rs/callum2/explore_prompts\"\n",
    "os.chdir(root_dir)\n",
    "if root_dir not in sys.path: sys.path.append(root_dir)\n",
    "\n",
    "from generate_html import CSS, generate_4_html_plots\n",
    "from model_results import get_model_results\n",
    "from explore_prompts_utils import parse_str, parse_str_tok_for_printing, ST_HTML_PATH\n",
    "clear_output()"
   ]
  },
  {
   "cell_type": "code",
   "execution_count": 2,
   "metadata": {},
   "outputs": [],
   "source": [
    "model = HookedTransformer.from_pretrained(\n",
    "    \"gpt2-small\",\n",
    "    center_unembed=True,\n",
    "    center_writing_weights=True,\n",
    "    fold_ln=True,\n",
    "    device=\"cpu\"\n",
    "    # refactor_factored_attn_matrices=True,\n",
    ")\n",
    "model.set_use_split_qkv_input(False)\n",
    "model.set_use_attn_result(True)\n",
    "\n",
    "clear_output()"
   ]
  },
  {
   "cell_type": "code",
   "execution_count": 21,
   "metadata": {},
   "outputs": [
    {
     "name": "stderr",
     "output_type": "stream",
     "text": [
      "Found cached dataset openwebtext-10k (/home/ubuntu/.cache/huggingface/datasets/stas___openwebtext-10k/plain_text/1.0.0/3a8df094c671b4cb63ed0b41f40fb3bd855e9ce2e3765e5df50abcdfb5ec144b)\n"
     ]
    },
    {
     "data": {
      "application/vnd.jupyter.widget-view+json": {
       "model_id": "747ff84d060e4d8a8e5a30941911016c",
       "version_major": 2,
       "version_minor": 0
      },
      "text/plain": [
       "  0%|          | 0/1 [00:00<?, ?it/s]"
      ]
     },
     "metadata": {},
     "output_type": "display_data"
    },
    {
     "name": "stdout",
     "output_type": "stream",
     "text": [
      "torch.Size([40, 60]) \n",
      "\n",
      "['<|endoftext|>', 'Oh', ' boy', ' was', ' this', ' damn', ' hard', ' to', ' crack', '.', '\\n', '\\n', 'Ok', ',', ' I', ' believe', ' before', ' it', ' was', ' established', ' before', ' that', ' A', 'perture', ' Science', ' headquarters', ' are', ' in', ' Cleveland', ',', ' OH', '.', '\\n', '\\n', 'Source', ':', ' HL', '2', 'EP', '2', '\\n', '\\n', 'Though', ',', ' this', ' has', ' been', ' found', '.', '\\n', '\\n', 'Source', ':', ' Portal', ' 2', '\\n', '\\n', 'It', ' can', ' be']\n"
     ]
    }
   ],
   "source": [
    "BATCH_SIZE = 40\n",
    "SEQ_LEN = 60 # 1024\n",
    "\n",
    "DATA_STR = get_webtext(seed=6)[:BATCH_SIZE]\n",
    "DATA_STR = [parse_str(s) for s in DATA_STR]\n",
    "\n",
    "DATA_TOKS = model.to_tokens(DATA_STR)\n",
    "DATA_STR_TOKS = model.to_str_tokens(DATA_STR)\n",
    "\n",
    "if SEQ_LEN < 1024:\n",
    "    DATA_TOKS = DATA_TOKS[:, :SEQ_LEN]\n",
    "    DATA_STR_TOKS = [str_toks[:SEQ_LEN] for str_toks in DATA_STR_TOKS]\n",
    "\n",
    "DATA_STR_TOKS_PARSED = [[parse_str_tok_for_printing(str_tok) for str_tok in str_toks] for str_toks in DATA_STR_TOKS]\n",
    "\n",
    "NEGATIVE_HEADS = [(10, 7), (11, 10)]\n",
    "\n",
    "print(DATA_TOKS.shape, \"\\n\")\n",
    "\n",
    "print(DATA_STR_TOKS[0])\n",
    "\n",
    "batch_idx = 36"
   ]
  },
  {
   "cell_type": "code",
   "execution_count": 14,
   "metadata": {},
   "outputs": [
    {
     "name": "stderr",
     "output_type": "stream",
     "text": [
      "100%|██████████| 1/1 [00:00<00:00, 38.04it/s]"
     ]
    },
    {
     "name": "stderr",
     "output_type": "stream",
     "text": [
      "\n",
      "100%|██████████| 1/1 [00:00<00:00, 13.71it/s]\n",
      "100%|██████████| 1/1 [00:00<00:00, 89.67it/s]"
     ]
    },
    {
     "name": "stdout",
     "output_type": "stream",
     "text": [
      "LOSS\n",
      "-> (0, '10.7', 'mean, direct')\n",
      "-> (0, '10.7', 'zero, direct')\n",
      "-> (0, '10.7', 'mean, patched')\n",
      "-> (0, '10.7', 'zero, patched')\n",
      "-> (0, '11.10', 'mean, direct')\n",
      "-> (0, '11.10', 'zero, direct')\n",
      "-> (0, '11.10', 'mean, patched')\n",
      "-> (0, '11.10', 'zero, patched')\n",
      "LOGITS_ORIG\n",
      "-> (0,)\n",
      "LOGITS_ABLATED\n",
      "-> (0, '10.7', 'mean, direct')\n",
      "-> (0, '10.7', 'zero, direct')\n",
      "-> (0, '10.7', 'mean, patched')\n",
      "-> (0, '10.7', 'zero, patched')\n",
      "-> (0, '11.10', 'mean, direct')\n",
      "-> (0, '11.10', 'zero, direct')\n",
      "-> (0, '11.10', 'mean, patched')\n",
      "-> (0, '11.10', 'zero, patched')\n",
      "DLA\n",
      "-> (0, '10.7', 'neg')\n",
      "-> (0, '10.7', 'pos')\n",
      "-> (0, '11.10', 'neg')\n",
      "-> (0, '11.10', 'pos')\n",
      "ATTN\n",
      "-> (0, '10.7', 'Large', 'standard')\n",
      "-> (0, '10.7', 'Large', 'info-weighted')\n",
      "-> (0, '10.7', 'Small', 'standard')\n",
      "-> (0, '10.7', 'Small', 'info-weighted')\n",
      "-> (0, '11.10', 'Large', 'standard')\n",
      "-> (0, '11.10', 'Large', 'info-weighted')\n",
      "-> (0, '11.10', 'Small', 'standard')\n",
      "-> (0, '11.10', 'Small', 'info-weighted')\n",
      "UNEMBEDDINGS\n",
      "-> (0, '10.7', True)\n",
      "-> (0, '10.7', False)\n",
      "-> (0, '11.10', True)\n",
      "-> (0, '11.10', False)\n"
     ]
    },
    {
     "name": "stderr",
     "output_type": "stream",
     "text": [
      "\n"
     ]
    },
    {
     "data": {
      "text/html": [
       "\n",
       "<link rel=\"preconnect\" href=\"https://fonts.googleapis.com\">\n",
       "<link rel=\"preconnect\" href=\"https://fonts.gstatic.com\" crossorigin>\n",
       "<link href=\"https://fonts.googleapis.com/css2?family=Source+Sans+3:wght@350&display=swap\" rel=\"stylesheet\">\n",
       "\n",
       "<script src=\"https://ajax.googleapis.com/ajax/libs/jquery/3.5.1/jquery.min.js\"></script>\n",
       "\n",
       "<style>\n",
       "body {\n",
       "    font-family: 'Source Sans 3', sans-serif;\n",
       "}\n",
       "\n",
       "table {\n",
       "    border-collapse: collapse;\n",
       "    width: 100%;\n",
       "}\n",
       "th, td {\n",
       "    border: 1px solid black;\n",
       "    padding: 6px;\n",
       "    text-align: left;\n",
       "    line-height: 0.8em;\n",
       "}\n",
       ".empty-row td {\n",
       "    border: none;\n",
       "}\n",
       "mark {\n",
       "    font-size: 1rem;\n",
       "    line-height: 1.48em;\n",
       "}\n",
       "\n",
       ".tooltip {\n",
       "    position: relative;\n",
       "    display: inline-block;\n",
       "    cursor: pointer;\n",
       "}\n",
       ".tooltip .tooltiptext {\n",
       "    font-size: 0.9rem;\n",
       "    min-width: 275px;\n",
       "    visibility: hidden;\n",
       "    background-color: #eee;\n",
       "    color: #000;\n",
       "    text-align: center;\n",
       "    padding: 5px;\n",
       "    position: absolute;\n",
       "    z-index: 1;\n",
       "    top: 125%;\n",
       "    left: 50%;\n",
       "    margin-left: -10px;\n",
       "    opacity: 0;\n",
       "    transition: opacity 0.0s;\n",
       "}\n",
       "\n",
       ".tooltip:hover .tooltiptext {\n",
       "    visibility: visible;\n",
       "    opacity: 1;\n",
       "}\n",
       "</style>\n",
       "\n",
       "<script>\n",
       "$(document).ready(function(){\n",
       "  $('.tooltip').hover(function(){\n",
       "    var tooltipWidth = $(this).children('.tooltiptext').outerWidth();\n",
       "    var viewportWidth = $(window).width();\n",
       "    var tooltipRight = $(this).offset().left + tooltipWidth;\n",
       "    if (tooltipRight > viewportWidth) {\n",
       "      $(this).children('.tooltiptext').css('left', 'auto').css('right', '0');\n",
       "    }\n",
       "  }, function() {\n",
       "    $(this).children('.tooltiptext').css('left', '50%').css('right', 'auto');\n",
       "  });\n",
       "});\n",
       "</script>\n",
       "<td>&nbsp;<span class=\"tooltip\"><mark style=\"background-color:rgb(247, 247, 247);opacity:1.0;line-height:1.75em\"><font color=\"black\"><|endoftext|></font></mark><span class=\"tooltiptext\"><b>'<|endoftext|>'</b><br>0.0063</span></span>&nbsp;<span class=\"tooltip\"><mark style=\"background-color:rgb(247, 247, 246);opacity:1.0;line-height:1.75em\"><font color=\"black\">All</font></mark><span class=\"tooltiptext\"><b>'All'</b><br>-0.0087</span></span>&nbsp;<span class=\"tooltip\"><mark style=\"background-color:rgb(244, 246, 246);opacity:1.0;line-height:1.75em\"><font color=\"black\">'s</font></mark><span class=\"tooltiptext\"><b>''s'</b><br>0.0364</span></span>&nbsp;<span class=\"tooltip\"><mark style=\"background-color:rgb(247, 247, 247);opacity:1.0;line-height:1.75em\"><font color=\"black\">&nbsp;fair</font></mark><span class=\"tooltiptext\"><b>' fair'</b><br>0.0039</span></span>&nbsp;<span class=\"tooltip\"><mark style=\"background-color:rgb(226, 237, 243);opacity:1.0;line-height:1.75em\"><font color=\"black\">&nbsp;in</font></mark><span class=\"tooltiptext\"><b>' in'</b><br>0.2709</span></span>&nbsp;<span class=\"tooltip\"><mark style=\"background-color:rgb(247, 247, 247);opacity:1.0;line-height:1.75em\"><font color=\"black\">&nbsp;love</font></mark><span class=\"tooltiptext\"><b>' love'</b><br>-0.0024</span></span>&nbsp;<span class=\"tooltip\"><mark style=\"background-color:rgb(237, 242, 245);opacity:1.0;line-height:1.75em\"><font color=\"black\">&nbsp;and</font></mark><span class=\"tooltiptext\"><b>' and'</b><br>0.1273</span></span>&nbsp;<span class=\"tooltip\"><mark style=\"background-color:rgb(247, 247, 247);opacity:1.0;line-height:1.75em\"><font color=\"black\">&nbsp;war</font></mark><span class=\"tooltiptext\"></span></span>&nbsp;</td><br><br><br><br><br><br><br><br><br><br>"
      ],
      "text/plain": [
       "<IPython.core.display.HTML object>"
      ]
     },
     "metadata": {},
     "output_type": "display_data"
    }
   ],
   "source": [
    "prompt = \"All's fair in love and war\"\n",
    "toks = model.to_tokens(prompt)\n",
    "str_toks = model.to_str_tokens(toks)\n",
    "if isinstance(str_toks[0], str): str_toks = [str_toks]\n",
    "str_toks_parsed = [list(map(parse_str_tok_for_printing, s)) for s in str_toks]\n",
    "\n",
    "MODEL_RESULTS = get_model_results(model, toks, NEGATIVE_HEADS)\n",
    "\n",
    "HTML_PLOTS = generate_4_html_plots(\n",
    "    model_results = MODEL_RESULTS,\n",
    "    model = model,\n",
    "    data_toks = toks,\n",
    "    data_str_toks_parsed = str_toks_parsed,\n",
    "    negative_heads = NEGATIVE_HEADS,\n",
    "    save_files = False,\n",
    ")\n",
    "\n",
    "for k, v in HTML_PLOTS.items():\n",
    "    print(k)\n",
    "    for k2 in v.keys(): print(f\"-> {k2}\")\n",
    "\n",
    "display(HTML(CSS + HTML_PLOTS[\"LOSS\"][(0, \"10.7\", \"mean, direct\")] + \"<br>\" * 10))"
   ]
  },
  {
   "cell_type": "code",
   "execution_count": 15,
   "metadata": {},
   "outputs": [
    {
     "data": {
      "text/plain": [
       "'<td>&nbsp;<span class=\"tooltip\"><mark style=\"background-color:rgb(247, 247, 247);opacity:1.0;line-height:1.75em\"><font color=\"black\"><|endoftext|></font></mark><span class=\"tooltiptext\"><b>\\'<|endoftext|>\\'</b><br>0.0063</span></span>&nbsp;<span class=\"tooltip\"><mark style=\"background-color:rgb(247, 247, 246);opacity:1.0;line-height:1.75em\"><font color=\"black\">All</font></mark><span class=\"tooltiptext\"><b>\\'All\\'</b><br>-0.0087</span></span>&nbsp;<span class=\"tooltip\"><mark style=\"background-color:rgb(244, 246, 246);opacity:1.0;line-height:1.75em\"><font color=\"black\">\\'s</font></mark><span class=\"tooltiptext\"><b>\\'\\'s\\'</b><br>0.0364</span></span>&nbsp;<span class=\"tooltip\"><mark style=\"background-color:rgb(247, 247, 247);opacity:1.0;line-height:1.75em\"><font color=\"black\">&nbsp;fair</font></mark><span class=\"tooltiptext\"><b>\\' fair\\'</b><br>0.0039</span></span>&nbsp;<span class=\"tooltip\"><mark style=\"background-color:rgb(226, 237, 243);opacity:1.0;line-height:1.75em\"><font color=\"black\">&nbsp;in</font></mark><span class=\"tooltiptext\"><b>\\' in\\'</b><br>0.2709</span></span>&nbsp;<span class=\"tooltip\"><mark style=\"background-color:rgb(247, 247, 247);opacity:1.0;line-height:1.75em\"><font color=\"black\">&nbsp;love</font></mark><span class=\"tooltiptext\"><b>\\' love\\'</b><br>-0.0024</span></span>&nbsp;<span class=\"tooltip\"><mark style=\"background-color:rgb(237, 242, 245);opacity:1.0;line-height:1.75em\"><font color=\"black\">&nbsp;and</font></mark><span class=\"tooltiptext\"><b>\\' and\\'</b><br>0.1273</span></span>&nbsp;<span class=\"tooltip\"><mark style=\"background-color:rgb(247, 247, 247);opacity:1.0;line-height:1.75em\"><font color=\"black\">&nbsp;war</font></mark><span class=\"tooltiptext\"></span></span>&nbsp;</td>'"
      ]
     },
     "execution_count": 15,
     "metadata": {},
     "output_type": "execute_result"
    }
   ],
   "source": [
    "HTML_PLOTS[\"LOSS\"][(0, \"10.7\", \"mean, direct\")]"
   ]
  },
  {
   "cell_type": "code",
   "execution_count": 22,
   "metadata": {},
   "outputs": [],
   "source": [
    "MODEL_RESULTS = get_model_results(model, DATA_TOKS, negative_heads = NEGATIVE_HEADS)"
   ]
  },
  {
   "cell_type": "code",
   "execution_count": 23,
   "metadata": {},
   "outputs": [
    {
     "name": "stderr",
     "output_type": "stream",
     "text": [
      "  2%|▎         | 1/40 [00:00<00:06,  5.60it/s]"
     ]
    },
    {
     "name": "stderr",
     "output_type": "stream",
     "text": [
      "100%|██████████| 40/40 [00:06<00:00,  5.75it/s]\n",
      "100%|██████████| 40/40 [00:23<00:00,  1.68it/s]\n",
      "100%|██████████| 40/40 [00:01<00:00, 32.56it/s]\n"
     ]
    }
   ],
   "source": [
    "HTML_PLOTS = generate_4_html_plots(\n",
    "    model_results = MODEL_RESULTS,\n",
    "    model = model,\n",
    "    data_toks = DATA_TOKS,\n",
    "    data_str_toks_parsed = DATA_STR_TOKS_PARSED,\n",
    "    negative_heads = NEGATIVE_HEADS,\n",
    "    save_files = True,\n",
    ")"
   ]
  },
  {
   "cell_type": "code",
   "execution_count": 16,
   "metadata": {},
   "outputs": [],
   "source": [
    "HTML_PLOTS = pickle.load(open(ST_HTML_PATH / \"HTML_PLOTS.pkl\", \"rb\"))\n",
    "BATCH_SIZE = len(HTML_PLOTS[\"LOGITS_ORIG\"])\n",
    "\n",
    "# pickle.dump(HTML_PLOTS, open(ST_HTML_PATH / \"HTML_PLOTS.pkl\", \"wb\"))"
   ]
  },
  {
   "cell_type": "code",
   "execution_count": 25,
   "metadata": {},
   "outputs": [],
   "source": [
    "import re\n",
    "\n",
    "def round_decimals(input_string):\n",
    "    def round_match(match):\n",
    "        return \"{:.4f}\".format(float(match.group()))\n",
    "\n",
    "    return re.sub(r'\\b0\\.\\d+\\b', round_match, input_string)\n",
    "\n",
    "HTML_PLOTS[\"ATTN\"] = {\n",
    "    k: round_decimals(v)\n",
    "    for k, v in HTML_PLOTS[\"ATTN\"].items()\n",
    "}"
   ]
  },
  {
   "cell_type": "code",
   "execution_count": 26,
   "metadata": {},
   "outputs": [],
   "source": [
    "pickle.dump(HTML_PLOTS, open(ST_HTML_PATH / \"HTML_PLOTS_4.pkl\", \"wb\"))"
   ]
  }
 ],
 "metadata": {
  "kernelspec": {
   "display_name": "Python 3",
   "language": "python",
   "name": "python3"
  },
  "language_info": {
   "codemirror_mode": {
    "name": "ipython",
    "version": 3
   },
   "file_extension": ".py",
   "mimetype": "text/x-python",
   "name": "python",
   "nbconvert_exporter": "python",
   "pygments_lexer": "ipython3",
   "version": "3.8.10"
  },
  "orig_nbformat": 4
 },
 "nbformat": 4,
 "nbformat_minor": 2
}
