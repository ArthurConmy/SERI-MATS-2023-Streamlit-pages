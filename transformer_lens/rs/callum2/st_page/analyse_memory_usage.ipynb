{
 "cells": [
  {
   "cell_type": "code",
   "execution_count": 6,
   "metadata": {},
   "outputs": [
    {
     "name": "stdout",
     "output_type": "stream",
     "text": [
      "  TCP    0.0.0.0:8502           0.0.0.0:0              LISTENING       21880\n",
      "  TCP    [::]:8502              [::]:0                 LISTENING       21880\n",
      "  TCP    [::1]:8502             [::1]:52653            ESTABLISHED     21880\n",
      "  TCP    [::1]:8502             [::1]:52657            ESTABLISHED     21880\n",
      "  TCP    [::1]:8502             [::1]:52664            ESTABLISHED     21880\n",
      "  TCP    [::1]:8502             [::1]:52665            ESTABLISHED     21880\n",
      "  TCP    [::1]:8502             [::1]:52671            ESTABLISHED     21880\n",
      "  TCP    [::1]:8502             [::1]:52672            ESTABLISHED     21880\n",
      "  TCP    [::1]:8502             [::1]:59933            TIME_WAIT       0\n",
      "  TCP    [::1]:52653            [::1]:8502             ESTABLISHED     34580\n",
      "  TCP    [::1]:52657            [::1]:8502             ESTABLISHED     34580\n",
      "  TCP    [::1]:52664            [::1]:8502             ESTABLISHED     34580\n",
      "  TCP    [::1]:52665            [::1]:8502             ESTABLISHED     34580\n",
      "  TCP    [::1]:52671            [::1]:8502             ESTABLISHED     34580\n",
      "  TCP    [::1]:52672            [::1]:8502             ESTABLISHED     34580\n"
     ]
    }
   ],
   "source": [
    "# %pip install memory_profiler\n",
    "\n",
    "# Run this, and find the line which says 0.0.0.850? (usually at the top if Streamlit page is running)\n",
    "!netstat -aon | findstr 8502"
   ]
  },
  {
   "cell_type": "code",
   "execution_count": 7,
   "metadata": {},
   "outputs": [
    {
     "name": "stdout",
     "output_type": "stream",
     "text": [
      "mprof: Sampling memory every 0.1s\n",
      "attaching to existing process, using hint: 21880\n"
     ]
    }
   ],
   "source": [
    "!mprof run --attach 21880"
   ]
  }
 ],
 "metadata": {
  "kernelspec": {
   "display_name": "tl_intro_test",
   "language": "python",
   "name": "python3"
  },
  "language_info": {
   "codemirror_mode": {
    "name": "ipython",
    "version": 3
   },
   "file_extension": ".py",
   "mimetype": "text/x-python",
   "name": "python",
   "nbconvert_exporter": "python",
   "pygments_lexer": "ipython3",
   "version": "3.10.9"
  },
  "orig_nbformat": 4
 },
 "nbformat": 4,
 "nbformat_minor": 2
}
