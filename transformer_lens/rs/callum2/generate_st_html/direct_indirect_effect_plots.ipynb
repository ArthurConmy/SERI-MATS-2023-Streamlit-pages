{
 "cells": [
  {
   "cell_type": "markdown",
   "metadata": {},
   "source": [
    "# Direct & Indirect effect plots\n",
    "\n",
    "This notebook is for creating the bar chart which will be used in the paper, to compare direct & indirect effects of head 10.7."
   ]
  },
  {
   "cell_type": "code",
   "execution_count": 1,
   "metadata": {},
   "outputs": [
    {
     "name": "stderr",
     "output_type": "stream",
     "text": [
      "/home/ubuntu/SERI-MATS-2023-Streamlit-pages/transformer_lens/__init__.py:4: UserWarning: Doing ACCELERATE_DISABLE_RICH ...\n",
      "  warnings.warn(\"Doing ACCELERATE_DISABLE_RICH ...\")\n",
      "/home/ubuntu/miniconda3/envs/arthurenv/lib/python3.11/site-packages/tqdm/auto.py:21: TqdmWarning: IProgress not found. Please update jupyter and ipywidgets. See https://ipywidgets.readthedocs.io/en/stable/user_install.html\n",
      "  from .autonotebook import tqdm as notebook_tqdm\n",
      "/home/ubuntu/SERI-MATS-2023-Streamlit-pages/transformer_lens/cautils/notebook.py:11: UserWarning: Running load_ext autoreload...\n",
      "  warnings.warn(\"Running load_ext autoreload...\")\n",
      "/home/ubuntu/SERI-MATS-2023-Streamlit-pages/transformer_lens/cautils/utils.py:10: UserWarning: Setting grad enabled false...\n",
      "  warnings.warn(\"Setting grad enabled false...\")\n"
     ]
    }
   ],
   "source": [
    "import os, sys\n",
    "from pathlib import Path\n",
    "p = Path(r\"/home/ubuntu/SERI-MATS-2023-Streamlit-pages\")\n",
    "if os.path.exists(str_p := str(p.resolve())):\n",
    "    os.chdir(str_p)\n",
    "    if str_p not in sys.path:\n",
    "        sys.path.append(str_p)\n",
    "\n",
    "from transformer_lens.cautils.notebook import *\n",
    "\n",
    "from transformer_lens.rs.callum2.generate_st_html.model_results import (\n",
    "    get_model_results,\n",
    "    get_model_results_batched,\n",
    "    ModelResults,\n",
    "    HeadResults,\n",
    "    LayerResults,\n",
    "    DictOfHeadResults,\n",
    ")\n",
    "\n",
    "from transformer_lens.rs.callum2.cspa.cspa_utils import (\n",
    "    parse_str,\n",
    "    parse_str_toks_for_printing,\n",
    "    kl_div,\n",
    "    get_result_mean,\n",
    ")\n",
    "\n",
    "def create_dict_for_table(\n",
    "    results: DictOfHeadResults,\n",
    "    ln_mode: str = \"frozen\",\n",
    "    head: Tuple[int, int] = (10, 7)\n",
    ") -> Dict[str, Tensor]:\n",
    "    L, H = head\n",
    "    return {\n",
    "        k[0]: v[L, H]\n",
    "        for k, v in results.items()\n",
    "        if k[1:] == (ln_mode, \"mean\")\n",
    "    }"
   ]
  },
  {
   "cell_type": "code",
   "execution_count": 2,
   "metadata": {},
   "outputs": [],
   "source": [
    "model = HookedTransformer.from_pretrained(\n",
    "    \"gpt2-small\",\n",
    "    center_unembed=True,\n",
    "    center_writing_weights=True,\n",
    "    fold_ln=True,\n",
    "    device=\"cuda\",\n",
    ")\n",
    "model.set_use_split_qkv_input(False)\n",
    "model.set_use_attn_result(True)\n",
    "\n",
    "clear_output()"
   ]
  },
  {
   "cell_type": "code",
   "execution_count": 3,
   "metadata": {},
   "outputs": [
    {
     "name": "stdout",
     "output_type": "stream",
     "text": [
      "Shape = torch.Size([500, 1000])\n",
      "\n",
      "First prompt:\n",
      "<|endoftext|>History Edit\n",
      "\n",
      "In 1914, Senator Robert La Follette Sr. and Representative John M. Nelson, both of Wisconsin, promoted the inclusion in the legislative, executive, and judicial appropriations act of a provision directing the establishment of a special reference unit within the Library of Congress.[5] Building upon a concept developed by the New York State Library in 1890, and the Wisconsin Legislative Reference Library in 1901, they were motivated by Progressive era ideas about the importance of the acquisition of knowledge for an informed and independent legislature.[4] The move also reflected the expanding role of the librarian and the professionalization of the profession.[4] The new department was charged with responding to congressional requests for information.[4] The legislation authorized the Librarian of Congress, Herbert Putnam, to \"employ competent persons to prepare such indexes, digests, and compilations of laws as may be required for Congress and other official use...\" (The intent behind the creation of the agency can be derived from U.S. Senate, Committee on the Library, Legislative Drafting Bureau and Reference Division, 62d Cong., 3d sess., 1913, S. Rept.1271.) Renamed the Legislative Reference Service and given a permanent authorization with the Legislative Reorganization Act of 1946,[6] it assisted Congress primarily by providing facts and publications and by transmitting research and analysis done largely by other government agencies, private organizations, and individual scholars.[4] The Library of Congress, the home of CRS, had experimented during the 1940s with unrestricted publication Public Affairs Bulletins, which were produced by staff of the Legislative Reference Service, and devoted to various public policy issues. They were promoted by Archibald MacLeish, the Librarian of Congress, and, among other topics, addressed timely policy issues, such as American national defense. About 100 Public Affairs Bulletins were generated[7] before congressional appropriators ended their production in 1951.[8] The renaming under the Legislative Reorganization Act of 1970 reflected the service's changing mission:[4] This legislation directed CRS to devote more of its efforts and increased resources to doing research and analysis that assists Congress in direct support of the legislative process.[9] When the Congressional Research Service Review was launched in 1980, it continued for a little more than a decade before congressional appropriators, once again, invoked fiscal closure. The Review, which was published ten times a year and available to the public by subscription, offered original analytical articles, summaries highlighting CRS research products, and other kinds of assistance to the congressional community.[7] As inquiries increased from 400,000 questions per year in 1980 to 598,000 in 2000, CRS sought to prepare itself for future challenges, initiating an organizational realignment in 1999. The realignment, which has required extensive relocation of staff and the design of more efficient workstations, was intended to promote improved communication within CRS and increase the service's ability to focus on legislative deliberations of Congress by applying its multidisciplinary expertise to public policy issues in user-friendly, accessible formats when Congress needs assistance.[10]\n",
      "\n",
      "Mission Edit\n",
      "\n",
      "CRS offers Congress research and analysis on all current and emerging issues of national policy.[4] CRS offers timely and confidential assistance to all Members and committees that request it, limited only by CRS's resources and the requirements for balance, nonpartisanship and accuracy.[4] CRS makes no legislative or other policy recommendations to Congress; its responsibility is to ensure that Members of the House and Senate have available the best possible information and analysis on which to base the policy decisions the American people have elected them to make.[4] In all its work, CRS analysts are governed by requirements for confidentiality, timeliness, accuracy, objectivity, balance, and nonpartisanship. CRS services are not limited to those that relate directly to enacting new laws. For example, CRS attempts to assess emerging issues and developing problems so that it will be prepared to assist the Congress if and when it becomes necessary. Although it rarely conducts field research, CRS assists committees in other aspects of their study and oversight responsibilities. In addition, it offers numerous courses, including legal research seminars and institutes on the legislative process, the budget processes, and the work of district and state staff. At the beginning of each Congress, CRS also provides an orientation seminar for new Members.[4] CRS does not conduct research on sitting Members or living former Members of Congress, unless granted specific permission by that Member or if that Member is nominated by the President for another office.[4]\n",
      "\n",
      "Organization Edit\n",
      "\n",
      "CRS is now divided into six interdisciplinary research divisions, each of which is further divided into subject specialist sections. The six divisions are: American Law; Domestic Social Policy; Foreign Affairs, Defense and Trade; Government and Finance; Knowledge Services; and Resources, Science and Industry.[11] The six research divisions are supported in their\n"
     ]
    }
   ],
   "source": [
    "BATCH_SIZE = 500 # 80 for viz\n",
    "SEQ_LEN = 1000 # 61 for viz\n",
    "batch_idx = 36\n",
    "\n",
    "def process_webtext(\n",
    "    seed: int = 6,\n",
    "    batch_size: int = BATCH_SIZE,\n",
    "    seq_len: int = SEQ_LEN,\n",
    "    verbose: bool = False,\n",
    "):\n",
    "    DATA_STR_ALL = get_webtext(seed=seed)\n",
    "    DATA_STR_ALL = [parse_str(s) for s in DATA_STR_ALL]\n",
    "    DATA_STR = []\n",
    "\n",
    "    count = 0\n",
    "    for i in range(len(DATA_STR_ALL)):\n",
    "        num_toks = len(model.to_tokens(DATA_STR_ALL[i]).squeeze())\n",
    "        if num_toks > seq_len:\n",
    "            DATA_STR.append(DATA_STR_ALL[i])\n",
    "            count += 1\n",
    "        if count == batch_size:\n",
    "            break\n",
    "    else:\n",
    "        raise Exception(\"Couldn't find enough sequences of sufficient length.\")\n",
    "\n",
    "    DATA_TOKS = model.to_tokens(DATA_STR)\n",
    "    DATA_STR_TOKS = model.to_str_tokens(DATA_STR)\n",
    "\n",
    "    if seq_len < 1024:\n",
    "        DATA_TOKS = DATA_TOKS[:, :seq_len]\n",
    "        DATA_STR_TOKS = [str_toks[:seq_len] for str_toks in DATA_STR_TOKS]\n",
    "\n",
    "    DATA_STR_TOKS_PARSED = list(map(parse_str_toks_for_printing, DATA_STR_TOKS))\n",
    "\n",
    "    clear_output()\n",
    "    if verbose:\n",
    "        print(f\"Shape = {DATA_TOKS.shape}\\n\")\n",
    "        print(\"First prompt:\\n\" + \"\".join(DATA_STR_TOKS[0]))\n",
    "\n",
    "    return DATA_TOKS, DATA_STR_TOKS_PARSED\n",
    "\n",
    "DATA_TOKS, DATA_STR_TOKS_PARSED = process_webtext(verbose=True, seed=1)"
   ]
  },
  {
   "cell_type": "code",
   "execution_count": 7,
   "metadata": {},
   "outputs": [
    {
     "name": "stdout",
     "output_type": "stream",
     "text": [
      "Mean loss = 3.0289\n"
     ]
    }
   ],
   "source": [
    "mini_seq_len = 800\n",
    "\n",
    "loss = t.empty(size=(0, mini_seq_len-1)).to(device)\n",
    "\n",
    "for toks in tqdm(DATA_TOKS[:, :mini_seq_len].split(10)):\n",
    "    loss = t.concat([loss, model.forward(toks, return_type=\"loss\", loss_per_token=True)])\n",
    "\n",
    "print(f\"Mean loss = {loss.mean():.4f}\")"
   ]
  },
  {
   "cell_type": "code",
   "execution_count": 4,
   "metadata": {},
   "outputs": [
    {
     "name": "stderr",
     "output_type": "stream",
     "text": [
      "  0%|          | 0/50 [00:00<?, ?it/s]"
     ]
    },
    {
     "name": "stderr",
     "output_type": "stream",
     "text": [
      "100%|██████████| 50/50 [00:15<00:00,  3.32it/s]\n",
      "Batch 500/500, shape (1, 800), time 6.12s: 100%|██████████| 500/500 [27:22<00:00,  3.29s/it]\n"
     ]
    },
    {
     "data": {
      "text/html": [
       "<pre style=\"white-space:pre;overflow-x:auto;line-height:normal;font-family:Menlo,'DejaVu Sans Mono',consolas,'Courier New',monospace\"><span style=\"font-style: italic\">                                              Results for bar chart!                                               </span>\n",
       "┏━━━━━━━━━━━━━━━━━━━━━━━━━━━━┳━━━━━━━━━━━━━━━━━━━━━━━━┳━━━━━━━━━━━━━━━━━━━━━━━━━━━━━━━┳━━━━━━━━━━━━━━━━━━━━━━━━━━━┓\n",
       "┃<span style=\"font-weight: bold\">                            </span>┃<span style=\"font-weight: bold\">                        </span>┃<span style=\"font-weight: bold\"> Average absolute effect on    </span>┃<span style=\"font-weight: bold\">                           </span>┃\n",
       "┃<span style=\"font-weight: bold\"> Type of ablation           </span>┃<span style=\"font-weight: bold\"> Average effect on loss </span>┃<span style=\"font-weight: bold\"> loss                          </span>┃<span style=\"font-weight: bold\"> Average KL div from clean </span>┃\n",
       "┡━━━━━━━━━━━━━━━━━━━━━━━━━━━━╇━━━━━━━━━━━━━━━━━━━━━━━━╇━━━━━━━━━━━━━━━━━━━━━━━━━━━━━━━╇━━━━━━━━━━━━━━━━━━━━━━━━━━━┩\n",
       "│ Both                       │ 0.0073                 │ 0.0763                        │ 0.01318                   │\n",
       "│ Direct                     │ 0.0102                 │ 0.0739                        │ 0.01449                   │\n",
       "│ Indirect                   │ 0.0016                 │ 0.0422                        │ 0.00323                   │\n",
       "│ Indirect (excluding 11.10) │ 0.0008                 │ 0.0404                        │ 0.00297                   │\n",
       "└────────────────────────────┴────────────────────────┴───────────────────────────────┴───────────────────────────┘\n",
       "</pre>\n"
      ],
      "text/plain": [
       "\u001b[3m                                              Results for bar chart!                                               \u001b[0m\n",
       "┏━━━━━━━━━━━━━━━━━━━━━━━━━━━━┳━━━━━━━━━━━━━━━━━━━━━━━━┳━━━━━━━━━━━━━━━━━━━━━━━━━━━━━━━┳━━━━━━━━━━━━━━━━━━━━━━━━━━━┓\n",
       "┃\u001b[1m                            \u001b[0m┃\u001b[1m                        \u001b[0m┃\u001b[1m \u001b[0m\u001b[1mAverage absolute effect on   \u001b[0m\u001b[1m \u001b[0m┃\u001b[1m                           \u001b[0m┃\n",
       "┃\u001b[1m \u001b[0m\u001b[1mType of ablation          \u001b[0m\u001b[1m \u001b[0m┃\u001b[1m \u001b[0m\u001b[1mAverage effect on loss\u001b[0m\u001b[1m \u001b[0m┃\u001b[1m \u001b[0m\u001b[1mloss                         \u001b[0m\u001b[1m \u001b[0m┃\u001b[1m \u001b[0m\u001b[1mAverage KL div from clean\u001b[0m\u001b[1m \u001b[0m┃\n",
       "┡━━━━━━━━━━━━━━━━━━━━━━━━━━━━╇━━━━━━━━━━━━━━━━━━━━━━━━╇━━━━━━━━━━━━━━━━━━━━━━━━━━━━━━━╇━━━━━━━━━━━━━━━━━━━━━━━━━━━┩\n",
       "│ Both                       │ 0.0073                 │ 0.0763                        │ 0.01318                   │\n",
       "│ Direct                     │ 0.0102                 │ 0.0739                        │ 0.01449                   │\n",
       "│ Indirect                   │ 0.0016                 │ 0.0422                        │ 0.00323                   │\n",
       "│ Indirect (excluding 11.10) │ 0.0008                 │ 0.0404                        │ 0.00297                   │\n",
       "└────────────────────────────┴────────────────────────┴───────────────────────────────┴───────────────────────────┘\n"
      ]
     },
     "metadata": {},
     "output_type": "display_data"
    }
   ],
   "source": [
    "result_mean = get_result_mean(\n",
    "    head_list=[(10, 7)],\n",
    "    toks=DATA_TOKS[:, :800],\n",
    "    model=model,\n",
    "    minibatch_size=10,\n",
    "    keep_seq_dim=True,\n",
    "    verbose=True\n",
    ")\n",
    "\n",
    "model_results = get_model_results_batched(\n",
    "    model = model,\n",
    "    toks = DATA_TOKS[:, :800],\n",
    "    max_batch_size = 1,\n",
    "    negative_heads = [(10, 7)],\n",
    "    use_cuda = True,\n",
    "    store_in_cuda = False,\n",
    "    verbose = True,\n",
    "    effective_embedding = \"W_E (including MLPs)\",\n",
    "    result_mean = result_mean,\n",
    "    keep_logits = False,\n",
    "    keep_seq_dim_when_mean_ablating = True,\n",
    ")\n",
    "\n",
    "loss_diffs_dict = create_dict_for_table(model_results.loss_diffs)\n",
    "kl_divs_dict = create_dict_for_table(model_results.kl_divs)\n",
    "\n",
    "table = Table(\"Type of ablation\", \"Average effect on loss\", \"Average absolute effect on loss\", \"Average KL div from clean\", title=\"Results for bar chart!\")\n",
    "for k, v in loss_diffs_dict.items():\n",
    "    table.add_row(k.capitalize(), f\"{v.mean():.4f}\", f\"{v.abs().mean():.4f}\", f\"{kl_divs_dict[k].mean():.5f}\")\n",
    "rprint(table)"
   ]
  },
  {
   "cell_type": "markdown",
   "metadata": {},
   "source": [
    "# Make actual figure for paper\n",
    "\n",
    "Using the following ChatGPT prompt (the output was heavily amended):"
   ]
  },
  {
   "cell_type": "markdown",
   "metadata": {},
   "source": [
    "Write plotly code for a figure which I will now describe.\n",
    "\n",
    "It should be a bar chart, with 4 values: [x, x+0.0008, x+0.0016, x+0.0102], where x is a value that is externally defined (by default, x is 3.0289). The x-axis labels should be [\"None\", \"Indirect paths<br>(except L11H10)\", \"Indirect paths<br>(all)\", \"Direct path\"]. The x-axis title should be \"Ablated paths\". The y-axis title should be \"Loss\". The plotly template should be \"simple_white\". All bars should be the same color: salmon pink. The title should be \"Comparison of different ablations for L10H7\". The width is 800, height is 600. The y-axes should be appropriately set, so that the min is 0.001 below the min y-value, and the max is 0.004 above the max y-value. The bars should display the values \"\", \"+0.008\", \"+0.0016\", \"+0.0102\" inside of them, just below the top of each bar. You should see this text even if you don't hover over the graph. All the font sizes should be increased, so the text is visible.\n",
    "\n",
    "I also have 4 svg files, called c1, c2, c3, c4 respectively, each of the form \"data:image/svg+xml;base64,\" + (encoded_image). I want these images to be added to the image, each one just above one of the bars. The width of these images should be equal to the width of the bar, and the images' aspect ratios should be preserved.\n",
    "\n",
    "You don't have to run any code, I just want to see the code."
   ]
  },
  {
   "cell_type": "code",
   "execution_count": 161,
   "metadata": {},
   "outputs": [
    {
     "name": "stdout",
     "output_type": "stream",
     "text": [
      "dict_keys(['cmain', 'c1', 'c2', 'c3', 'c4'])\n"
     ]
    },
    {
     "data": {
      "application/vnd.plotly.v1+json": {
       "config": {
        "plotlyServerURL": "https://plot.ly"
       },
       "data": [
        {
         "hoverinfo": "y",
         "marker": {
          "color": "salmon"
         },
         "text": [
          "",
          "+0.0008",
          "+0.0016",
          "+0.0102"
         ],
         "textposition": "inside",
         "type": "bar",
         "x": [
          "None",
          "Indirect paths<br>(except L11H10)",
          "Indirect paths<br>(all)",
          "Direct path"
         ],
         "y": [
          3.0289,
          3.0297,
          3.0305,
          3.0391000000000004
         ]
        }
       ],
       "layout": {
        "bargap": 0.45,
        "font": {
         "size": 14
        },
        "height": 900,
        "images": [
         {
          "layer": "below",
          "sizex": 0.5,
          "sizey": 0.0035,
          "sizing": "contain",
          "source": "data:image/svg+xml;base64,PHN2ZyB4bWxucz0iaHR0cDovL3d3dy53My5vcmcvMjAwMC9zdmciIHhtbG5zOnhsaW5rPSJodHRwOi8vd3d3LnczLm9yZy8xOTk5L3hsaW5rIiB4bWxuczpsdWNpZD0ibHVjaWQiIHdpZHRoPSIxNTAiIGhlaWdodD0iMTYxIj48ZyB0cmFuc2Zvcm09InRyYW5zbGF0ZSgtMzg3IC0zNDUpIiBsdWNpZDpwYWdlLXRhYi1pZD0iMF8wIj48cGF0aCBkPSJNNTIwIDM3MS4xYzAgNS45Ni00LjgzIDEwLjgtMTAuOCAxMC44LTUuOTQgMC0xMC43Ny00Ljg0LTEwLjc3LTEwLjggMC01Ljk1IDQuODMtMTAuNzggMTAuNzgtMTAuNzggNS45NyAwIDEwLjggNC44MyAxMC44IDEwLjh6IiBzdHJva2U9IiMwMDAiIHN0cm9rZS13aWR0aD0iMyIgZmlsbD0iI2ZmZiIvPjxwYXRoIGQ9Ik01MDkuMiAzODQuOXY0OS4zNCIgc3Ryb2tlPSIjMDAwIiBzdHJva2Utd2lkdGg9IjMiIGZpbGw9Im5vbmUiLz48cGF0aCBkPSJNNTA5LjIgMzgzLjRsMS41LS4ydjEuNzRoLTN2LTEuNzN6TTUxMC43IDQzNmwtMS40NC0uMjYtMS41NS4xOHYtMS43aDN6IiBzdHJva2U9IiMwMDAiIHN0cm9rZS13aWR0aD0iLjA1Ii8+PHBhdGggZD0iTTUxOC41NiA0NDYuNmMwIDUuMTYtNC4xOCA5LjM0LTkuMzQgOS4zNC01LjE3IDAtOS4zNS00LjE4LTkuMzUtOS4zNHM0LjItOS4zNSA5LjM0LTkuMzVjNS4xOCAwIDkuMzYgNC4yIDkuMzYgOS4zNXpNNTIwIDQ3OC45NWMwIDUuOTYtNC44MyAxMC44LTEwLjggMTAuOC01Ljk0IDAtMTAuNzctNC44NC0xMC43Ny0xMC44IDAtNS45NSA0LjgzLTEwLjc4IDEwLjc4LTEwLjc4IDUuOTcgMCAxMC44IDQuODMgMTAuOCAxMC43OHoiIHN0cm9rZT0iIzAwMCIgc3Ryb2tlLXdpZHRoPSIzIiBmaWxsPSIjZmZmIi8+PHBhdGggZD0iTTQ5OC40MyA0NDIuNTRhNiA2IDAgMCAxIDYtNkg1MTRhNiA2IDAgMCAxIDYgNnY5LjU3YTYgNiAwIDAgMS02IDZoLTkuNTdhNiA2IDAgMCAxLTYtNnoiIGZpbGw9Im5vbmUiLz48dXNlIHhsaW5rOmhyZWY9IiNhIiB0cmFuc2Zvcm09Im1hdHJpeCgxLDAsMCwxLDQ5OC40MzA1OTMyMjYzNTQzNSw0MzYuNTQwOTkwMDU3MjczNDYpIHRyYW5zbGF0ZSg0LjUxODUxODUxODUxODUyNCAxNy43Nzc3Nzc3Nzc3Nzc3NjQpIi8+PHBhdGggZD0iTTUwOS4yIDQ1OC45NXY2LjIiIHN0cm9rZT0iIzAwMCIgc3Ryb2tlLXdpZHRoPSIzIiBmaWxsPSJub25lIi8+PHBhdGggZD0iTTUwOS4xNyA0NTcuNDZsMS41NC0uMTh2MS43aC0zdi0xLjc4ek01MTAuNyA0NjYuODVsLTEuNS0uMi0xLjUuMnYtMS43M2gzeiIgc3Ryb2tlPSIjMDAwIiBzdHJva2Utd2lkdGg9Ii4wNSIvPjxwYXRoIGQ9Ik00MjMgNDI0Ljc0YzAgNS45Ni00Ljg0IDEwLjgtMTAuOCAxMC44LTUuOTUgMC0xMC43OC00Ljg0LTEwLjc4LTEwLjggMC01Ljk1IDQuODMtMTAuNzggMTAuOC0xMC43OCA1Ljk0IDAgMTAuNzcgNC44MyAxMC43NyAxMC43OHoiIHN0cm9rZT0iIzAwMCIgc3Ryb2tlLXdpZHRoPSIzIiBmaWxsPSIjZmZmIi8+PHBhdGggZD0iTTQ1OS4zIDQwNC45NnYxOS44NGEuMjMuMjMgMCAwIDEtLjI0LjIzLjIzLjIzIDAgMCAwLS4yMy4yM3YxOS44NE00NTkuMyA0MDV2LTEuNTRNNDU4LjgzIDQ0NS4wNnYxLjU0IiBzdHJva2U9IiMwMDAiIHN0cm9rZS13aWR0aD0iMyIgZmlsbD0ibm9uZSIvPjxwYXRoIGQ9Ik00NzAuMDIgNDI0LjdjMCA1Ljk2LTQuODMgMTAuOC0xMC44IDEwLjgtNS45NCAwLTEwLjc3LTQuODQtMTAuNzctMTAuOCAwLTUuOTUgNC44My0xMC43OCAxMC43OC0xMC43OCA1Ljk2IDAgMTAuOCA0LjgzIDEwLjggMTAuOHoiIHN0cm9rZT0iIzAwMCIgc3Ryb2tlLXdpZHRoPSIzIiBmaWxsPSIjZmZmIi8+PHBhdGggZD0iTTQ2MC4zMyA0MDMuNDZoMjMuN3YuMDJoMjMuN000NjAuMzcgNDAzLjQ2aC0xLjU0TTUwNy42OCA0MDMuNDhoMS41M000MTIuMiA0MTAuOTV2LTEuNWE2IDYgMCAwIDEgNi02aDM5LjEzIiBzdHJva2U9IiMwMDAiIHN0cm9rZS13aWR0aD0iMyIgZmlsbD0ibm9uZSIvPjxwYXRoIGQ9Ik00MTMuNyA0MTIuNjRsLTEuNS0uMi0xLjUuMnYtMS43M2gzeiIgc3Ryb2tlPSIjMDAwIiBzdHJva2Utd2lkdGg9Ii4wNSIvPjxwYXRoIGQ9Ik00NTcuMyA0MDMuNDZoMS41M000NjAuMzMgNDQ2LjZoMzYuNTNNNDYwLjM3IDQ0Ni42aC0xLjU0IiBzdHJva2U9IiMwMDAiIHN0cm9rZS13aWR0aD0iMyIgZmlsbD0ibm9uZSIvPjxwYXRoIGQ9Ik00OTguMzYgNDQ2LjU2bC4xOCAxLjU0aC0xLjcydi0zaDEuOHoiIHN0cm9rZT0iIzAwMCIgc3Ryb2tlLXdpZHRoPSIuMDUiLz48cGF0aCBkPSJNNDEyLjI0IDQzOC41NHYyLjA2YTYgNiAwIDAgMCA2IDZoMzkuMSIgc3Ryb2tlPSIjMDAwIiBzdHJva2Utd2lkdGg9IjMiIGZpbGw9Im5vbmUiLz48cGF0aCBkPSJNNDEzLjc0IDQzOC41OGgtM3YtMS43M2wxLjQ3LjIgMS41NC0uMnoiIHN0cm9rZT0iIzAwMCIgc3Ryb2tlLXdpZHRoPSIuMDUiLz48cGF0aCBkPSJNNDU3LjMgNDQ2LjZoMS41MyIgc3Ryb2tlPSIjMDAwIiBzdHJva2Utd2lkdGg9IjMiIGZpbGw9Im5vbmUiLz48ZGVmcz48cGF0aCBmaWxsPSIjM2E0MTRhIiBkPSJNMTE4LTEwN3Y3NUg5MnYtNzVIMTh2LTI2aDc0di03NWgyNnY3NWg3NHYyNmgtNzQiIGlkPSJiIi8+PHVzZSB0cmFuc2Zvcm09Im1hdHJpeCgwLjA2MTcyODM5NTA2MTcyODM0LDAsMCwwLjA2MTcyODM5NTA2MTcyODM0LDAsMCkiIHhsaW5rOmhyZWY9IiNiIiBpZD0iYSIvPjwvZGVmcz48L2c+PC9zdmc+",
          "x": "None",
          "xanchor": "center",
          "xref": "x",
          "y": 3.0294000000000003,
          "yanchor": "bottom",
          "yref": "y"
         },
         {
          "layer": "below",
          "sizex": 0.5,
          "sizey": 0.0035,
          "sizing": "contain",
          "source": "data:image/svg+xml;base64,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",
          "x": "Indirect paths<br>(except L11H10)",
          "xanchor": "center",
          "xref": "x",
          "y": 3.0302000000000002,
          "yanchor": "bottom",
          "yref": "y"
         },
         {
          "layer": "below",
          "sizex": 0.5,
          "sizey": 0.0035,
          "sizing": "contain",
          "source": "data:image/svg+xml;base64,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",
          "x": "Indirect paths<br>(all)",
          "xanchor": "center",
          "xref": "x",
          "y": 3.031,
          "yanchor": "bottom",
          "yref": "y"
         },
         {
          "layer": "below",
          "sizex": 0.5,
          "sizey": 0.0035,
          "sizing": "contain",
          "source": "data:image/svg+xml;base64,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",
          "x": "Direct path",
          "xanchor": "center",
          "xref": "x",
          "y": 3.0396000000000005,
          "yanchor": "bottom",
          "yref": "y"
         },
         {
          "layer": "below",
          "sizex": 0.45,
          "sizey": 0.45,
          "sizing": "contain",
          "source": "data:image/svg+xml;base64,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",
          "x": 0.35,
          "xanchor": "center",
          "xref": "paper",
          "y": 0.76,
          "yanchor": "middle",
          "yref": "paper"
         }
        ],
        "margin": {
         "b": 120,
         "l": 120,
         "r": 60,
         "t": 140
        },
        "template": {
         "data": {
          "bar": [
           {
            "error_x": {
             "color": "rgb(36,36,36)"
            },
            "error_y": {
             "color": "rgb(36,36,36)"
            },
            "marker": {
             "line": {
              "color": "white",
              "width": 0.5
             },
             "pattern": {
              "fillmode": "overlay",
              "size": 10,
              "solidity": 0.2
             }
            },
            "type": "bar"
           }
          ],
          "barpolar": [
           {
            "marker": {
             "line": {
              "color": "white",
              "width": 0.5
             },
             "pattern": {
              "fillmode": "overlay",
              "size": 10,
              "solidity": 0.2
             }
            },
            "type": "barpolar"
           }
          ],
          "carpet": [
           {
            "aaxis": {
             "endlinecolor": "rgb(36,36,36)",
             "gridcolor": "white",
             "linecolor": "white",
             "minorgridcolor": "white",
             "startlinecolor": "rgb(36,36,36)"
            },
            "baxis": {
             "endlinecolor": "rgb(36,36,36)",
             "gridcolor": "white",
             "linecolor": "white",
             "minorgridcolor": "white",
             "startlinecolor": "rgb(36,36,36)"
            },
            "type": "carpet"
           }
          ],
          "choropleth": [
           {
            "colorbar": {
             "outlinewidth": 1,
             "tickcolor": "rgb(36,36,36)",
             "ticks": "outside"
            },
            "type": "choropleth"
           }
          ],
          "contour": [
           {
            "colorbar": {
             "outlinewidth": 1,
             "tickcolor": "rgb(36,36,36)",
             "ticks": "outside"
            },
            "colorscale": [
             [
              0,
              "#440154"
             ],
             [
              0.1111111111111111,
              "#482878"
             ],
             [
              0.2222222222222222,
              "#3e4989"
             ],
             [
              0.3333333333333333,
              "#31688e"
             ],
             [
              0.4444444444444444,
              "#26828e"
             ],
             [
              0.5555555555555556,
              "#1f9e89"
             ],
             [
              0.6666666666666666,
              "#35b779"
             ],
             [
              0.7777777777777778,
              "#6ece58"
             ],
             [
              0.8888888888888888,
              "#b5de2b"
             ],
             [
              1,
              "#fde725"
             ]
            ],
            "type": "contour"
           }
          ],
          "contourcarpet": [
           {
            "colorbar": {
             "outlinewidth": 1,
             "tickcolor": "rgb(36,36,36)",
             "ticks": "outside"
            },
            "type": "contourcarpet"
           }
          ],
          "heatmap": [
           {
            "colorbar": {
             "outlinewidth": 1,
             "tickcolor": "rgb(36,36,36)",
             "ticks": "outside"
            },
            "colorscale": [
             [
              0,
              "#440154"
             ],
             [
              0.1111111111111111,
              "#482878"
             ],
             [
              0.2222222222222222,
              "#3e4989"
             ],
             [
              0.3333333333333333,
              "#31688e"
             ],
             [
              0.4444444444444444,
              "#26828e"
             ],
             [
              0.5555555555555556,
              "#1f9e89"
             ],
             [
              0.6666666666666666,
              "#35b779"
             ],
             [
              0.7777777777777778,
              "#6ece58"
             ],
             [
              0.8888888888888888,
              "#b5de2b"
             ],
             [
              1,
              "#fde725"
             ]
            ],
            "type": "heatmap"
           }
          ],
          "heatmapgl": [
           {
            "colorbar": {
             "outlinewidth": 1,
             "tickcolor": "rgb(36,36,36)",
             "ticks": "outside"
            },
            "colorscale": [
             [
              0,
              "#440154"
             ],
             [
              0.1111111111111111,
              "#482878"
             ],
             [
              0.2222222222222222,
              "#3e4989"
             ],
             [
              0.3333333333333333,
              "#31688e"
             ],
             [
              0.4444444444444444,
              "#26828e"
             ],
             [
              0.5555555555555556,
              "#1f9e89"
             ],
             [
              0.6666666666666666,
              "#35b779"
             ],
             [
              0.7777777777777778,
              "#6ece58"
             ],
             [
              0.8888888888888888,
              "#b5de2b"
             ],
             [
              1,
              "#fde725"
             ]
            ],
            "type": "heatmapgl"
           }
          ],
          "histogram": [
           {
            "marker": {
             "line": {
              "color": "white",
              "width": 0.6
             }
            },
            "type": "histogram"
           }
          ],
          "histogram2d": [
           {
            "colorbar": {
             "outlinewidth": 1,
             "tickcolor": "rgb(36,36,36)",
             "ticks": "outside"
            },
            "colorscale": [
             [
              0,
              "#440154"
             ],
             [
              0.1111111111111111,
              "#482878"
             ],
             [
              0.2222222222222222,
              "#3e4989"
             ],
             [
              0.3333333333333333,
              "#31688e"
             ],
             [
              0.4444444444444444,
              "#26828e"
             ],
             [
              0.5555555555555556,
              "#1f9e89"
             ],
             [
              0.6666666666666666,
              "#35b779"
             ],
             [
              0.7777777777777778,
              "#6ece58"
             ],
             [
              0.8888888888888888,
              "#b5de2b"
             ],
             [
              1,
              "#fde725"
             ]
            ],
            "type": "histogram2d"
           }
          ],
          "histogram2dcontour": [
           {
            "colorbar": {
             "outlinewidth": 1,
             "tickcolor": "rgb(36,36,36)",
             "ticks": "outside"
            },
            "colorscale": [
             [
              0,
              "#440154"
             ],
             [
              0.1111111111111111,
              "#482878"
             ],
             [
              0.2222222222222222,
              "#3e4989"
             ],
             [
              0.3333333333333333,
              "#31688e"
             ],
             [
              0.4444444444444444,
              "#26828e"
             ],
             [
              0.5555555555555556,
              "#1f9e89"
             ],
             [
              0.6666666666666666,
              "#35b779"
             ],
             [
              0.7777777777777778,
              "#6ece58"
             ],
             [
              0.8888888888888888,
              "#b5de2b"
             ],
             [
              1,
              "#fde725"
             ]
            ],
            "type": "histogram2dcontour"
           }
          ],
          "mesh3d": [
           {
            "colorbar": {
             "outlinewidth": 1,
             "tickcolor": "rgb(36,36,36)",
             "ticks": "outside"
            },
            "type": "mesh3d"
           }
          ],
          "parcoords": [
           {
            "line": {
             "colorbar": {
              "outlinewidth": 1,
              "tickcolor": "rgb(36,36,36)",
              "ticks": "outside"
             }
            },
            "type": "parcoords"
           }
          ],
          "pie": [
           {
            "automargin": true,
            "type": "pie"
           }
          ],
          "scatter": [
           {
            "fillpattern": {
             "fillmode": "overlay",
             "size": 10,
             "solidity": 0.2
            },
            "type": "scatter"
           }
          ],
          "scatter3d": [
           {
            "line": {
             "colorbar": {
              "outlinewidth": 1,
              "tickcolor": "rgb(36,36,36)",
              "ticks": "outside"
             }
            },
            "marker": {
             "colorbar": {
              "outlinewidth": 1,
              "tickcolor": "rgb(36,36,36)",
              "ticks": "outside"
             }
            },
            "type": "scatter3d"
           }
          ],
          "scattercarpet": [
           {
            "marker": {
             "colorbar": {
              "outlinewidth": 1,
              "tickcolor": "rgb(36,36,36)",
              "ticks": "outside"
             }
            },
            "type": "scattercarpet"
           }
          ],
          "scattergeo": [
           {
            "marker": {
             "colorbar": {
              "outlinewidth": 1,
              "tickcolor": "rgb(36,36,36)",
              "ticks": "outside"
             }
            },
            "type": "scattergeo"
           }
          ],
          "scattergl": [
           {
            "marker": {
             "colorbar": {
              "outlinewidth": 1,
              "tickcolor": "rgb(36,36,36)",
              "ticks": "outside"
             }
            },
            "type": "scattergl"
           }
          ],
          "scattermapbox": [
           {
            "marker": {
             "colorbar": {
              "outlinewidth": 1,
              "tickcolor": "rgb(36,36,36)",
              "ticks": "outside"
             }
            },
            "type": "scattermapbox"
           }
          ],
          "scatterpolar": [
           {
            "marker": {
             "colorbar": {
              "outlinewidth": 1,
              "tickcolor": "rgb(36,36,36)",
              "ticks": "outside"
             }
            },
            "type": "scatterpolar"
           }
          ],
          "scatterpolargl": [
           {
            "marker": {
             "colorbar": {
              "outlinewidth": 1,
              "tickcolor": "rgb(36,36,36)",
              "ticks": "outside"
             }
            },
            "type": "scatterpolargl"
           }
          ],
          "scatterternary": [
           {
            "marker": {
             "colorbar": {
              "outlinewidth": 1,
              "tickcolor": "rgb(36,36,36)",
              "ticks": "outside"
             }
            },
            "type": "scatterternary"
           }
          ],
          "surface": [
           {
            "colorbar": {
             "outlinewidth": 1,
             "tickcolor": "rgb(36,36,36)",
             "ticks": "outside"
            },
            "colorscale": [
             [
              0,
              "#440154"
             ],
             [
              0.1111111111111111,
              "#482878"
             ],
             [
              0.2222222222222222,
              "#3e4989"
             ],
             [
              0.3333333333333333,
              "#31688e"
             ],
             [
              0.4444444444444444,
              "#26828e"
             ],
             [
              0.5555555555555556,
              "#1f9e89"
             ],
             [
              0.6666666666666666,
              "#35b779"
             ],
             [
              0.7777777777777778,
              "#6ece58"
             ],
             [
              0.8888888888888888,
              "#b5de2b"
             ],
             [
              1,
              "#fde725"
             ]
            ],
            "type": "surface"
           }
          ],
          "table": [
           {
            "cells": {
             "fill": {
              "color": "rgb(237,237,237)"
             },
             "line": {
              "color": "white"
             }
            },
            "header": {
             "fill": {
              "color": "rgb(217,217,217)"
             },
             "line": {
              "color": "white"
             }
            },
            "type": "table"
           }
          ]
         },
         "layout": {
          "annotationdefaults": {
           "arrowhead": 0,
           "arrowwidth": 1
          },
          "autotypenumbers": "strict",
          "coloraxis": {
           "colorbar": {
            "outlinewidth": 1,
            "tickcolor": "rgb(36,36,36)",
            "ticks": "outside"
           }
          },
          "colorscale": {
           "diverging": [
            [
             0,
             "rgb(103,0,31)"
            ],
            [
             0.1,
             "rgb(178,24,43)"
            ],
            [
             0.2,
             "rgb(214,96,77)"
            ],
            [
             0.3,
             "rgb(244,165,130)"
            ],
            [
             0.4,
             "rgb(253,219,199)"
            ],
            [
             0.5,
             "rgb(247,247,247)"
            ],
            [
             0.6,
             "rgb(209,229,240)"
            ],
            [
             0.7,
             "rgb(146,197,222)"
            ],
            [
             0.8,
             "rgb(67,147,195)"
            ],
            [
             0.9,
             "rgb(33,102,172)"
            ],
            [
             1,
             "rgb(5,48,97)"
            ]
           ],
           "sequential": [
            [
             0,
             "#440154"
            ],
            [
             0.1111111111111111,
             "#482878"
            ],
            [
             0.2222222222222222,
             "#3e4989"
            ],
            [
             0.3333333333333333,
             "#31688e"
            ],
            [
             0.4444444444444444,
             "#26828e"
            ],
            [
             0.5555555555555556,
             "#1f9e89"
            ],
            [
             0.6666666666666666,
             "#35b779"
            ],
            [
             0.7777777777777778,
             "#6ece58"
            ],
            [
             0.8888888888888888,
             "#b5de2b"
            ],
            [
             1,
             "#fde725"
            ]
           ],
           "sequentialminus": [
            [
             0,
             "#440154"
            ],
            [
             0.1111111111111111,
             "#482878"
            ],
            [
             0.2222222222222222,
             "#3e4989"
            ],
            [
             0.3333333333333333,
             "#31688e"
            ],
            [
             0.4444444444444444,
             "#26828e"
            ],
            [
             0.5555555555555556,
             "#1f9e89"
            ],
            [
             0.6666666666666666,
             "#35b779"
            ],
            [
             0.7777777777777778,
             "#6ece58"
            ],
            [
             0.8888888888888888,
             "#b5de2b"
            ],
            [
             1,
             "#fde725"
            ]
           ]
          },
          "colorway": [
           "#1F77B4",
           "#FF7F0E",
           "#2CA02C",
           "#D62728",
           "#9467BD",
           "#8C564B",
           "#E377C2",
           "#7F7F7F",
           "#BCBD22",
           "#17BECF"
          ],
          "font": {
           "color": "rgb(36,36,36)"
          },
          "geo": {
           "bgcolor": "white",
           "lakecolor": "white",
           "landcolor": "white",
           "showlakes": true,
           "showland": true,
           "subunitcolor": "white"
          },
          "hoverlabel": {
           "align": "left"
          },
          "hovermode": "closest",
          "mapbox": {
           "style": "light"
          },
          "paper_bgcolor": "white",
          "plot_bgcolor": "white",
          "polar": {
           "angularaxis": {
            "gridcolor": "rgb(232,232,232)",
            "linecolor": "rgb(36,36,36)",
            "showgrid": false,
            "showline": true,
            "ticks": "outside"
           },
           "bgcolor": "white",
           "radialaxis": {
            "gridcolor": "rgb(232,232,232)",
            "linecolor": "rgb(36,36,36)",
            "showgrid": false,
            "showline": true,
            "ticks": "outside"
           }
          },
          "scene": {
           "xaxis": {
            "backgroundcolor": "white",
            "gridcolor": "rgb(232,232,232)",
            "gridwidth": 2,
            "linecolor": "rgb(36,36,36)",
            "showbackground": true,
            "showgrid": false,
            "showline": true,
            "ticks": "outside",
            "zeroline": false,
            "zerolinecolor": "rgb(36,36,36)"
           },
           "yaxis": {
            "backgroundcolor": "white",
            "gridcolor": "rgb(232,232,232)",
            "gridwidth": 2,
            "linecolor": "rgb(36,36,36)",
            "showbackground": true,
            "showgrid": false,
            "showline": true,
            "ticks": "outside",
            "zeroline": false,
            "zerolinecolor": "rgb(36,36,36)"
           },
           "zaxis": {
            "backgroundcolor": "white",
            "gridcolor": "rgb(232,232,232)",
            "gridwidth": 2,
            "linecolor": "rgb(36,36,36)",
            "showbackground": true,
            "showgrid": false,
            "showline": true,
            "ticks": "outside",
            "zeroline": false,
            "zerolinecolor": "rgb(36,36,36)"
           }
          },
          "shapedefaults": {
           "fillcolor": "black",
           "line": {
            "width": 0
           },
           "opacity": 0.3
          },
          "ternary": {
           "aaxis": {
            "gridcolor": "rgb(232,232,232)",
            "linecolor": "rgb(36,36,36)",
            "showgrid": false,
            "showline": true,
            "ticks": "outside"
           },
           "baxis": {
            "gridcolor": "rgb(232,232,232)",
            "linecolor": "rgb(36,36,36)",
            "showgrid": false,
            "showline": true,
            "ticks": "outside"
           },
           "bgcolor": "white",
           "caxis": {
            "gridcolor": "rgb(232,232,232)",
            "linecolor": "rgb(36,36,36)",
            "showgrid": false,
            "showline": true,
            "ticks": "outside"
           }
          },
          "title": {
           "x": 0.05
          },
          "xaxis": {
           "automargin": true,
           "gridcolor": "rgb(232,232,232)",
           "linecolor": "rgb(36,36,36)",
           "showgrid": false,
           "showline": true,
           "ticks": "outside",
           "title": {
            "standoff": 15
           },
           "zeroline": false,
           "zerolinecolor": "rgb(36,36,36)"
          },
          "yaxis": {
           "automargin": true,
           "gridcolor": "rgb(232,232,232)",
           "linecolor": "rgb(36,36,36)",
           "showgrid": false,
           "showline": true,
           "ticks": "outside",
           "title": {
            "standoff": 15
           },
           "zeroline": false,
           "zerolinecolor": "rgb(36,36,36)"
          }
         }
        },
        "title": {
         "font": {
          "size": 26
         },
         "text": "Comparison of different ablations for L10H7",
         "y": 0.95
        },
        "width": 1200,
        "xaxis": {
         "title": {
          "standoff": 30,
          "text": "Ablated paths"
         }
        },
        "yaxis": {
         "range": [
          3.0279000000000003,
          3.0441000000000003
         ],
         "title": {
          "text": "Loss"
         }
        }
       }
      },
      "text/html": [
       "<div>                            <div id=\"ad227d2e-2b08-4603-869e-a5f5ecb0cb5e\" class=\"plotly-graph-div\" style=\"height:900px; width:1200px;\"></div>            <script type=\"text/javascript\">                require([\"plotly\"], function(Plotly) {                    window.PLOTLYENV=window.PLOTLYENV || {};                                    if (document.getElementById(\"ad227d2e-2b08-4603-869e-a5f5ecb0cb5e\")) {                    Plotly.newPlot(                        \"ad227d2e-2b08-4603-869e-a5f5ecb0cb5e\",                        [{\"hoverinfo\":\"y\",\"marker\":{\"color\":\"salmon\"},\"text\":[\"\",\"+0.0008\",\"+0.0016\",\"+0.0102\"],\"textposition\":\"inside\",\"x\":[\"None\",\"Indirect paths\\u003cbr\\u003e(except L11H10)\",\"Indirect paths\\u003cbr\\u003e(all)\",\"Direct path\"],\"y\":[3.0289,3.0297,3.0305,3.0391000000000004],\"type\":\"bar\"}],                        {\"template\":{\"data\":{\"barpolar\":[{\"marker\":{\"line\":{\"color\":\"white\",\"width\":0.5},\"pattern\":{\"fillmode\":\"overlay\",\"size\":10,\"solidity\":0.2}},\"type\":\"barpolar\"}],\"bar\":[{\"error_x\":{\"color\":\"rgb(36,36,36)\"},\"error_y\":{\"color\":\"rgb(36,36,36)\"},\"marker\":{\"line\":{\"color\":\"white\",\"width\":0.5},\"pattern\":{\"fillmode\":\"overlay\",\"size\":10,\"solidity\":0.2}},\"type\":\"bar\"}],\"carpet\":[{\"aaxis\":{\"endlinecolor\":\"rgb(36,36,36)\",\"gridcolor\":\"white\",\"linecolor\":\"white\",\"minorgridcolor\":\"white\",\"startlinecolor\":\"rgb(36,36,36)\"},\"baxis\":{\"endlinecolor\":\"rgb(36,36,36)\",\"gridcolor\":\"white\",\"linecolor\":\"white\",\"minorgridcolor\":\"white\",\"startlinecolor\":\"rgb(36,36,36)\"},\"type\":\"carpet\"}],\"choropleth\":[{\"colorbar\":{\"outlinewidth\":1,\"tickcolor\":\"rgb(36,36,36)\",\"ticks\":\"outside\"},\"type\":\"choropleth\"}],\"contourcarpet\":[{\"colorbar\":{\"outlinewidth\":1,\"tickcolor\":\"rgb(36,36,36)\",\"ticks\":\"outside\"},\"type\":\"contourcarpet\"}],\"contour\":[{\"colorbar\":{\"outlinewidth\":1,\"tickcolor\":\"rgb(36,36,36)\",\"ticks\":\"outside\"},\"colorscale\":[[0.0,\"#440154\"],[0.1111111111111111,\"#482878\"],[0.2222222222222222,\"#3e4989\"],[0.3333333333333333,\"#31688e\"],[0.4444444444444444,\"#26828e\"],[0.5555555555555556,\"#1f9e89\"],[0.6666666666666666,\"#35b779\"],[0.7777777777777778,\"#6ece58\"],[0.8888888888888888,\"#b5de2b\"],[1.0,\"#fde725\"]],\"type\":\"contour\"}],\"heatmapgl\":[{\"colorbar\":{\"outlinewidth\":1,\"tickcolor\":\"rgb(36,36,36)\",\"ticks\":\"outside\"},\"colorscale\":[[0.0,\"#440154\"],[0.1111111111111111,\"#482878\"],[0.2222222222222222,\"#3e4989\"],[0.3333333333333333,\"#31688e\"],[0.4444444444444444,\"#26828e\"],[0.5555555555555556,\"#1f9e89\"],[0.6666666666666666,\"#35b779\"],[0.7777777777777778,\"#6ece58\"],[0.8888888888888888,\"#b5de2b\"],[1.0,\"#fde725\"]],\"type\":\"heatmapgl\"}],\"heatmap\":[{\"colorbar\":{\"outlinewidth\":1,\"tickcolor\":\"rgb(36,36,36)\",\"ticks\":\"outside\"},\"colorscale\":[[0.0,\"#440154\"],[0.1111111111111111,\"#482878\"],[0.2222222222222222,\"#3e4989\"],[0.3333333333333333,\"#31688e\"],[0.4444444444444444,\"#26828e\"],[0.5555555555555556,\"#1f9e89\"],[0.6666666666666666,\"#35b779\"],[0.7777777777777778,\"#6ece58\"],[0.8888888888888888,\"#b5de2b\"],[1.0,\"#fde725\"]],\"type\":\"heatmap\"}],\"histogram2dcontour\":[{\"colorbar\":{\"outlinewidth\":1,\"tickcolor\":\"rgb(36,36,36)\",\"ticks\":\"outside\"},\"colorscale\":[[0.0,\"#440154\"],[0.1111111111111111,\"#482878\"],[0.2222222222222222,\"#3e4989\"],[0.3333333333333333,\"#31688e\"],[0.4444444444444444,\"#26828e\"],[0.5555555555555556,\"#1f9e89\"],[0.6666666666666666,\"#35b779\"],[0.7777777777777778,\"#6ece58\"],[0.8888888888888888,\"#b5de2b\"],[1.0,\"#fde725\"]],\"type\":\"histogram2dcontour\"}],\"histogram2d\":[{\"colorbar\":{\"outlinewidth\":1,\"tickcolor\":\"rgb(36,36,36)\",\"ticks\":\"outside\"},\"colorscale\":[[0.0,\"#440154\"],[0.1111111111111111,\"#482878\"],[0.2222222222222222,\"#3e4989\"],[0.3333333333333333,\"#31688e\"],[0.4444444444444444,\"#26828e\"],[0.5555555555555556,\"#1f9e89\"],[0.6666666666666666,\"#35b779\"],[0.7777777777777778,\"#6ece58\"],[0.8888888888888888,\"#b5de2b\"],[1.0,\"#fde725\"]],\"type\":\"histogram2d\"}],\"histogram\":[{\"marker\":{\"line\":{\"color\":\"white\",\"width\":0.6}},\"type\":\"histogram\"}],\"mesh3d\":[{\"colorbar\":{\"outlinewidth\":1,\"tickcolor\":\"rgb(36,36,36)\",\"ticks\":\"outside\"},\"type\":\"mesh3d\"}],\"parcoords\":[{\"line\":{\"colorbar\":{\"outlinewidth\":1,\"tickcolor\":\"rgb(36,36,36)\",\"ticks\":\"outside\"}},\"type\":\"parcoords\"}],\"pie\":[{\"automargin\":true,\"type\":\"pie\"}],\"scatter3d\":[{\"line\":{\"colorbar\":{\"outlinewidth\":1,\"tickcolor\":\"rgb(36,36,36)\",\"ticks\":\"outside\"}},\"marker\":{\"colorbar\":{\"outlinewidth\":1,\"tickcolor\":\"rgb(36,36,36)\",\"ticks\":\"outside\"}},\"type\":\"scatter3d\"}],\"scattercarpet\":[{\"marker\":{\"colorbar\":{\"outlinewidth\":1,\"tickcolor\":\"rgb(36,36,36)\",\"ticks\":\"outside\"}},\"type\":\"scattercarpet\"}],\"scattergeo\":[{\"marker\":{\"colorbar\":{\"outlinewidth\":1,\"tickcolor\":\"rgb(36,36,36)\",\"ticks\":\"outside\"}},\"type\":\"scattergeo\"}],\"scattergl\":[{\"marker\":{\"colorbar\":{\"outlinewidth\":1,\"tickcolor\":\"rgb(36,36,36)\",\"ticks\":\"outside\"}},\"type\":\"scattergl\"}],\"scattermapbox\":[{\"marker\":{\"colorbar\":{\"outlinewidth\":1,\"tickcolor\":\"rgb(36,36,36)\",\"ticks\":\"outside\"}},\"type\":\"scattermapbox\"}],\"scatterpolargl\":[{\"marker\":{\"colorbar\":{\"outlinewidth\":1,\"tickcolor\":\"rgb(36,36,36)\",\"ticks\":\"outside\"}},\"type\":\"scatterpolargl\"}],\"scatterpolar\":[{\"marker\":{\"colorbar\":{\"outlinewidth\":1,\"tickcolor\":\"rgb(36,36,36)\",\"ticks\":\"outside\"}},\"type\":\"scatterpolar\"}],\"scatter\":[{\"fillpattern\":{\"fillmode\":\"overlay\",\"size\":10,\"solidity\":0.2},\"type\":\"scatter\"}],\"scatterternary\":[{\"marker\":{\"colorbar\":{\"outlinewidth\":1,\"tickcolor\":\"rgb(36,36,36)\",\"ticks\":\"outside\"}},\"type\":\"scatterternary\"}],\"surface\":[{\"colorbar\":{\"outlinewidth\":1,\"tickcolor\":\"rgb(36,36,36)\",\"ticks\":\"outside\"},\"colorscale\":[[0.0,\"#440154\"],[0.1111111111111111,\"#482878\"],[0.2222222222222222,\"#3e4989\"],[0.3333333333333333,\"#31688e\"],[0.4444444444444444,\"#26828e\"],[0.5555555555555556,\"#1f9e89\"],[0.6666666666666666,\"#35b779\"],[0.7777777777777778,\"#6ece58\"],[0.8888888888888888,\"#b5de2b\"],[1.0,\"#fde725\"]],\"type\":\"surface\"}],\"table\":[{\"cells\":{\"fill\":{\"color\":\"rgb(237,237,237)\"},\"line\":{\"color\":\"white\"}},\"header\":{\"fill\":{\"color\":\"rgb(217,217,217)\"},\"line\":{\"color\":\"white\"}},\"type\":\"table\"}]},\"layout\":{\"annotationdefaults\":{\"arrowhead\":0,\"arrowwidth\":1},\"autotypenumbers\":\"strict\",\"coloraxis\":{\"colorbar\":{\"outlinewidth\":1,\"tickcolor\":\"rgb(36,36,36)\",\"ticks\":\"outside\"}},\"colorscale\":{\"diverging\":[[0.0,\"rgb(103,0,31)\"],[0.1,\"rgb(178,24,43)\"],[0.2,\"rgb(214,96,77)\"],[0.3,\"rgb(244,165,130)\"],[0.4,\"rgb(253,219,199)\"],[0.5,\"rgb(247,247,247)\"],[0.6,\"rgb(209,229,240)\"],[0.7,\"rgb(146,197,222)\"],[0.8,\"rgb(67,147,195)\"],[0.9,\"rgb(33,102,172)\"],[1.0,\"rgb(5,48,97)\"]],\"sequential\":[[0.0,\"#440154\"],[0.1111111111111111,\"#482878\"],[0.2222222222222222,\"#3e4989\"],[0.3333333333333333,\"#31688e\"],[0.4444444444444444,\"#26828e\"],[0.5555555555555556,\"#1f9e89\"],[0.6666666666666666,\"#35b779\"],[0.7777777777777778,\"#6ece58\"],[0.8888888888888888,\"#b5de2b\"],[1.0,\"#fde725\"]],\"sequentialminus\":[[0.0,\"#440154\"],[0.1111111111111111,\"#482878\"],[0.2222222222222222,\"#3e4989\"],[0.3333333333333333,\"#31688e\"],[0.4444444444444444,\"#26828e\"],[0.5555555555555556,\"#1f9e89\"],[0.6666666666666666,\"#35b779\"],[0.7777777777777778,\"#6ece58\"],[0.8888888888888888,\"#b5de2b\"],[1.0,\"#fde725\"]]},\"colorway\":[\"#1F77B4\",\"#FF7F0E\",\"#2CA02C\",\"#D62728\",\"#9467BD\",\"#8C564B\",\"#E377C2\",\"#7F7F7F\",\"#BCBD22\",\"#17BECF\"],\"font\":{\"color\":\"rgb(36,36,36)\"},\"geo\":{\"bgcolor\":\"white\",\"lakecolor\":\"white\",\"landcolor\":\"white\",\"showlakes\":true,\"showland\":true,\"subunitcolor\":\"white\"},\"hoverlabel\":{\"align\":\"left\"},\"hovermode\":\"closest\",\"mapbox\":{\"style\":\"light\"},\"paper_bgcolor\":\"white\",\"plot_bgcolor\":\"white\",\"polar\":{\"angularaxis\":{\"gridcolor\":\"rgb(232,232,232)\",\"linecolor\":\"rgb(36,36,36)\",\"showgrid\":false,\"showline\":true,\"ticks\":\"outside\"},\"bgcolor\":\"white\",\"radialaxis\":{\"gridcolor\":\"rgb(232,232,232)\",\"linecolor\":\"rgb(36,36,36)\",\"showgrid\":false,\"showline\":true,\"ticks\":\"outside\"}},\"scene\":{\"xaxis\":{\"backgroundcolor\":\"white\",\"gridcolor\":\"rgb(232,232,232)\",\"gridwidth\":2,\"linecolor\":\"rgb(36,36,36)\",\"showbackground\":true,\"showgrid\":false,\"showline\":true,\"ticks\":\"outside\",\"zeroline\":false,\"zerolinecolor\":\"rgb(36,36,36)\"},\"yaxis\":{\"backgroundcolor\":\"white\",\"gridcolor\":\"rgb(232,232,232)\",\"gridwidth\":2,\"linecolor\":\"rgb(36,36,36)\",\"showbackground\":true,\"showgrid\":false,\"showline\":true,\"ticks\":\"outside\",\"zeroline\":false,\"zerolinecolor\":\"rgb(36,36,36)\"},\"zaxis\":{\"backgroundcolor\":\"white\",\"gridcolor\":\"rgb(232,232,232)\",\"gridwidth\":2,\"linecolor\":\"rgb(36,36,36)\",\"showbackground\":true,\"showgrid\":false,\"showline\":true,\"ticks\":\"outside\",\"zeroline\":false,\"zerolinecolor\":\"rgb(36,36,36)\"}},\"shapedefaults\":{\"fillcolor\":\"black\",\"line\":{\"width\":0},\"opacity\":0.3},\"ternary\":{\"aaxis\":{\"gridcolor\":\"rgb(232,232,232)\",\"linecolor\":\"rgb(36,36,36)\",\"showgrid\":false,\"showline\":true,\"ticks\":\"outside\"},\"baxis\":{\"gridcolor\":\"rgb(232,232,232)\",\"linecolor\":\"rgb(36,36,36)\",\"showgrid\":false,\"showline\":true,\"ticks\":\"outside\"},\"bgcolor\":\"white\",\"caxis\":{\"gridcolor\":\"rgb(232,232,232)\",\"linecolor\":\"rgb(36,36,36)\",\"showgrid\":false,\"showline\":true,\"ticks\":\"outside\"}},\"title\":{\"x\":0.05},\"xaxis\":{\"automargin\":true,\"gridcolor\":\"rgb(232,232,232)\",\"linecolor\":\"rgb(36,36,36)\",\"showgrid\":false,\"showline\":true,\"ticks\":\"outside\",\"title\":{\"standoff\":15},\"zeroline\":false,\"zerolinecolor\":\"rgb(36,36,36)\"},\"yaxis\":{\"automargin\":true,\"gridcolor\":\"rgb(232,232,232)\",\"linecolor\":\"rgb(36,36,36)\",\"showgrid\":false,\"showline\":true,\"ticks\":\"outside\",\"title\":{\"standoff\":15},\"zeroline\":false,\"zerolinecolor\":\"rgb(36,36,36)\"}}},\"images\":[{\"layer\":\"below\",\"sizex\":0.5,\"sizey\":0.0035,\"sizing\":\"contain\",\"source\":\"data:image\\u002fsvg+xml;base64,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\",\"x\":\"None\",\"xanchor\":\"center\",\"xref\":\"x\",\"y\":3.0294000000000003,\"yanchor\":\"bottom\",\"yref\":\"y\"},{\"layer\":\"below\",\"sizex\":0.5,\"sizey\":0.0035,\"sizing\":\"contain\",\"source\":\"data:image\\u002fsvg+xml;base64,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\",\"x\":\"Indirect paths\\u003cbr\\u003e(except L11H10)\",\"xanchor\":\"center\",\"xref\":\"x\",\"y\":3.0302000000000002,\"yanchor\":\"bottom\",\"yref\":\"y\"},{\"layer\":\"below\",\"sizex\":0.5,\"sizey\":0.0035,\"sizing\":\"contain\",\"source\":\"data:image\\u002fsvg+xml;base64,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\",\"x\":\"Indirect paths\\u003cbr\\u003e(all)\",\"xanchor\":\"center\",\"xref\":\"x\",\"y\":3.031,\"yanchor\":\"bottom\",\"yref\":\"y\"},{\"layer\":\"below\",\"sizex\":0.5,\"sizey\":0.0035,\"sizing\":\"contain\",\"source\":\"data:image\\u002fsvg+xml;base64,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\",\"x\":\"Direct path\",\"xanchor\":\"center\",\"xref\":\"x\",\"y\":3.0396000000000005,\"yanchor\":\"bottom\",\"yref\":\"y\"},{\"layer\":\"below\",\"sizex\":0.45,\"sizey\":0.45,\"sizing\":\"contain\",\"source\":\"data:image\\u002fsvg+xml;base64,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\",\"x\":0.35,\"xanchor\":\"center\",\"xref\":\"paper\",\"y\":0.76,\"yanchor\":\"middle\",\"yref\":\"paper\"}],\"yaxis\":{\"title\":{\"text\":\"Loss\"},\"range\":[3.0279000000000003,3.0441000000000003]},\"font\":{\"size\":14},\"margin\":{\"l\":120,\"r\":60,\"b\":120,\"t\":140},\"title\":{\"text\":\"Comparison of different ablations for L10H7\",\"y\":0.95,\"font\":{\"size\":26}},\"xaxis\":{\"title\":{\"text\":\"Ablated paths\",\"standoff\":30}},\"width\":1200,\"height\":900,\"bargap\":0.45},                        {\"responsive\": true}                    ).then(function(){\n",
       "                            \n",
       "var gd = document.getElementById('ad227d2e-2b08-4603-869e-a5f5ecb0cb5e');\n",
       "var x = new MutationObserver(function (mutations, observer) {{\n",
       "        var display = window.getComputedStyle(gd).display;\n",
       "        if (!display || display === 'none') {{\n",
       "            console.log([gd, 'removed!']);\n",
       "            Plotly.purge(gd);\n",
       "            observer.disconnect();\n",
       "        }}\n",
       "}});\n",
       "\n",
       "// Listen for the removal of the full notebook cells\n",
       "var notebookContainer = gd.closest('#notebook-container');\n",
       "if (notebookContainer) {{\n",
       "    x.observe(notebookContainer, {childList: true});\n",
       "}}\n",
       "\n",
       "// Listen for the clearing of the current output cell\n",
       "var outputEl = gd.closest('.output');\n",
       "if (outputEl) {{\n",
       "    x.observe(outputEl, {childList: true});\n",
       "}}\n",
       "\n",
       "                        })                };                });            </script>        </div>"
      ]
     },
     "metadata": {},
     "output_type": "display_data"
    }
   ],
   "source": [
    "import plotly.graph_objects as go\n",
    "import base64\n",
    "figures_path = Path(r\"/home/ubuntu/SERI-MATS-2023-Streamlit-pages/transformer_lens/rs/callum2/generate_st_html/paper_figures\").resolve()\n",
    "\n",
    "figmain = figures_path / \"cmain.svg\"\n",
    "fig1 = figures_path / \"c1.svg\"\n",
    "fig2 = figures_path / \"c2.svg\"\n",
    "fig3 = figures_path / \"c3.svg\"\n",
    "fig4 = figures_path / \"c4.svg\"\n",
    "fig_dict = {}\n",
    "\n",
    "for path in [figmain, fig1, fig2, fig3, fig4]:\n",
    "    with open(path, \"rb\") as f:\n",
    "        encoded_svg = base64.b64encode(f.read()).decode(\"utf-8\")\n",
    "    svg_data_uri = \"data:image/svg+xml;base64,\" + encoded_svg\n",
    "    fig_dict[path.stem] = svg_data_uri\n",
    "\n",
    "print(fig_dict.keys())\n",
    "\n",
    "c1 = fig_dict[\"c1\"]\n",
    "c2 = fig_dict[\"c2\"]\n",
    "c3 = fig_dict[\"c3\"]\n",
    "c4 = fig_dict[\"c4\"]\n",
    "cmain = fig_dict[\"cmain\"]\n",
    "\n",
    "# Set x value\n",
    "x_value = 3.0289\n",
    "y_values = [x_value, x_value + 0.0008, x_value + 0.0016, x_value + 0.0102]\n",
    "x_labels = [\"None\", \"Indirect paths<br>(except L11H10)\", \"Indirect paths<br>(all)\", \"Direct path\"]\n",
    "\n",
    "# Compute y-axis range\n",
    "y_min = min(y_values) - 0.001\n",
    "y_max = max(y_values) + 0.005\n",
    "\n",
    "# Define the annotations for the bar values\n",
    "annotations = [\n",
    "    dict(\n",
    "        x=x_labels[i],\n",
    "        y=y_val,\n",
    "        text=txt,\n",
    "        showarrow=False,\n",
    "        yshift=10,\n",
    "        font=dict(size=14)\n",
    "    )\n",
    "    for i, (y_val, txt) in enumerate(zip(y_values, [\"\", \"+0.0008\", \"+0.0016\", \"+0.0102\"]))\n",
    "]\n",
    "\n",
    "# Define the list of encoded SVG images\n",
    "encoded_images = [c1, c2, c3, c4]\n",
    "\n",
    "# Create the figure\n",
    "fig = go.Figure()\n",
    "\n",
    "# Add the bars\n",
    "fig.add_trace(go.Bar(\n",
    "    x=x_labels,\n",
    "    y=y_values,\n",
    "    text=[\"\", \"+0.0008\", \"+0.0016\", \"+0.0102\"],\n",
    "    textposition='inside',\n",
    "    marker_color='salmon',\n",
    "    hoverinfo='y',\n",
    "))\n",
    "\n",
    "# Add the images\n",
    "for i, img in enumerate(encoded_images):\n",
    "    fig.add_layout_image(\n",
    "        dict(\n",
    "            source=img,\n",
    "            x=x_labels[i],\n",
    "            y=y_values[i] + 0.0005,\n",
    "            xref=\"x\",\n",
    "            yref=\"y\",\n",
    "            sizex=0.5,\n",
    "            sizey=0.0035,  # Placeholder value\n",
    "            xanchor=\"center\",\n",
    "            yanchor=\"bottom\",\n",
    "            layer=\"below\",\n",
    "            sizing=\"contain\",\n",
    "        )\n",
    "    )\n",
    "\n",
    "fig.add_layout_image(\n",
    "    dict(\n",
    "        source=cmain,\n",
    "        x=0.35,\n",
    "        y=0.76,\n",
    "        xref=\"paper\",\n",
    "        yref=\"paper\",\n",
    "        sizex=0.45,  # Assuming the bars have a width of 1\n",
    "        sizey=0.45,  # Placeholder value\n",
    "        xanchor=\"center\",\n",
    "        yanchor=\"middle\",\n",
    "        layer=\"below\",\n",
    "        sizing=\"contain\",\n",
    "    )\n",
    ")\n",
    "\n",
    "# Update the layout\n",
    "fig.update_layout(\n",
    "    title=\"Comparison of different ablations for L10H7\",\n",
    "    xaxis_title=\"Ablated paths\",\n",
    "    yaxis_title=\"Loss\",\n",
    "    template=\"simple_white\",\n",
    "    width=1200,\n",
    "    height=900,\n",
    "    yaxis=dict(range=[y_min, y_max]),\n",
    "    # annotations=annotations,\n",
    "    font=dict(size=14),\n",
    "    bargap=0.45,\n",
    "    margin=dict(l=120, r=60, b=120, t=140),\n",
    "    title_y=0.95,\n",
    "    title_font_size=26,\n",
    "    xaxis_title_standoff=30,\n",
    ")\n",
    "\n",
    "# Show the plot\n",
    "fig.show()\n"
   ]
  },
  {
   "cell_type": "code",
   "execution_count": 63,
   "metadata": {},
   "outputs": [
    {
     "name": "stdout",
     "output_type": "stream",
     "text": [
      "dict_keys(['cmain', 'c1', 'c2', 'c3', 'c4'])\n"
     ]
    },
    {
     "data": {
      "application/vnd.plotly.v1+json": {
       "config": {
        "plotlyServerURL": "https://plot.ly"
       },
       "data": [
        {
         "hoverinfo": "y",
         "marker": {
          "color": "#1F77B4"
         },
         "name": "Loss",
         "text": [
          "3.0289",
          "3.0297",
          "3.0305",
          "3.0391"
         ],
         "textposition": "inside",
         "type": "bar",
         "x": [
          -0.2,
          0.8,
          1.8,
          2.8
         ],
         "xaxis": "x",
         "y": [
          3.0289,
          3.0297,
          3.0305,
          3.0391000000000004
         ],
         "yaxis": "y"
        },
        {
         "hoverinfo": "y",
         "marker": {
          "color": "#FF7F0E"
         },
         "name": "KL Divergence",
         "text": [
          "0.0000",
          "0.0030",
          "0.0032",
          "0.0145"
         ],
         "textposition": "inside",
         "type": "bar",
         "x": [
          0.2,
          1.2,
          2.2,
          3.2
         ],
         "xaxis": "x",
         "y": [
          0,
          0.00297,
          0.00323,
          0.01449
         ],
         "yaxis": "y2"
        }
       ],
       "layout": {
        "bargap": 0.6,
        "barmode": "group",
        "font": {
         "size": 14
        },
        "height": 900,
        "images": [
         {
          "layer": "below",
          "sizex": 0.5,
          "sizey": 0.0031,
          "sizing": "contain",
          "source": "data:image/svg+xml;base64,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",
          "x": 0,
          "xanchor": "center",
          "xref": "x",
          "y": 3.0294000000000003,
          "yanchor": "bottom",
          "yref": "y"
         },
         {
          "layer": "below",
          "sizex": 0.5,
          "sizey": 0.0031,
          "sizing": "contain",
          "source": "data:image/svg+xml;base64,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",
          "x": 1,
          "xanchor": "center",
          "xref": "x",
          "y": 3.0305500000000003,
          "yanchor": "bottom",
          "yref": "y"
         },
         {
          "layer": "below",
          "sizex": 0.5,
          "sizey": 0.0031,
          "sizing": "contain",
          "source": "data:image/svg+xml;base64,PHN2ZyB4bWxucz0iaHR0cDovL3d3dy53My5vcmcvMjAwMC9zdmciIHhtbG5zOnhsaW5rPSJodHRwOi8vd3d3LnczLm9yZy8xOTk5L3hsaW5rIiB4bWxuczpsdWNpZD0ibHVjaWQiIHdpZHRoPSIxNDUiIGhlaWdodD0iMTU3Ij48ZyB0cmFuc2Zvcm09InRyYW5zbGF0ZSgtMzg3IC01NDgpIiBsdWNpZDpwYWdlLXRhYi1pZD0iMF8wIj48cGF0aCBkPSJNNTIwIDU3Mi40MmMwIDUuOTYtNC44MyAxMC43OC0xMC44IDEwLjc4LTUuOTQgMC0xMC43Ny00LjgyLTEwLjc3LTEwLjc4IDAtNS45NiA0LjgzLTEwLjc4IDEwLjc4LTEwLjc4IDUuOTcgMCAxMC44IDQuODIgMTAuOCAxMC43OHoiIHN0cm9rZT0iIzAwMCIgc3Ryb2tlLXdpZHRoPSIzIiBmaWxsPSIjZmZmIi8+PHBhdGggZD0iTTUwOS4yIDU4Ni4yMnY0OS4zNCIgc3Ryb2tlPSIjMDAwIiBzdHJva2Utd2lkdGg9IjMiIGZpbGw9Im5vbmUiLz48cGF0aCBkPSJNNTA5LjIgNTg0LjcybDEuNS0uMnYxLjc0aC0zdi0xLjc0ek01MTAuNyA2MzcuM2wtMS40NC0uMjUtMS41NS4xOHYtMS43aDN6IiBzdHJva2U9IiMwMDAiIHN0cm9rZS13aWR0aD0iLjA1Ii8+PHBhdGggZD0iTTUxOC41NiA2NDcuOWMwIDUuMTctNC4xOCA5LjM2LTkuMzQgOS4zNi01LjE3IDAtOS4zNS00LjItOS4zNS05LjM1IDAtNS4xNSA0LjItOS4zMyA5LjM0LTkuMzMgNS4xOCAwIDkuMzYgNC4xOCA5LjM2IDkuMzR6TTUyMCA2ODAuMjdjMCA1Ljk1LTQuODMgMTAuNzgtMTAuOCAxMC43OC01Ljk0IDAtMTAuNzctNC44My0xMC43Ny0xMC43OCAwLTUuOTYgNC44My0xMC44IDEwLjc4LTEwLjggNS45NyAwIDEwLjggNC44NCAxMC44IDEwLjh6IiBzdHJva2U9IiMwMDAiIHN0cm9rZS13aWR0aD0iMyIgZmlsbD0iI2ZmZiIvPjxwYXRoIGQ9Ik00OTguNDMgNjQzLjg2YTYgNiAwIDAgMSA2LTZINTE0YTYgNiAwIDAgMSA2IDZ2OS41NmE2IDYgMCAwIDEtNiA2aC05LjU3YTYgNiAwIDAgMS02LTZ6IiBmaWxsPSJub25lIi8+PHVzZSB4bGluazpocmVmPSIjYSIgdHJhbnNmb3JtPSJtYXRyaXgoMSwwLDAsMSw0OTguNDMwNTkzMjI2MzU0MzUsNjM3Ljg1NTQ1MzI3Nzk2NjQpIHRyYW5zbGF0ZSg0LjUxODUxODUxODUxODUyNCAxNy43Nzc3Nzc3Nzc3Nzc3NjQpIi8+PHBhdGggZD0iTTUwOS4yIDY2MC4yN3Y2LjIiIHN0cm9rZT0iIzAwMCIgc3Ryb2tlLXdpZHRoPSIzIiBmaWxsPSJub25lIi8+PHBhdGggZD0iTTUwOS4xNyA2NTguNzdsMS41NC0uMTh2MS43aC0zdi0xLjc4ek01MTAuNyA2NjguMTZsLTEuNS0uMi0xLjUuMnYtMS43M2gzeiIgc3Ryb2tlPSIjMDAwIiBzdHJva2Utd2lkdGg9Ii4wNSIvPjxwYXRoIGQ9Ik00MjMgNjI2LjA2YzAgNS45Ni00Ljg0IDEwLjc4LTEwLjggMTAuNzgtNS45NSAwLTEwLjc4LTQuODMtMTAuNzgtMTAuNzggMC01Ljk2IDQuODMtMTAuOCAxMC44LTEwLjggNS45NCAwIDEwLjc3IDQuODQgMTAuNzcgMTAuOHoiIHN0cm9rZT0iI2JiYmVjMiIgc3Ryb2tlLXdpZHRoPSIzIiBmaWxsPSIjZmZmIi8+PHBhdGggZD0iTTQ1OS4zIDYwNi4yN3Y1Ljk2bTAgNy45M3Y2bC0uMDIuMDN2LjA0bC0uMDMuMDMtLjAyLjAzLS4wMy4wMi0uMDMuMDJoLS4wNGwtLjAzLjAySDQ1OWwtLjA0LjAzLS4wMy4wMmgtLjAzbC0uMDIuMDQtLjAyLjAzLS4wMi4wM1Y2MzIuNTJtMCA3Ljk0djUuOTVNNDU5LjMgNjA2LjN2LTEuNTNNNDU4LjgzIDY0Ni4zN3YxLjU0IiBzdHJva2U9IiNiYmJlYzIiIHN0cm9rZS13aWR0aD0iMyIgZmlsbD0ibm9uZSIvPjxwYXRoIGQ9Ik00NzAuMDIgNjI2LjAyYzAgNS45Ni00LjgzIDEwLjgtMTAuOCAxMC44LTUuOTQgMC0xMC43Ny00Ljg0LTEwLjc3LTEwLjggMC01Ljk1IDQuODMtMTAuNzggMTAuNzgtMTAuNzggNS45NiAwIDEwLjggNC44MyAxMC44IDEwLjc4eiIgc3Ryb2tlPSIjYmJiZWMyIiBzdHJva2Utd2lkdGg9IjMiIGZpbGw9IiNmZmYiLz48cGF0aCBkPSJNNDYwLjMzIDYwNC43N2gzLjU2bTQuNzIgMGg3LjFtNC43NCAwaDMuNTZ2LjAyaDMuNTZtNC43NCAwaDcuMW00Ljc0IDBoMy41NU00NjAuMzcgNjA0Ljc3aC0xLjU0TTUwNy42OCA2MDQuOGgxLjUzTTQxMi4yIDYxMi4yNnYtMS41bC4wOC0uOTIuMjItLjkyLjM2LS44Ny41LS44LjYtLjcyLjcyLS42LjgtLjUuODctLjM2LjkyLS4yMi45NC0uMDhoMy45Mm01LjIyIDBoNy44Mm01LjIyIDBoNy44Mm01LjIyIDBoMy45IiBzdHJva2U9IiNiYmJlYzIiIHN0cm9rZS13aWR0aD0iMyIgZmlsbD0ibm9uZSIvPjxwYXRoIGQ9Ik00MTMuNyA2MTMuOTZsLTEuNS0uMi0xLjUuMnYtMS43NGgzeiIgc3Ryb2tlPSIjYmJiZWMyIiBzdHJva2Utd2lkdGg9Ii4wNSIgZmlsbD0iI2JiYmVjMiIvPjxwYXRoIGQ9Ik00NTcuMyA2MDQuNzdoMS41M000NjAuMzMgNjQ3LjloNS40OG03LjMyIDBoMTAuOTZtNy4zIDBoNS40OE00NjAuMzcgNjQ3LjloLTEuNTQiIHN0cm9rZT0iI2JiYmVjMiIgc3Ryb2tlLXdpZHRoPSIzIiBmaWxsPSJub25lIi8+PHBhdGggZD0iTTQ5OC4zNiA2NDcuODdsLjE4IDEuNTRoLTEuNzJ2LTNoMS44eiIgc3Ryb2tlPSIjYmJiZWMyIiBzdHJva2Utd2lkdGg9Ii4wNSIgZmlsbD0iI2JiYmVjMiIvPjxwYXRoIGQ9Ik00MTIuMjQgNjM5Ljg1djIuMDZsLjA3Ljk1LjIzLjkyLjM3Ljg3LjUuOC42LjcuNy42My44Mi41Ljg3LjM1LjkuMjIuOTQuMDdoMy45bTUuMjIgMGg3LjgybTUuMiAwaDcuODNtNS4yMiAwaDMuOSIgc3Ryb2tlPSIjYmJiZWMyIiBzdHJva2Utd2lkdGg9IjMiIGZpbGw9Im5vbmUiLz48cGF0aCBkPSJNNDEzLjc0IDYzOS45aC0zdi0xLjc0bDEuNDcuMiAxLjU0LS4yeiIgc3Ryb2tlPSIjYmJiZWMyIiBzdHJva2Utd2lkdGg9Ii4wNSIgZmlsbD0iI2JiYmVjMiIvPjxwYXRoIGQ9Ik00NTcuMyA2NDcuOWgxLjUzIiBzdHJva2U9IiNiYmJlYzIiIHN0cm9rZS13aWR0aD0iMyIgZmlsbD0ibm9uZSIvPjxkZWZzPjxwYXRoIGZpbGw9IiMzYTQxNGEiIGQ9Ik0xMTgtMTA3djc1SDkydi03NUgxOHYtMjZoNzR2LTc1aDI2djc1aDc0djI2aC03NCIgaWQ9ImIiLz48dXNlIHRyYW5zZm9ybT0ibWF0cml4KDAuMDYxNzI4Mzk1MDYxNzI4MzQsMCwwLDAuMDYxNzI4Mzk1MDYxNzI4MzQsMCwwKSIgeGxpbms6aHJlZj0iI2IiIGlkPSJhIi8+PC9kZWZzPjwvZz48L3N2Zz4=",
          "x": 2,
          "xanchor": "center",
          "xref": "x",
          "y": 3.031,
          "yanchor": "bottom",
          "yref": "y"
         },
         {
          "layer": "below",
          "sizex": 0.5,
          "sizey": 0.0031,
          "sizing": "contain",
          "source": "data:image/svg+xml;base64,PHN2ZyB4bWxucz0iaHR0cDovL3d3dy53My5vcmcvMjAwMC9zdmciIHhtbG5zOnhsaW5rPSJodHRwOi8vd3d3LnczLm9yZy8xOTk5L3hsaW5rIiB4bWxuczpsdWNpZD0ibHVjaWQiIHdpZHRoPSIxNDciIGhlaWdodD0iMTU3Ij48ZyB0cmFuc2Zvcm09InRyYW5zbGF0ZSgtMTg3IC0zNDgpIiBsdWNpZDpwYWdlLXRhYi1pZD0iMF8wIj48cGF0aCBkPSJNMzE4LjU4IDM3MC44YzAgNS45NC00LjgzIDEwLjc3LTEwLjggMTAuNzctNS45NCAwLTEwLjc3LTQuODMtMTAuNzctMTAuNzggMC01Ljk3IDQuODQtMTAuOCAxMC44LTEwLjggNS45NSAwIDEwLjc4IDQuODMgMTAuNzggMTAuOHoiIHN0cm9rZT0iIzAwMCIgc3Ryb2tlLXdpZHRoPSIzIiBmaWxsPSIjZmZmIi8+PHBhdGggZD0iTTMwNy44IDQwNC42NHY0LjRtMCA1Ljg1djguNzdtMCA1Ljg2djQuNE0zMDcuOCA0MDQuNjh2LTEuNTQiIHN0cm9rZT0iI2JiYmVjMiIgc3Ryb2tlLXdpZHRoPSIzIiBmaWxsPSJub25lIi8+PHBhdGggZD0iTTMwOS4zIDQzNS42N2wtMS40Ni0uMjUtMS41NS4xOHYtMS43MmgzeiIgc3Ryb2tlPSIjYmJiZWMyIiBzdHJva2Utd2lkdGg9Ii4wNSIgZmlsbD0iI2JiYmVjMiIvPjxwYXRoIGQ9Ik0zMTcuMTQgNDQ2LjI4YzAgNS4xNi00LjIgOS4zNC05LjM1IDkuMzQtNS4xNyAwLTkuMzUtNC4xOC05LjM1LTkuMzRzNC4xOC05LjM1IDkuMzQtOS4zNWM1LjE1IDAgOS4zNCA0LjIgOS4zNCA5LjM1ek0zMTguNTggNDc4LjYzYzAgNS45Ni00LjgzIDEwLjgtMTAuOCAxMC44LTUuOTQgMC0xMC43Ny00Ljg0LTEwLjc3LTEwLjggMC01Ljk1IDQuODQtMTAuNzggMTAuOC0xMC43OCA1Ljk1IDAgMTAuNzggNC44MyAxMC43OCAxMC43OHoiIHN0cm9rZT0iIzAwMCIgc3Ryb2tlLXdpZHRoPSIzIiBmaWxsPSIjZmZmIi8+PHBhdGggZD0iTTI5NyA0NDIuMjJhNiA2IDAgMCAxIDYtNmg5LjU4YTYgNiAwIDAgMSA2IDZ2OS41N2E2IDYgMCAwIDEtNiA2SDMwM2E2IDYgMCAwIDEtNi02eiIgZmlsbD0ibm9uZSIvPjx1c2UgeGxpbms6aHJlZj0iI2EiIHRyYW5zZm9ybT0ibWF0cml4KDEsMCwwLDEsMjk3LjAwODk1MDc2MTcwNTM2LDQzNi4yMjA3MDUxOTczNTMxNCkgdHJhbnNsYXRlKDQuNTE4NTE4NTE4NTE4NTI0IDE3Ljc3Nzc3Nzc3Nzc3Nzc2NCkiLz48cGF0aCBkPSJNMzA3LjggNDU4LjYzdjYuMiIgc3Ryb2tlPSIjMDAwIiBzdHJva2Utd2lkdGg9IjMiIGZpbGw9Im5vbmUiLz48cGF0aCBkPSJNMzA3Ljc1IDQ1Ny4xNGwxLjU0LS4xOHYxLjdoLTN2LTEuNzh6TTMwOS4zIDQ2Ni41M2wtMS41LS4yLTEuNS4ydi0xLjczaDN6IiBzdHJva2U9IiMwMDAiIHN0cm9rZS13aWR0aD0iLjA1Ii8+PHBhdGggZD0iTTIyMS41NyA0MjQuNDJjMCA1Ljk2LTQuODMgMTAuOC0xMC43OCAxMC44LTUuOTcgMC0xMC44LTQuODQtMTAuOC0xMC44IDAtNS45NSA0LjgzLTEwLjc4IDEwLjc4LTEwLjc4IDUuOTYgMCAxMC44IDQuODMgMTAuOCAxMC43OHoiIHN0cm9rZT0iIzAwMCIgc3Ryb2tlLXdpZHRoPSIzIiBmaWxsPSIjZmZmIi8+PHBhdGggZD0iTTI1Ny44NyA0MDQuNjR2MTkuODRhLjIzLjIzIDAgMCAxLS4yMy4yMy4yMy4yMyAwIDAgMC0uMjMuMjR2MTkuODRNMjU3Ljg3IDQwNC42OHYtMS41NE0yNTcuNCA0NDQuNzR2MS41NCIgc3Ryb2tlPSIjMDAwIiBzdHJva2Utd2lkdGg9IjMiIGZpbGw9Im5vbmUiLz48cGF0aCBkPSJNMjY4LjYgNDI0LjRjMCA1Ljk0LTQuODMgMTAuNzctMTAuOCAxMC43Ny01Ljk1IDAtMTAuNzctNC44My0xMC43Ny0xMC43OCAwLTUuOTcgNC44Mi0xMC44IDEwLjc4LTEwLjggNS45NyAwIDEwLjggNC44MyAxMC44IDEwLjh6IiBzdHJva2U9IiMwMDAiIHN0cm9rZS13aWR0aD0iMyIgZmlsbD0iI2ZmZiIvPjxwYXRoIGQ9Ik0yNTguOSA0MDMuMTRoNDcuNjhNMjU4Ljk1IDQwMy4xNGgtMS41NE0zMDYuNTQgNDAzLjE0aDEuNTNNMjEwLjc4IDQxMC42M3YtMS41YTYgNiAwIDAgMSA2LTZoMzkuMTMiIHN0cm9rZT0iIzAwMCIgc3Ryb2tlLXdpZHRoPSIzIiBmaWxsPSJub25lIi8+PHBhdGggZD0iTTIxMi4yOCA0MTIuMzJsLTEuNS0uMi0xLjUuMnYtMS43M2gzeiIgc3Ryb2tlPSIjMDAwIiBzdHJva2Utd2lkdGg9Ii4wNSIvPjxwYXRoIGQ9Ik0yNTUuODcgNDAzLjE0aDEuNTRNMjU4LjkgNDQ2LjI4aDM2LjU0TTI1OC45NSA0NDYuMjhoLTEuNTQiIHN0cm9rZT0iIzAwMCIgc3Ryb2tlLXdpZHRoPSIzIiBmaWxsPSJub25lIi8+PHBhdGggZD0iTTI5Ni45NCA0NDYuMjRsLjE3IDEuNTRoLTEuN3YtM2gxLjh6IiBzdHJva2U9IiMwMDAiIHN0cm9rZS13aWR0aD0iLjA1Ii8+PHBhdGggZD0iTTIxMC44MiA0MzguMjJ2Mi4wNmE2IDYgMCAwIDAgNiA2aDM5LjEiIHN0cm9rZT0iIzAwMCIgc3Ryb2tlLXdpZHRoPSIzIiBmaWxsPSJub25lIi8+PHBhdGggZD0iTTIxMi4zMiA0MzguMjVoLTN2LTEuNzJsMS40Ny4yIDEuNTItLjJ6IiBzdHJva2U9IiMwMDAiIHN0cm9rZS13aWR0aD0iLjA1Ii8+PHBhdGggZD0iTTI1NS44NyA0NDYuMjhoMS41NE0zMDcuOCAzODQuNTh2MTcuMDYiIHN0cm9rZT0iIzAwMCIgc3Ryb2tlLXdpZHRoPSIzIiBmaWxsPSJub25lIi8+PHBhdGggZD0iTTMwNy44IDM4My4wOGwxLjUtLjJ2MS43NGgtM3YtMS43M3oiIHN0cm9rZT0iIzAwMCIgc3Ryb2tlLXdpZHRoPSIuMDUiLz48cGF0aCBkPSJNMzA3LjggNDAxLjZ2MS41NCIgc3Ryb2tlPSIjMDAwIiBzdHJva2Utd2lkdGg9IjMiIGZpbGw9Im5vbmUiLz48ZGVmcz48cGF0aCBmaWxsPSIjM2E0MTRhIiBkPSJNMTE4LTEwN3Y3NUg5MnYtNzVIMTh2LTI2aDc0di03NWgyNnY3NWg3NHYyNmgtNzQiIGlkPSJiIi8+PHVzZSB0cmFuc2Zvcm09Im1hdHJpeCgwLjA2MTcyODM5NTA2MTcyODM0LDAsMCwwLjA2MTcyODM5NTA2MTcyODM0LDAsMCkiIHhsaW5rOmhyZWY9IiNiIiBpZD0iYSIvPjwvZGVmcz48L2c+PC9zdmc+",
          "x": 3,
          "xanchor": "center",
          "xref": "x",
          "y": 3.0396000000000005,
          "yanchor": "bottom",
          "yref": "y"
         },
         {
          "layer": "below",
          "sizex": 0.45,
          "sizey": 0.45,
          "sizing": "contain",
          "source": "data:image/svg+xml;base64,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",
          "x": 0.35,
          "xanchor": "center",
          "xref": "paper",
          "y": 0.76,
          "yanchor": "middle",
          "yref": "paper"
         }
        ],
        "margin": {
         "b": 120,
         "l": 120,
         "r": 80,
         "t": 140
        },
        "showlegend": false,
        "template": {
         "data": {
          "bar": [
           {
            "error_x": {
             "color": "rgb(36,36,36)"
            },
            "error_y": {
             "color": "rgb(36,36,36)"
            },
            "marker": {
             "line": {
              "color": "white",
              "width": 0.5
             },
             "pattern": {
              "fillmode": "overlay",
              "size": 10,
              "solidity": 0.2
             }
            },
            "type": "bar"
           }
          ],
          "barpolar": [
           {
            "marker": {
             "line": {
              "color": "white",
              "width": 0.5
             },
             "pattern": {
              "fillmode": "overlay",
              "size": 10,
              "solidity": 0.2
             }
            },
            "type": "barpolar"
           }
          ],
          "carpet": [
           {
            "aaxis": {
             "endlinecolor": "rgb(36,36,36)",
             "gridcolor": "white",
             "linecolor": "white",
             "minorgridcolor": "white",
             "startlinecolor": "rgb(36,36,36)"
            },
            "baxis": {
             "endlinecolor": "rgb(36,36,36)",
             "gridcolor": "white",
             "linecolor": "white",
             "minorgridcolor": "white",
             "startlinecolor": "rgb(36,36,36)"
            },
            "type": "carpet"
           }
          ],
          "choropleth": [
           {
            "colorbar": {
             "outlinewidth": 1,
             "tickcolor": "rgb(36,36,36)",
             "ticks": "outside"
            },
            "type": "choropleth"
           }
          ],
          "contour": [
           {
            "colorbar": {
             "outlinewidth": 1,
             "tickcolor": "rgb(36,36,36)",
             "ticks": "outside"
            },
            "colorscale": [
             [
              0,
              "#440154"
             ],
             [
              0.1111111111111111,
              "#482878"
             ],
             [
              0.2222222222222222,
              "#3e4989"
             ],
             [
              0.3333333333333333,
              "#31688e"
             ],
             [
              0.4444444444444444,
              "#26828e"
             ],
             [
              0.5555555555555556,
              "#1f9e89"
             ],
             [
              0.6666666666666666,
              "#35b779"
             ],
             [
              0.7777777777777778,
              "#6ece58"
             ],
             [
              0.8888888888888888,
              "#b5de2b"
             ],
             [
              1,
              "#fde725"
             ]
            ],
            "type": "contour"
           }
          ],
          "contourcarpet": [
           {
            "colorbar": {
             "outlinewidth": 1,
             "tickcolor": "rgb(36,36,36)",
             "ticks": "outside"
            },
            "type": "contourcarpet"
           }
          ],
          "heatmap": [
           {
            "colorbar": {
             "outlinewidth": 1,
             "tickcolor": "rgb(36,36,36)",
             "ticks": "outside"
            },
            "colorscale": [
             [
              0,
              "#440154"
             ],
             [
              0.1111111111111111,
              "#482878"
             ],
             [
              0.2222222222222222,
              "#3e4989"
             ],
             [
              0.3333333333333333,
              "#31688e"
             ],
             [
              0.4444444444444444,
              "#26828e"
             ],
             [
              0.5555555555555556,
              "#1f9e89"
             ],
             [
              0.6666666666666666,
              "#35b779"
             ],
             [
              0.7777777777777778,
              "#6ece58"
             ],
             [
              0.8888888888888888,
              "#b5de2b"
             ],
             [
              1,
              "#fde725"
             ]
            ],
            "type": "heatmap"
           }
          ],
          "heatmapgl": [
           {
            "colorbar": {
             "outlinewidth": 1,
             "tickcolor": "rgb(36,36,36)",
             "ticks": "outside"
            },
            "colorscale": [
             [
              0,
              "#440154"
             ],
             [
              0.1111111111111111,
              "#482878"
             ],
             [
              0.2222222222222222,
              "#3e4989"
             ],
             [
              0.3333333333333333,
              "#31688e"
             ],
             [
              0.4444444444444444,
              "#26828e"
             ],
             [
              0.5555555555555556,
              "#1f9e89"
             ],
             [
              0.6666666666666666,
              "#35b779"
             ],
             [
              0.7777777777777778,
              "#6ece58"
             ],
             [
              0.8888888888888888,
              "#b5de2b"
             ],
             [
              1,
              "#fde725"
             ]
            ],
            "type": "heatmapgl"
           }
          ],
          "histogram": [
           {
            "marker": {
             "line": {
              "color": "white",
              "width": 0.6
             }
            },
            "type": "histogram"
           }
          ],
          "histogram2d": [
           {
            "colorbar": {
             "outlinewidth": 1,
             "tickcolor": "rgb(36,36,36)",
             "ticks": "outside"
            },
            "colorscale": [
             [
              0,
              "#440154"
             ],
             [
              0.1111111111111111,
              "#482878"
             ],
             [
              0.2222222222222222,
              "#3e4989"
             ],
             [
              0.3333333333333333,
              "#31688e"
             ],
             [
              0.4444444444444444,
              "#26828e"
             ],
             [
              0.5555555555555556,
              "#1f9e89"
             ],
             [
              0.6666666666666666,
              "#35b779"
             ],
             [
              0.7777777777777778,
              "#6ece58"
             ],
             [
              0.8888888888888888,
              "#b5de2b"
             ],
             [
              1,
              "#fde725"
             ]
            ],
            "type": "histogram2d"
           }
          ],
          "histogram2dcontour": [
           {
            "colorbar": {
             "outlinewidth": 1,
             "tickcolor": "rgb(36,36,36)",
             "ticks": "outside"
            },
            "colorscale": [
             [
              0,
              "#440154"
             ],
             [
              0.1111111111111111,
              "#482878"
             ],
             [
              0.2222222222222222,
              "#3e4989"
             ],
             [
              0.3333333333333333,
              "#31688e"
             ],
             [
              0.4444444444444444,
              "#26828e"
             ],
             [
              0.5555555555555556,
              "#1f9e89"
             ],
             [
              0.6666666666666666,
              "#35b779"
             ],
             [
              0.7777777777777778,
              "#6ece58"
             ],
             [
              0.8888888888888888,
              "#b5de2b"
             ],
             [
              1,
              "#fde725"
             ]
            ],
            "type": "histogram2dcontour"
           }
          ],
          "mesh3d": [
           {
            "colorbar": {
             "outlinewidth": 1,
             "tickcolor": "rgb(36,36,36)",
             "ticks": "outside"
            },
            "type": "mesh3d"
           }
          ],
          "parcoords": [
           {
            "line": {
             "colorbar": {
              "outlinewidth": 1,
              "tickcolor": "rgb(36,36,36)",
              "ticks": "outside"
             }
            },
            "type": "parcoords"
           }
          ],
          "pie": [
           {
            "automargin": true,
            "type": "pie"
           }
          ],
          "scatter": [
           {
            "fillpattern": {
             "fillmode": "overlay",
             "size": 10,
             "solidity": 0.2
            },
            "type": "scatter"
           }
          ],
          "scatter3d": [
           {
            "line": {
             "colorbar": {
              "outlinewidth": 1,
              "tickcolor": "rgb(36,36,36)",
              "ticks": "outside"
             }
            },
            "marker": {
             "colorbar": {
              "outlinewidth": 1,
              "tickcolor": "rgb(36,36,36)",
              "ticks": "outside"
             }
            },
            "type": "scatter3d"
           }
          ],
          "scattercarpet": [
           {
            "marker": {
             "colorbar": {
              "outlinewidth": 1,
              "tickcolor": "rgb(36,36,36)",
              "ticks": "outside"
             }
            },
            "type": "scattercarpet"
           }
          ],
          "scattergeo": [
           {
            "marker": {
             "colorbar": {
              "outlinewidth": 1,
              "tickcolor": "rgb(36,36,36)",
              "ticks": "outside"
             }
            },
            "type": "scattergeo"
           }
          ],
          "scattergl": [
           {
            "marker": {
             "colorbar": {
              "outlinewidth": 1,
              "tickcolor": "rgb(36,36,36)",
              "ticks": "outside"
             }
            },
            "type": "scattergl"
           }
          ],
          "scattermapbox": [
           {
            "marker": {
             "colorbar": {
              "outlinewidth": 1,
              "tickcolor": "rgb(36,36,36)",
              "ticks": "outside"
             }
            },
            "type": "scattermapbox"
           }
          ],
          "scatterpolar": [
           {
            "marker": {
             "colorbar": {
              "outlinewidth": 1,
              "tickcolor": "rgb(36,36,36)",
              "ticks": "outside"
             }
            },
            "type": "scatterpolar"
           }
          ],
          "scatterpolargl": [
           {
            "marker": {
             "colorbar": {
              "outlinewidth": 1,
              "tickcolor": "rgb(36,36,36)",
              "ticks": "outside"
             }
            },
            "type": "scatterpolargl"
           }
          ],
          "scatterternary": [
           {
            "marker": {
             "colorbar": {
              "outlinewidth": 1,
              "tickcolor": "rgb(36,36,36)",
              "ticks": "outside"
             }
            },
            "type": "scatterternary"
           }
          ],
          "surface": [
           {
            "colorbar": {
             "outlinewidth": 1,
             "tickcolor": "rgb(36,36,36)",
             "ticks": "outside"
            },
            "colorscale": [
             [
              0,
              "#440154"
             ],
             [
              0.1111111111111111,
              "#482878"
             ],
             [
              0.2222222222222222,
              "#3e4989"
             ],
             [
              0.3333333333333333,
              "#31688e"
             ],
             [
              0.4444444444444444,
              "#26828e"
             ],
             [
              0.5555555555555556,
              "#1f9e89"
             ],
             [
              0.6666666666666666,
              "#35b779"
             ],
             [
              0.7777777777777778,
              "#6ece58"
             ],
             [
              0.8888888888888888,
              "#b5de2b"
             ],
             [
              1,
              "#fde725"
             ]
            ],
            "type": "surface"
           }
          ],
          "table": [
           {
            "cells": {
             "fill": {
              "color": "rgb(237,237,237)"
             },
             "line": {
              "color": "white"
             }
            },
            "header": {
             "fill": {
              "color": "rgb(217,217,217)"
             },
             "line": {
              "color": "white"
             }
            },
            "type": "table"
           }
          ]
         },
         "layout": {
          "annotationdefaults": {
           "arrowhead": 0,
           "arrowwidth": 1
          },
          "autotypenumbers": "strict",
          "coloraxis": {
           "colorbar": {
            "outlinewidth": 1,
            "tickcolor": "rgb(36,36,36)",
            "ticks": "outside"
           }
          },
          "colorscale": {
           "diverging": [
            [
             0,
             "rgb(103,0,31)"
            ],
            [
             0.1,
             "rgb(178,24,43)"
            ],
            [
             0.2,
             "rgb(214,96,77)"
            ],
            [
             0.3,
             "rgb(244,165,130)"
            ],
            [
             0.4,
             "rgb(253,219,199)"
            ],
            [
             0.5,
             "rgb(247,247,247)"
            ],
            [
             0.6,
             "rgb(209,229,240)"
            ],
            [
             0.7,
             "rgb(146,197,222)"
            ],
            [
             0.8,
             "rgb(67,147,195)"
            ],
            [
             0.9,
             "rgb(33,102,172)"
            ],
            [
             1,
             "rgb(5,48,97)"
            ]
           ],
           "sequential": [
            [
             0,
             "#440154"
            ],
            [
             0.1111111111111111,
             "#482878"
            ],
            [
             0.2222222222222222,
             "#3e4989"
            ],
            [
             0.3333333333333333,
             "#31688e"
            ],
            [
             0.4444444444444444,
             "#26828e"
            ],
            [
             0.5555555555555556,
             "#1f9e89"
            ],
            [
             0.6666666666666666,
             "#35b779"
            ],
            [
             0.7777777777777778,
             "#6ece58"
            ],
            [
             0.8888888888888888,
             "#b5de2b"
            ],
            [
             1,
             "#fde725"
            ]
           ],
           "sequentialminus": [
            [
             0,
             "#440154"
            ],
            [
             0.1111111111111111,
             "#482878"
            ],
            [
             0.2222222222222222,
             "#3e4989"
            ],
            [
             0.3333333333333333,
             "#31688e"
            ],
            [
             0.4444444444444444,
             "#26828e"
            ],
            [
             0.5555555555555556,
             "#1f9e89"
            ],
            [
             0.6666666666666666,
             "#35b779"
            ],
            [
             0.7777777777777778,
             "#6ece58"
            ],
            [
             0.8888888888888888,
             "#b5de2b"
            ],
            [
             1,
             "#fde725"
            ]
           ]
          },
          "colorway": [
           "#1F77B4",
           "#FF7F0E",
           "#2CA02C",
           "#D62728",
           "#9467BD",
           "#8C564B",
           "#E377C2",
           "#7F7F7F",
           "#BCBD22",
           "#17BECF"
          ],
          "font": {
           "color": "rgb(36,36,36)"
          },
          "geo": {
           "bgcolor": "white",
           "lakecolor": "white",
           "landcolor": "white",
           "showlakes": true,
           "showland": true,
           "subunitcolor": "white"
          },
          "hoverlabel": {
           "align": "left"
          },
          "hovermode": "closest",
          "mapbox": {
           "style": "light"
          },
          "paper_bgcolor": "white",
          "plot_bgcolor": "white",
          "polar": {
           "angularaxis": {
            "gridcolor": "rgb(232,232,232)",
            "linecolor": "rgb(36,36,36)",
            "showgrid": false,
            "showline": true,
            "ticks": "outside"
           },
           "bgcolor": "white",
           "radialaxis": {
            "gridcolor": "rgb(232,232,232)",
            "linecolor": "rgb(36,36,36)",
            "showgrid": false,
            "showline": true,
            "ticks": "outside"
           }
          },
          "scene": {
           "xaxis": {
            "backgroundcolor": "white",
            "gridcolor": "rgb(232,232,232)",
            "gridwidth": 2,
            "linecolor": "rgb(36,36,36)",
            "showbackground": true,
            "showgrid": false,
            "showline": true,
            "ticks": "outside",
            "zeroline": false,
            "zerolinecolor": "rgb(36,36,36)"
           },
           "yaxis": {
            "backgroundcolor": "white",
            "gridcolor": "rgb(232,232,232)",
            "gridwidth": 2,
            "linecolor": "rgb(36,36,36)",
            "showbackground": true,
            "showgrid": false,
            "showline": true,
            "ticks": "outside",
            "zeroline": false,
            "zerolinecolor": "rgb(36,36,36)"
           },
           "zaxis": {
            "backgroundcolor": "white",
            "gridcolor": "rgb(232,232,232)",
            "gridwidth": 2,
            "linecolor": "rgb(36,36,36)",
            "showbackground": true,
            "showgrid": false,
            "showline": true,
            "ticks": "outside",
            "zeroline": false,
            "zerolinecolor": "rgb(36,36,36)"
           }
          },
          "shapedefaults": {
           "fillcolor": "black",
           "line": {
            "width": 0
           },
           "opacity": 0.3
          },
          "ternary": {
           "aaxis": {
            "gridcolor": "rgb(232,232,232)",
            "linecolor": "rgb(36,36,36)",
            "showgrid": false,
            "showline": true,
            "ticks": "outside"
           },
           "baxis": {
            "gridcolor": "rgb(232,232,232)",
            "linecolor": "rgb(36,36,36)",
            "showgrid": false,
            "showline": true,
            "ticks": "outside"
           },
           "bgcolor": "white",
           "caxis": {
            "gridcolor": "rgb(232,232,232)",
            "linecolor": "rgb(36,36,36)",
            "showgrid": false,
            "showline": true,
            "ticks": "outside"
           }
          },
          "title": {
           "x": 0.05
          },
          "xaxis": {
           "automargin": true,
           "gridcolor": "rgb(232,232,232)",
           "linecolor": "rgb(36,36,36)",
           "showgrid": false,
           "showline": true,
           "ticks": "outside",
           "title": {
            "standoff": 15
           },
           "zeroline": false,
           "zerolinecolor": "rgb(36,36,36)"
          },
          "yaxis": {
           "automargin": true,
           "gridcolor": "rgb(232,232,232)",
           "linecolor": "rgb(36,36,36)",
           "showgrid": false,
           "showline": true,
           "ticks": "outside",
           "title": {
            "standoff": 15
           },
           "zeroline": false,
           "zerolinecolor": "rgb(36,36,36)"
          }
         }
        },
        "title": {
         "font": {
          "size": 26
         },
         "text": "Comparison of different ablations for L10H7",
         "y": 0.95
        },
        "width": 1200,
        "xaxis": {
         "anchor": "y",
         "domain": [
          0,
          0.94
         ],
         "ticktext": [
          "None",
          "Indirect paths<br>(except L11H10)",
          "Indirect paths<br>(all)",
          "Direct path"
         ],
         "tickvals": [
          0,
          1,
          2,
          3
         ],
         "title": {
          "standoff": 30,
          "text": "Ablated paths"
         }
        },
        "yaxis": {
         "anchor": "x",
         "domain": [
          0,
          1
         ],
         "range": [
          3.0279000000000003,
          3.0441000000000003
         ],
         "title": {
          "font": {
           "color": "#1F77B4",
           "size": 24
          },
          "text": "<b>Loss</b>"
         }
        },
        "yaxis2": {
         "anchor": "x",
         "overlaying": "y",
         "range": [
          0,
          0.0215
         ],
         "side": "right",
         "title": {
          "font": {
           "color": "#FF7F0E",
           "size": 24
          },
          "standoff": 30,
          "text": "<b>KL Divergence</b>"
         }
        }
       }
      },
      "text/html": [
       "<div>                            <div id=\"fba66a22-bac2-4289-96ec-706156083c5f\" class=\"plotly-graph-div\" style=\"height:900px; width:1200px;\"></div>            <script type=\"text/javascript\">                require([\"plotly\"], function(Plotly) {                    window.PLOTLYENV=window.PLOTLYENV || {};                                    if (document.getElementById(\"fba66a22-bac2-4289-96ec-706156083c5f\")) {                    Plotly.newPlot(                        \"fba66a22-bac2-4289-96ec-706156083c5f\",                        [{\"hoverinfo\":\"y\",\"marker\":{\"color\":\"#1F77B4\"},\"name\":\"Loss\",\"text\":[\"3.0289\",\"3.0297\",\"3.0305\",\"3.0391\"],\"textposition\":\"inside\",\"x\":[-0.2,0.8,1.8,2.8],\"y\":[3.0289,3.0297,3.0305,3.0391000000000004],\"type\":\"bar\",\"xaxis\":\"x\",\"yaxis\":\"y\"},{\"hoverinfo\":\"y\",\"marker\":{\"color\":\"#FF7F0E\"},\"name\":\"KL Divergence\",\"text\":[\"0.0000\",\"0.0030\",\"0.0032\",\"0.0145\"],\"textposition\":\"inside\",\"x\":[0.2,1.2,2.2,3.2],\"y\":[0,0.00297,0.00323,0.01449],\"type\":\"bar\",\"xaxis\":\"x\",\"yaxis\":\"y2\"}],                        {\"template\":{\"data\":{\"barpolar\":[{\"marker\":{\"line\":{\"color\":\"white\",\"width\":0.5},\"pattern\":{\"fillmode\":\"overlay\",\"size\":10,\"solidity\":0.2}},\"type\":\"barpolar\"}],\"bar\":[{\"error_x\":{\"color\":\"rgb(36,36,36)\"},\"error_y\":{\"color\":\"rgb(36,36,36)\"},\"marker\":{\"line\":{\"color\":\"white\",\"width\":0.5},\"pattern\":{\"fillmode\":\"overlay\",\"size\":10,\"solidity\":0.2}},\"type\":\"bar\"}],\"carpet\":[{\"aaxis\":{\"endlinecolor\":\"rgb(36,36,36)\",\"gridcolor\":\"white\",\"linecolor\":\"white\",\"minorgridcolor\":\"white\",\"startlinecolor\":\"rgb(36,36,36)\"},\"baxis\":{\"endlinecolor\":\"rgb(36,36,36)\",\"gridcolor\":\"white\",\"linecolor\":\"white\",\"minorgridcolor\":\"white\",\"startlinecolor\":\"rgb(36,36,36)\"},\"type\":\"carpet\"}],\"choropleth\":[{\"colorbar\":{\"outlinewidth\":1,\"tickcolor\":\"rgb(36,36,36)\",\"ticks\":\"outside\"},\"type\":\"choropleth\"}],\"contourcarpet\":[{\"colorbar\":{\"outlinewidth\":1,\"tickcolor\":\"rgb(36,36,36)\",\"ticks\":\"outside\"},\"type\":\"contourcarpet\"}],\"contour\":[{\"colorbar\":{\"outlinewidth\":1,\"tickcolor\":\"rgb(36,36,36)\",\"ticks\":\"outside\"},\"colorscale\":[[0.0,\"#440154\"],[0.1111111111111111,\"#482878\"],[0.2222222222222222,\"#3e4989\"],[0.3333333333333333,\"#31688e\"],[0.4444444444444444,\"#26828e\"],[0.5555555555555556,\"#1f9e89\"],[0.6666666666666666,\"#35b779\"],[0.7777777777777778,\"#6ece58\"],[0.8888888888888888,\"#b5de2b\"],[1.0,\"#fde725\"]],\"type\":\"contour\"}],\"heatmapgl\":[{\"colorbar\":{\"outlinewidth\":1,\"tickcolor\":\"rgb(36,36,36)\",\"ticks\":\"outside\"},\"colorscale\":[[0.0,\"#440154\"],[0.1111111111111111,\"#482878\"],[0.2222222222222222,\"#3e4989\"],[0.3333333333333333,\"#31688e\"],[0.4444444444444444,\"#26828e\"],[0.5555555555555556,\"#1f9e89\"],[0.6666666666666666,\"#35b779\"],[0.7777777777777778,\"#6ece58\"],[0.8888888888888888,\"#b5de2b\"],[1.0,\"#fde725\"]],\"type\":\"heatmapgl\"}],\"heatmap\":[{\"colorbar\":{\"outlinewidth\":1,\"tickcolor\":\"rgb(36,36,36)\",\"ticks\":\"outside\"},\"colorscale\":[[0.0,\"#440154\"],[0.1111111111111111,\"#482878\"],[0.2222222222222222,\"#3e4989\"],[0.3333333333333333,\"#31688e\"],[0.4444444444444444,\"#26828e\"],[0.5555555555555556,\"#1f9e89\"],[0.6666666666666666,\"#35b779\"],[0.7777777777777778,\"#6ece58\"],[0.8888888888888888,\"#b5de2b\"],[1.0,\"#fde725\"]],\"type\":\"heatmap\"}],\"histogram2dcontour\":[{\"colorbar\":{\"outlinewidth\":1,\"tickcolor\":\"rgb(36,36,36)\",\"ticks\":\"outside\"},\"colorscale\":[[0.0,\"#440154\"],[0.1111111111111111,\"#482878\"],[0.2222222222222222,\"#3e4989\"],[0.3333333333333333,\"#31688e\"],[0.4444444444444444,\"#26828e\"],[0.5555555555555556,\"#1f9e89\"],[0.6666666666666666,\"#35b779\"],[0.7777777777777778,\"#6ece58\"],[0.8888888888888888,\"#b5de2b\"],[1.0,\"#fde725\"]],\"type\":\"histogram2dcontour\"}],\"histogram2d\":[{\"colorbar\":{\"outlinewidth\":1,\"tickcolor\":\"rgb(36,36,36)\",\"ticks\":\"outside\"},\"colorscale\":[[0.0,\"#440154\"],[0.1111111111111111,\"#482878\"],[0.2222222222222222,\"#3e4989\"],[0.3333333333333333,\"#31688e\"],[0.4444444444444444,\"#26828e\"],[0.5555555555555556,\"#1f9e89\"],[0.6666666666666666,\"#35b779\"],[0.7777777777777778,\"#6ece58\"],[0.8888888888888888,\"#b5de2b\"],[1.0,\"#fde725\"]],\"type\":\"histogram2d\"}],\"histogram\":[{\"marker\":{\"line\":{\"color\":\"white\",\"width\":0.6}},\"type\":\"histogram\"}],\"mesh3d\":[{\"colorbar\":{\"outlinewidth\":1,\"tickcolor\":\"rgb(36,36,36)\",\"ticks\":\"outside\"},\"type\":\"mesh3d\"}],\"parcoords\":[{\"line\":{\"colorbar\":{\"outlinewidth\":1,\"tickcolor\":\"rgb(36,36,36)\",\"ticks\":\"outside\"}},\"type\":\"parcoords\"}],\"pie\":[{\"automargin\":true,\"type\":\"pie\"}],\"scatter3d\":[{\"line\":{\"colorbar\":{\"outlinewidth\":1,\"tickcolor\":\"rgb(36,36,36)\",\"ticks\":\"outside\"}},\"marker\":{\"colorbar\":{\"outlinewidth\":1,\"tickcolor\":\"rgb(36,36,36)\",\"ticks\":\"outside\"}},\"type\":\"scatter3d\"}],\"scattercarpet\":[{\"marker\":{\"colorbar\":{\"outlinewidth\":1,\"tickcolor\":\"rgb(36,36,36)\",\"ticks\":\"outside\"}},\"type\":\"scattercarpet\"}],\"scattergeo\":[{\"marker\":{\"colorbar\":{\"outlinewidth\":1,\"tickcolor\":\"rgb(36,36,36)\",\"ticks\":\"outside\"}},\"type\":\"scattergeo\"}],\"scattergl\":[{\"marker\":{\"colorbar\":{\"outlinewidth\":1,\"tickcolor\":\"rgb(36,36,36)\",\"ticks\":\"outside\"}},\"type\":\"scattergl\"}],\"scattermapbox\":[{\"marker\":{\"colorbar\":{\"outlinewidth\":1,\"tickcolor\":\"rgb(36,36,36)\",\"ticks\":\"outside\"}},\"type\":\"scattermapbox\"}],\"scatterpolargl\":[{\"marker\":{\"colorbar\":{\"outlinewidth\":1,\"tickcolor\":\"rgb(36,36,36)\",\"ticks\":\"outside\"}},\"type\":\"scatterpolargl\"}],\"scatterpolar\":[{\"marker\":{\"colorbar\":{\"outlinewidth\":1,\"tickcolor\":\"rgb(36,36,36)\",\"ticks\":\"outside\"}},\"type\":\"scatterpolar\"}],\"scatter\":[{\"fillpattern\":{\"fillmode\":\"overlay\",\"size\":10,\"solidity\":0.2},\"type\":\"scatter\"}],\"scatterternary\":[{\"marker\":{\"colorbar\":{\"outlinewidth\":1,\"tickcolor\":\"rgb(36,36,36)\",\"ticks\":\"outside\"}},\"type\":\"scatterternary\"}],\"surface\":[{\"colorbar\":{\"outlinewidth\":1,\"tickcolor\":\"rgb(36,36,36)\",\"ticks\":\"outside\"},\"colorscale\":[[0.0,\"#440154\"],[0.1111111111111111,\"#482878\"],[0.2222222222222222,\"#3e4989\"],[0.3333333333333333,\"#31688e\"],[0.4444444444444444,\"#26828e\"],[0.5555555555555556,\"#1f9e89\"],[0.6666666666666666,\"#35b779\"],[0.7777777777777778,\"#6ece58\"],[0.8888888888888888,\"#b5de2b\"],[1.0,\"#fde725\"]],\"type\":\"surface\"}],\"table\":[{\"cells\":{\"fill\":{\"color\":\"rgb(237,237,237)\"},\"line\":{\"color\":\"white\"}},\"header\":{\"fill\":{\"color\":\"rgb(217,217,217)\"},\"line\":{\"color\":\"white\"}},\"type\":\"table\"}]},\"layout\":{\"annotationdefaults\":{\"arrowhead\":0,\"arrowwidth\":1},\"autotypenumbers\":\"strict\",\"coloraxis\":{\"colorbar\":{\"outlinewidth\":1,\"tickcolor\":\"rgb(36,36,36)\",\"ticks\":\"outside\"}},\"colorscale\":{\"diverging\":[[0.0,\"rgb(103,0,31)\"],[0.1,\"rgb(178,24,43)\"],[0.2,\"rgb(214,96,77)\"],[0.3,\"rgb(244,165,130)\"],[0.4,\"rgb(253,219,199)\"],[0.5,\"rgb(247,247,247)\"],[0.6,\"rgb(209,229,240)\"],[0.7,\"rgb(146,197,222)\"],[0.8,\"rgb(67,147,195)\"],[0.9,\"rgb(33,102,172)\"],[1.0,\"rgb(5,48,97)\"]],\"sequential\":[[0.0,\"#440154\"],[0.1111111111111111,\"#482878\"],[0.2222222222222222,\"#3e4989\"],[0.3333333333333333,\"#31688e\"],[0.4444444444444444,\"#26828e\"],[0.5555555555555556,\"#1f9e89\"],[0.6666666666666666,\"#35b779\"],[0.7777777777777778,\"#6ece58\"],[0.8888888888888888,\"#b5de2b\"],[1.0,\"#fde725\"]],\"sequentialminus\":[[0.0,\"#440154\"],[0.1111111111111111,\"#482878\"],[0.2222222222222222,\"#3e4989\"],[0.3333333333333333,\"#31688e\"],[0.4444444444444444,\"#26828e\"],[0.5555555555555556,\"#1f9e89\"],[0.6666666666666666,\"#35b779\"],[0.7777777777777778,\"#6ece58\"],[0.8888888888888888,\"#b5de2b\"],[1.0,\"#fde725\"]]},\"colorway\":[\"#1F77B4\",\"#FF7F0E\",\"#2CA02C\",\"#D62728\",\"#9467BD\",\"#8C564B\",\"#E377C2\",\"#7F7F7F\",\"#BCBD22\",\"#17BECF\"],\"font\":{\"color\":\"rgb(36,36,36)\"},\"geo\":{\"bgcolor\":\"white\",\"lakecolor\":\"white\",\"landcolor\":\"white\",\"showlakes\":true,\"showland\":true,\"subunitcolor\":\"white\"},\"hoverlabel\":{\"align\":\"left\"},\"hovermode\":\"closest\",\"mapbox\":{\"style\":\"light\"},\"paper_bgcolor\":\"white\",\"plot_bgcolor\":\"white\",\"polar\":{\"angularaxis\":{\"gridcolor\":\"rgb(232,232,232)\",\"linecolor\":\"rgb(36,36,36)\",\"showgrid\":false,\"showline\":true,\"ticks\":\"outside\"},\"bgcolor\":\"white\",\"radialaxis\":{\"gridcolor\":\"rgb(232,232,232)\",\"linecolor\":\"rgb(36,36,36)\",\"showgrid\":false,\"showline\":true,\"ticks\":\"outside\"}},\"scene\":{\"xaxis\":{\"backgroundcolor\":\"white\",\"gridcolor\":\"rgb(232,232,232)\",\"gridwidth\":2,\"linecolor\":\"rgb(36,36,36)\",\"showbackground\":true,\"showgrid\":false,\"showline\":true,\"ticks\":\"outside\",\"zeroline\":false,\"zerolinecolor\":\"rgb(36,36,36)\"},\"yaxis\":{\"backgroundcolor\":\"white\",\"gridcolor\":\"rgb(232,232,232)\",\"gridwidth\":2,\"linecolor\":\"rgb(36,36,36)\",\"showbackground\":true,\"showgrid\":false,\"showline\":true,\"ticks\":\"outside\",\"zeroline\":false,\"zerolinecolor\":\"rgb(36,36,36)\"},\"zaxis\":{\"backgroundcolor\":\"white\",\"gridcolor\":\"rgb(232,232,232)\",\"gridwidth\":2,\"linecolor\":\"rgb(36,36,36)\",\"showbackground\":true,\"showgrid\":false,\"showline\":true,\"ticks\":\"outside\",\"zeroline\":false,\"zerolinecolor\":\"rgb(36,36,36)\"}},\"shapedefaults\":{\"fillcolor\":\"black\",\"line\":{\"width\":0},\"opacity\":0.3},\"ternary\":{\"aaxis\":{\"gridcolor\":\"rgb(232,232,232)\",\"linecolor\":\"rgb(36,36,36)\",\"showgrid\":false,\"showline\":true,\"ticks\":\"outside\"},\"baxis\":{\"gridcolor\":\"rgb(232,232,232)\",\"linecolor\":\"rgb(36,36,36)\",\"showgrid\":false,\"showline\":true,\"ticks\":\"outside\"},\"bgcolor\":\"white\",\"caxis\":{\"gridcolor\":\"rgb(232,232,232)\",\"linecolor\":\"rgb(36,36,36)\",\"showgrid\":false,\"showline\":true,\"ticks\":\"outside\"}},\"title\":{\"x\":0.05},\"xaxis\":{\"automargin\":true,\"gridcolor\":\"rgb(232,232,232)\",\"linecolor\":\"rgb(36,36,36)\",\"showgrid\":false,\"showline\":true,\"ticks\":\"outside\",\"title\":{\"standoff\":15},\"zeroline\":false,\"zerolinecolor\":\"rgb(36,36,36)\"},\"yaxis\":{\"automargin\":true,\"gridcolor\":\"rgb(232,232,232)\",\"linecolor\":\"rgb(36,36,36)\",\"showgrid\":false,\"showline\":true,\"ticks\":\"outside\",\"title\":{\"standoff\":15},\"zeroline\":false,\"zerolinecolor\":\"rgb(36,36,36)\"}}},\"xaxis\":{\"anchor\":\"y\",\"domain\":[0.0,0.94],\"title\":{\"text\":\"Ablated paths\",\"standoff\":30},\"tickvals\":[0,1,2,3],\"ticktext\":[\"None\",\"Indirect paths\\u003cbr\\u003e(except L11H10)\",\"Indirect paths\\u003cbr\\u003e(all)\",\"Direct path\"]},\"yaxis\":{\"anchor\":\"x\",\"domain\":[0.0,1.0],\"title\":{\"text\":\"\\u003cb\\u003eLoss\\u003c\\u002fb\\u003e\",\"font\":{\"size\":24,\"color\":\"#1F77B4\"}},\"range\":[3.0279000000000003,3.0441000000000003]},\"yaxis2\":{\"anchor\":\"x\",\"overlaying\":\"y\",\"side\":\"right\",\"title\":{\"font\":{\"size\":24,\"color\":\"#FF7F0E\"},\"text\":\"\\u003cb\\u003eKL Divergence\\u003c\\u002fb\\u003e\",\"standoff\":30},\"range\":[0.0,0.0215]},\"images\":[{\"layer\":\"below\",\"sizex\":0.5,\"sizey\":0.0031,\"sizing\":\"contain\",\"source\":\"data:image\\u002fsvg+xml;base64,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\",\"x\":0,\"xanchor\":\"center\",\"xref\":\"x\",\"y\":3.0294000000000003,\"yanchor\":\"bottom\",\"yref\":\"y\"},{\"layer\":\"below\",\"sizex\":0.5,\"sizey\":0.0031,\"sizing\":\"contain\",\"source\":\"data:image\\u002fsvg+xml;base64,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\",\"x\":1,\"xanchor\":\"center\",\"xref\":\"x\",\"y\":3.0305500000000003,\"yanchor\":\"bottom\",\"yref\":\"y\"},{\"layer\":\"below\",\"sizex\":0.5,\"sizey\":0.0031,\"sizing\":\"contain\",\"source\":\"data:image\\u002fsvg+xml;base64,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\",\"x\":2,\"xanchor\":\"center\",\"xref\":\"x\",\"y\":3.031,\"yanchor\":\"bottom\",\"yref\":\"y\"},{\"layer\":\"below\",\"sizex\":0.5,\"sizey\":0.0031,\"sizing\":\"contain\",\"source\":\"data:image\\u002fsvg+xml;base64,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\",\"x\":3,\"xanchor\":\"center\",\"xref\":\"x\",\"y\":3.0396000000000005,\"yanchor\":\"bottom\",\"yref\":\"y\"},{\"layer\":\"below\",\"sizex\":0.45,\"sizey\":0.45,\"sizing\":\"contain\",\"source\":\"data:image\\u002fsvg+xml;base64,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\",\"x\":0.35,\"xanchor\":\"center\",\"xref\":\"paper\",\"y\":0.76,\"yanchor\":\"middle\",\"yref\":\"paper\"}],\"font\":{\"size\":14},\"margin\":{\"l\":120,\"r\":80,\"b\":120,\"t\":140},\"title\":{\"font\":{\"size\":26},\"text\":\"Comparison of different ablations for L10H7\",\"y\":0.95},\"barmode\":\"group\",\"width\":1200,\"height\":900,\"bargap\":0.6,\"showlegend\":false},                        {\"responsive\": true}                    ).then(function(){\n",
       "                            \n",
       "var gd = document.getElementById('fba66a22-bac2-4289-96ec-706156083c5f');\n",
       "var x = new MutationObserver(function (mutations, observer) {{\n",
       "        var display = window.getComputedStyle(gd).display;\n",
       "        if (!display || display === 'none') {{\n",
       "            console.log([gd, 'removed!']);\n",
       "            Plotly.purge(gd);\n",
       "            observer.disconnect();\n",
       "        }}\n",
       "}});\n",
       "\n",
       "// Listen for the removal of the full notebook cells\n",
       "var notebookContainer = gd.closest('#notebook-container');\n",
       "if (notebookContainer) {{\n",
       "    x.observe(notebookContainer, {childList: true});\n",
       "}}\n",
       "\n",
       "// Listen for the clearing of the current output cell\n",
       "var outputEl = gd.closest('.output');\n",
       "if (outputEl) {{\n",
       "    x.observe(outputEl, {childList: true});\n",
       "}}\n",
       "\n",
       "                        })                };                });            </script>        </div>"
      ]
     },
     "metadata": {},
     "output_type": "display_data"
    }
   ],
   "source": [
    "import plotly.graph_objects as go\n",
    "from plotly.subplots import make_subplots\n",
    "import base64\n",
    "import numpy as np\n",
    "from pathlib import Path\n",
    "figures_path = Path(r\"/home/ubuntu/SERI-MATS-2023-Streamlit-pages/transformer_lens/rs/callum2/generate_st_html/paper_figures\").resolve()\n",
    "\n",
    "figmain = figures_path / \"cmain.svg\"\n",
    "fig1 = figures_path / \"c1.svg\"\n",
    "fig2 = figures_path / \"c2.svg\"\n",
    "fig3 = figures_path / \"c3.svg\"\n",
    "fig4 = figures_path / \"c4.svg\"\n",
    "fig_dict = {}\n",
    "\n",
    "for path in [figmain, fig1, fig2, fig3, fig4]:\n",
    "    with open(path, \"rb\") as f:\n",
    "        encoded_svg = base64.b64encode(f.read()).decode(\"utf-8\")\n",
    "    svg_data_uri = \"data:image/svg+xml;base64,\" + encoded_svg\n",
    "    fig_dict[path.stem] = svg_data_uri\n",
    "\n",
    "print(fig_dict.keys())\n",
    "\n",
    "c1 = fig_dict[\"c1\"]\n",
    "c2 = fig_dict[\"c2\"]\n",
    "c3 = fig_dict[\"c3\"]\n",
    "c4 = fig_dict[\"c4\"]\n",
    "cmain = fig_dict[\"cmain\"]\n",
    "\n",
    "# Set x value\n",
    "x_value = 3.0289\n",
    "y_values = [x_value, x_value + 0.0008, x_value + 0.0016, x_value + 0.0102]\n",
    "y_str_values = [f\"{y:.4f}\" for y in y_values]\n",
    "# y_str_values = [\"\", \"+0.0008\", \"+0.0016\", \"+0.0102\"]\n",
    "y2_values = [0, 0.00297, 0.00323, 0.01449]\n",
    "y2_str_values = [f\"{y:.4f}\" for y in y2_values]\n",
    "# y2_str_values = [\"\", \"0.0030\", \"0.0032\", \"0.0145\"]\n",
    "x_labels = [\"None\", \"Indirect paths<br>(except L11H10)\", \"Indirect paths<br>(all)\", \"Direct path\"]\n",
    "\n",
    "# Compute y-axis range\n",
    "y_min = min(y_values) - 0.001\n",
    "y_max = max(y_values) + 0.005\n",
    "\n",
    "# Define the list of encoded SVG images\n",
    "encoded_images = [c1, c2, c3, c4]\n",
    "\n",
    "# Create the figure, add the bars\n",
    "width = 0.4\n",
    "fig = make_subplots(specs=[[{\"secondary_y\": True}]])\n",
    "fig.add_trace(\n",
    "    go.Bar(\n",
    "        x=np.arange(len(x_labels)) - width/2,\n",
    "        y=y_values,\n",
    "        text=y_str_values,\n",
    "        textposition='inside',\n",
    "        marker_color='#1F77B4',\n",
    "        hoverinfo='y',\n",
    "        name=\"Loss\",\n",
    "    ),\n",
    "    secondary_y = False,\n",
    ")\n",
    "fig.add_trace(\n",
    "    go.Bar(\n",
    "        x=np.arange(len(x_labels)) + width/2,\n",
    "        y=y2_values,\n",
    "        text=y2_str_values,\n",
    "        textposition='inside',\n",
    "        marker_color='#FF7F0E',\n",
    "        hoverinfo='y',\n",
    "        name=\"KL Divergence\"\n",
    "    ),\n",
    "    secondary_y = True,\n",
    ")\n",
    "\n",
    "y_bumps = [0, 0.00035, 0, 0] # for orange/blue y balance\n",
    " \n",
    "# Add the images\n",
    "for i, img in enumerate(encoded_images):\n",
    "    fig.add_layout_image(\n",
    "        dict(\n",
    "            source=img,\n",
    "            x=np.arange(len(x_labels))[i],\n",
    "            y=y_values[i] + 0.0005 + y_bumps[i],\n",
    "            xref=\"x\",\n",
    "            yref=\"y\",\n",
    "            sizex=0.5,\n",
    "            sizey=0.0031, # 0.003 for no legend\n",
    "            xanchor=\"center\",\n",
    "            yanchor=\"bottom\",\n",
    "            layer=\"below\",\n",
    "            sizing=\"contain\",\n",
    "        )\n",
    "    )\n",
    "\n",
    "fig.add_layout_image(\n",
    "    dict(\n",
    "        source=cmain,\n",
    "        x=0.35,\n",
    "        y=0.76,\n",
    "        xref=\"paper\",\n",
    "        yref=\"paper\",\n",
    "        sizex=0.45,\n",
    "        sizey=0.45, # 0.4 for no legend\n",
    "        xanchor=\"center\",\n",
    "        yanchor=\"middle\",\n",
    "        layer=\"below\",\n",
    "        sizing=\"contain\",\n",
    "    )\n",
    ")\n",
    "\n",
    "# Update the layout\n",
    "fig.update_layout(\n",
    "    barmode=\"group\",\n",
    "    xaxis_title=\"Ablated paths\",\n",
    "    yaxis_title=\"Loss\",\n",
    "    template=\"simple_white\",\n",
    "    width=1200,\n",
    "    height=900,\n",
    "    yaxis=dict(\n",
    "        range=[y_min, y_max],\n",
    "        title_text=\"<b>Loss</b>\",\n",
    "        title_font_size=24,\n",
    "        title_font_color=\"#1F77B4\",\n",
    "    ),\n",
    "    yaxis2=dict(\n",
    "        range=[0.0, 0.0215],\n",
    "        title_text=\"<b>KL Divergence</b>\",\n",
    "        title_font_size=24,\n",
    "        title_font_color=\"#FF7F0E\",\n",
    "        title_standoff=30,\n",
    "    ),\n",
    "    # annotations=annotations,\n",
    "    font=dict(size=14),\n",
    "    bargap=0.6,\n",
    "    margin=dict(l=120, r=80, b=120, t=140),\n",
    "    title=dict(\n",
    "        text=\"Comparison of different ablations for L10H7\",\n",
    "        y=0.95,\n",
    "        font_size=26,\n",
    "    ),\n",
    "    xaxis=dict(\n",
    "        title_standoff=30,\n",
    "        tickvals=np.arange(len(x_labels)),\n",
    "        ticktext=x_labels\n",
    "    ),\n",
    "    showlegend=False,\n",
    ")\n",
    "\n",
    "# Show the plot\n",
    "fig.show()"
   ]
  },
  {
   "cell_type": "code",
   "execution_count": null,
   "metadata": {},
   "outputs": [],
   "source": []
  }
 ],
 "metadata": {
  "kernelspec": {
   "display_name": "base",
   "language": "python",
   "name": "python3"
  },
  "language_info": {
   "codemirror_mode": {
    "name": "ipython",
    "version": 3
   },
   "file_extension": ".py",
   "mimetype": "text/x-python",
   "name": "python",
   "nbconvert_exporter": "python",
   "pygments_lexer": "ipython3",
   "version": "3.11.4"
  },
  "orig_nbformat": 4
 },
 "nbformat": 4,
 "nbformat_minor": 2
}
