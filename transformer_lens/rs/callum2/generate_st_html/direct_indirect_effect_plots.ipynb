{
 "cells": [
  {
   "cell_type": "markdown",
   "metadata": {},
   "source": [
    "# Direct & Indirect effect plots\n",
    "\n",
    "This notebook is for creating the bar chart which will be used in the paper, to compare direct & indirect effects of head 10.7."
   ]
  },
  {
   "cell_type": "code",
   "execution_count": 22,
   "metadata": {},
   "outputs": [],
   "source": [
    "import os, sys\n",
    "from pathlib import Path\n",
    "p = Path(r\"/home/ubuntu/SERI-MATS-2023-Streamlit-pages\")\n",
    "if os.path.exists(str_p := str(p.resolve())):\n",
    "    os.chdir(str_p)\n",
    "    if str_p not in sys.path:\n",
    "        sys.path.append(str_p)\n",
    "\n",
    "from transformer_lens.cautils.notebook import *\n",
    "\n",
    "from transformer_lens.rs.callum2.generate_st_html.model_results import (\n",
    "    get_model_results,\n",
    "    get_model_results_batched,\n",
    "    ModelResults,\n",
    "    HeadResults,\n",
    "    LayerResults,\n",
    "    DictOfHeadResults,\n",
    ")\n",
    "\n",
    "from transformer_lens.rs.callum2.cspa.cspa_utils import (\n",
    "    parse_str,\n",
    "    parse_str_toks_for_printing,\n",
    "    kl_div,\n",
    "    get_result_mean,\n",
    ")\n",
    "\n",
    "def create_dict_for_table(\n",
    "    results: DictOfHeadResults,\n",
    "    ln_mode: str = \"frozen\",\n",
    "    head: Tuple[int, int] = (10, 7)\n",
    ") -> Dict[str, Tensor]:\n",
    "    L, H = head\n",
    "    return {\n",
    "        k[0]: v[L, H]\n",
    "        for k, v in results.items()\n",
    "        if k[1:] == (ln_mode, \"mean\")\n",
    "    }"
   ]
  },
  {
   "cell_type": "code",
   "execution_count": 2,
   "metadata": {},
   "outputs": [],
   "source": [
    "model = HookedTransformer.from_pretrained(\n",
    "    \"gpt2-small\",\n",
    "    center_unembed=True,\n",
    "    center_writing_weights=True,\n",
    "    fold_ln=True,\n",
    "    device=\"cuda\",\n",
    ")\n",
    "model.set_use_split_qkv_input(False)\n",
    "model.set_use_attn_result(True)\n",
    "\n",
    "clear_output()"
   ]
  },
  {
   "cell_type": "code",
   "execution_count": 3,
   "metadata": {},
   "outputs": [
    {
     "name": "stdout",
     "output_type": "stream",
     "text": [
      "Shape = torch.Size([200, 500])\n",
      "\n",
      "First prompt:\n",
      "<|endoftext|>Story highlights NASA probe gives insight into Mercury's formation\n",
      "\n",
      "The surface has sulfur levels 10 times higher than Earth's\n",
      "\n",
      "The MESSENGER orbiter has been circling Mercury since March 2011\n",
      "\n",
      "X-ray data from NASA's MESSENGER probe points to high levels of magnesium and sulfur on the surface of the planet Mercury, suggesting its makeup is far different from that of other planets, scientists say.\n",
      "\n",
      "The unmanned orbiter has been beaming back data from the first planet for a year and a half. Readings from its X-ray spectrometer point to a planet whose northern volcanic plains formed through upwellings of rocks more exotic than those often found on the Earth, the Moon or Mars, said Shoshana Weider, a researcher at the Carnegie Institution of Washington.\n",
      "\n",
      "\"Before this MESSENGER mission, a lot of people assumed it was very like the Moon -- it's dark, it's grey,\" Weider said. But while the Moon's surface formed when light materials floated to the top of an ocean of molten rock, the low level of calcium on Mercury indicates that didn't happen there.\n",
      "\n",
      "\"This gives us clues to the kind of precursor materials that accreted to form Mercury, in an extremely oxygen-poor environment,\" Weider said.\n",
      "\n",
      "The concentration of sulfur on the surface is about 10 times that seen on Earth, she said. And while Mercury's iron core \"makes up a huge amount of the planet,\" very little is found at the surface.\n",
      "\n",
      "The northern region of volcanic plains differs significantly from the surrounding portion of Mercury, where the surface -- as dated by the number of craters -- is about a billion years older, Weider said.\n",
      "\n",
      "The results were published in the latest issue of the Journal of Geophysical Research, a peer-reviewed publication of the American Geophysical Union. Weider and her co-authors studied 205 different readings from the spectrometer to produce their results.\n",
      "\n",
      "MESSENGER -- an acronym for the Mercury Surface Space Environment, Geochemistry and Ranging mission -- has been orbiting Mercury since March 2011. It's only the second spacecraft to reach the planet and the first to circle it.\n",
      "\n",
      "It's about 5% the size of Earth and revolves around the sun every 88 days. It rotates very slowly -- once every 58 Earth days -- and the surface temperature on the day side can reach 800 degrees Fahrenheit (425 C\n"
     ]
    }
   ],
   "source": [
    "BATCH_SIZE = 200 # 80 for viz\n",
    "SEQ_LEN = 500 # 61 for viz\n",
    "batch_idx = 36\n",
    "\n",
    "def process_webtext(\n",
    "    seed: int = 6,\n",
    "    batch_size: int = BATCH_SIZE,\n",
    "    indices: Optional[List[int]] = None,\n",
    "    seq_len: int = SEQ_LEN,\n",
    "    verbose: bool = False,\n",
    "):\n",
    "    DATA_STR = get_webtext(seed=seed)\n",
    "    if indices is None:\n",
    "        DATA_STR = DATA_STR[:batch_size]\n",
    "    else:\n",
    "        DATA_STR = [DATA_STR[i] for i in indices]\n",
    "    DATA_STR = [parse_str(s) for s in DATA_STR]\n",
    "\n",
    "    DATA_TOKS = model.to_tokens(DATA_STR)\n",
    "    DATA_STR_TOKS = model.to_str_tokens(DATA_STR)\n",
    "\n",
    "    if seq_len < 1024:\n",
    "        DATA_TOKS = DATA_TOKS[:, :seq_len]\n",
    "        DATA_STR_TOKS = [str_toks[:seq_len] for str_toks in DATA_STR_TOKS]\n",
    "\n",
    "    DATA_STR_TOKS_PARSED = list(map(parse_str_toks_for_printing, DATA_STR_TOKS))\n",
    "\n",
    "    clear_output()\n",
    "    if verbose:\n",
    "        print(f\"Shape = {DATA_TOKS.shape}\\n\")\n",
    "        print(\"First prompt:\\n\" + \"\".join(DATA_STR_TOKS[0]))\n",
    "\n",
    "    return DATA_TOKS, DATA_STR_TOKS_PARSED\n",
    "\n",
    "DATA_TOKS, DATA_STR_TOKS_PARSED = process_webtext(verbose=True, seed=1)"
   ]
  },
  {
   "cell_type": "code",
   "execution_count": 8,
   "metadata": {},
   "outputs": [
    {
     "data": {
      "text/html": [
       "<pre style=\"white-space:pre;overflow-x:auto;line-height:normal;font-family:Menlo,'DejaVu Sans Mono',consolas,'Courier New',monospace\"><span style=\"font-style: italic\">                                              Results for bar chart!                                               </span>\n",
       "┏━━━━━━━━━━━━━━━━━━━━━━━━━━━━┳━━━━━━━━━━━━━━━━━━━━━━━━┳━━━━━━━━━━━━━━━━━━━━━━━━━━━━━━━┳━━━━━━━━━━━━━━━━━━━━━━━━━━━┓\n",
       "┃<span style=\"font-weight: bold\">                            </span>┃<span style=\"font-weight: bold\">                        </span>┃<span style=\"font-weight: bold\"> Average absolute effect on    </span>┃<span style=\"font-weight: bold\">                           </span>┃\n",
       "┃<span style=\"font-weight: bold\"> Type of ablation           </span>┃<span style=\"font-weight: bold\"> Average effect on loss </span>┃<span style=\"font-weight: bold\"> loss                          </span>┃<span style=\"font-weight: bold\"> Average KL div from clean </span>┃\n",
       "┡━━━━━━━━━━━━━━━━━━━━━━━━━━━━╇━━━━━━━━━━━━━━━━━━━━━━━━╇━━━━━━━━━━━━━━━━━━━━━━━━━━━━━━━╇━━━━━━━━━━━━━━━━━━━━━━━━━━━┩\n",
       "│ Both                       │ 0.0062                 │ 0.0719                        │ 0.01183                   │\n",
       "│ Direct                     │ 0.0055                 │ 0.0715                        │ 0.01343                   │\n",
       "│ Indirect                   │ 0.0053                 │ 0.0426                        │ 0.00302                   │\n",
       "│ Indirect (excluding 11.10) │ 0.0046                 │ 0.0403                        │ 0.00264                   │\n",
       "└────────────────────────────┴────────────────────────┴───────────────────────────────┴───────────────────────────┘\n",
       "</pre>\n"
      ],
      "text/plain": [
       "\u001b[3m                                              Results for bar chart!                                               \u001b[0m\n",
       "┏━━━━━━━━━━━━━━━━━━━━━━━━━━━━┳━━━━━━━━━━━━━━━━━━━━━━━━┳━━━━━━━━━━━━━━━━━━━━━━━━━━━━━━━┳━━━━━━━━━━━━━━━━━━━━━━━━━━━┓\n",
       "┃\u001b[1m                            \u001b[0m┃\u001b[1m                        \u001b[0m┃\u001b[1m \u001b[0m\u001b[1mAverage absolute effect on   \u001b[0m\u001b[1m \u001b[0m┃\u001b[1m                           \u001b[0m┃\n",
       "┃\u001b[1m \u001b[0m\u001b[1mType of ablation          \u001b[0m\u001b[1m \u001b[0m┃\u001b[1m \u001b[0m\u001b[1mAverage effect on loss\u001b[0m\u001b[1m \u001b[0m┃\u001b[1m \u001b[0m\u001b[1mloss                         \u001b[0m\u001b[1m \u001b[0m┃\u001b[1m \u001b[0m\u001b[1mAverage KL div from clean\u001b[0m\u001b[1m \u001b[0m┃\n",
       "┡━━━━━━━━━━━━━━━━━━━━━━━━━━━━╇━━━━━━━━━━━━━━━━━━━━━━━━╇━━━━━━━━━━━━━━━━━━━━━━━━━━━━━━━╇━━━━━━━━━━━━━━━━━━━━━━━━━━━┩\n",
       "│ Both                       │ 0.0062                 │ 0.0719                        │ 0.01183                   │\n",
       "│ Direct                     │ 0.0055                 │ 0.0715                        │ 0.01343                   │\n",
       "│ Indirect                   │ 0.0053                 │ 0.0426                        │ 0.00302                   │\n",
       "│ Indirect (excluding 11.10) │ 0.0046                 │ 0.0403                        │ 0.00264                   │\n",
       "└────────────────────────────┴────────────────────────┴───────────────────────────────┴───────────────────────────┘\n"
      ]
     },
     "metadata": {},
     "output_type": "display_data"
    }
   ],
   "source": [
    "result_mean = get_result_mean(\n",
    "    head_list=[(10, 7)],\n",
    "    toks=DATA_TOKS[:100],\n",
    "    model=model,\n",
    "    minibatch_size=10,\n",
    "    keep_seq_dim=True,\n",
    "    verbose=True\n",
    ")\n",
    "\n",
    "model_results = get_model_results_batched(\n",
    "    model = model,\n",
    "    toks = DATA_TOKS[:100, :500],\n",
    "    max_batch_size = 4,\n",
    "    negative_heads = [(10, 7)],\n",
    "    use_cuda = True,\n",
    "    store_in_cuda = False,\n",
    "    verbose = True,\n",
    "    effective_embedding = \"W_E (including MLPs)\",\n",
    "    result_mean = result_mean,\n",
    "    keep_logits = False,\n",
    "    keep_seq_dim_when_mean_ablating = True,\n",
    ")\n",
    "\n",
    "loss_diffs_dict = create_dict_for_table(model_results.loss_diffs)\n",
    "kl_divs_dict = create_dict_for_table(model_results.kl_divs)\n",
    "\n",
    "table = Table(\"Type of ablation\", \"Average effect on loss\", \"Average absolute effect on loss\", \"Average KL div from clean\", title=\"Results for bar chart!\")\n",
    "for k, v in loss_diffs_dict.items():\n",
    "    table.add_row(k.capitalize(), f\"{v.mean():.4f}\", f\"{v.abs().mean():.4f}\", f\"{kl_divs_dict[k].mean():.5f}\")\n",
    "rprint(table)"
   ]
  },
  {
   "cell_type": "code",
   "execution_count": 10,
   "metadata": {},
   "outputs": [
    {
     "data": {
      "text/html": [
       "<pre style=\"white-space:pre;overflow-x:auto;line-height:normal;font-family:Menlo,'DejaVu Sans Mono',consolas,'Courier New',monospace\"><span style=\"font-style: italic\">                                              Results for bar chart!                                               </span>\n",
       "┏━━━━━━━━━━━━━━━━━━━━━━━━━━━━┳━━━━━━━━━━━━━━━━━━━━━━━━┳━━━━━━━━━━━━━━━━━━━━━━━━━━━━━━━┳━━━━━━━━━━━━━━━━━━━━━━━━━━━┓\n",
       "┃<span style=\"font-weight: bold\">                            </span>┃<span style=\"font-weight: bold\">                        </span>┃<span style=\"font-weight: bold\"> Average absolute effect on    </span>┃<span style=\"font-weight: bold\">                           </span>┃\n",
       "┃<span style=\"font-weight: bold\"> Type of ablation           </span>┃<span style=\"font-weight: bold\"> Average effect on loss </span>┃<span style=\"font-weight: bold\"> loss                          </span>┃<span style=\"font-weight: bold\"> Average KL div from clean </span>┃\n",
       "┡━━━━━━━━━━━━━━━━━━━━━━━━━━━━╇━━━━━━━━━━━━━━━━━━━━━━━━╇━━━━━━━━━━━━━━━━━━━━━━━━━━━━━━━╇━━━━━━━━━━━━━━━━━━━━━━━━━━━┩\n",
       "│ Both                       │ -0.0006                │ 0.0695                        │ 0.01017                   │\n",
       "│ Direct                     │ 0.0079                 │ 0.0687                        │ 0.01318                   │\n",
       "│ Indirect                   │ -0.0037                │ 0.0460                        │ 0.00331                   │\n",
       "│ Indirect (excluding 11.10) │ -0.0056                │ 0.0437                        │ 0.00264                   │\n",
       "└────────────────────────────┴────────────────────────┴───────────────────────────────┴───────────────────────────┘\n",
       "</pre>\n"
      ],
      "text/plain": [
       "\u001b[3m                                              Results for bar chart!                                               \u001b[0m\n",
       "┏━━━━━━━━━━━━━━━━━━━━━━━━━━━━┳━━━━━━━━━━━━━━━━━━━━━━━━┳━━━━━━━━━━━━━━━━━━━━━━━━━━━━━━━┳━━━━━━━━━━━━━━━━━━━━━━━━━━━┓\n",
       "┃\u001b[1m                            \u001b[0m┃\u001b[1m                        \u001b[0m┃\u001b[1m \u001b[0m\u001b[1mAverage absolute effect on   \u001b[0m\u001b[1m \u001b[0m┃\u001b[1m                           \u001b[0m┃\n",
       "┃\u001b[1m \u001b[0m\u001b[1mType of ablation          \u001b[0m\u001b[1m \u001b[0m┃\u001b[1m \u001b[0m\u001b[1mAverage effect on loss\u001b[0m\u001b[1m \u001b[0m┃\u001b[1m \u001b[0m\u001b[1mloss                         \u001b[0m\u001b[1m \u001b[0m┃\u001b[1m \u001b[0m\u001b[1mAverage KL div from clean\u001b[0m\u001b[1m \u001b[0m┃\n",
       "┡━━━━━━━━━━━━━━━━━━━━━━━━━━━━╇━━━━━━━━━━━━━━━━━━━━━━━━╇━━━━━━━━━━━━━━━━━━━━━━━━━━━━━━━╇━━━━━━━━━━━━━━━━━━━━━━━━━━━┩\n",
       "│ Both                       │ -0.0006                │ 0.0695                        │ 0.01017                   │\n",
       "│ Direct                     │ 0.0079                 │ 0.0687                        │ 0.01318                   │\n",
       "│ Indirect                   │ -0.0037                │ 0.0460                        │ 0.00331                   │\n",
       "│ Indirect (excluding 11.10) │ -0.0056                │ 0.0437                        │ 0.00264                   │\n",
       "└────────────────────────────┴────────────────────────┴───────────────────────────────┴───────────────────────────┘\n"
      ]
     },
     "metadata": {},
     "output_type": "display_data"
    }
   ],
   "source": [
    "# result_mean = get_result_mean(\n",
    "#     head_list=[(10, 7)],\n",
    "#     toks=DATA_TOKS[:100],\n",
    "#     model=model,\n",
    "#     minibatch_size=10,\n",
    "#     keep_seq_dim=True,\n",
    "#     verbose=True\n",
    "# )\n",
    "\n",
    "# model_results = get_model_results_batched(\n",
    "#     model = model,\n",
    "#     toks = DATA_TOKS[:100, :500],\n",
    "#     max_batch_size = 4,\n",
    "#     negative_heads = [(10, 7)],\n",
    "#     use_cuda = True,\n",
    "#     store_in_cuda = False,\n",
    "#     verbose = True,\n",
    "#     effective_embedding = \"W_E (including MLPs)\",\n",
    "#     result_mean = result_mean,\n",
    "#     keep_logits = False,\n",
    "#     keep_seq_dim_when_mean_ablating = True,\n",
    "# )\n",
    "\n",
    "loss_diffs_dict = create_dict_for_table(model_results.loss_diffs, ln_mode=\"unfrozen\")\n",
    "kl_divs_dict = create_dict_for_table(model_results.kl_divs, ln_mode=\"unfrozen\")\n",
    "\n",
    "table = Table(\"Type of ablation\", \"Average effect on loss\", \"Average absolute effect on loss\", \"Average KL div from clean\", title=\"Results for bar chart!\")\n",
    "for k, v in loss_diffs_dict.items():\n",
    "    table.add_row(k.capitalize(), f\"{v.mean():.4f}\", f\"{v.abs().mean():.4f}\", f\"{kl_divs_dict[k].mean():.5f}\")\n",
    "rprint(table)"
   ]
  },
  {
   "cell_type": "code",
   "execution_count": 16,
   "metadata": {},
   "outputs": [
    {
     "name": "stderr",
     "output_type": "stream",
     "text": [
      "100%|██████████| 10/10 [00:01<00:00,  6.29it/s]\n",
      "Batch 1/25, shape (4, 500), time 0.88s:   4%|▍         | 1/25 [01:12<28:53, 72.23s/it]\n",
      "Batch 25/25, shape (4, 500), time 1.49s: 100%|██████████| 25/25 [00:29<00:00,  1.17s/it]\n"
     ]
    },
    {
     "data": {
      "text/html": [
       "<pre style=\"white-space:pre;overflow-x:auto;line-height:normal;font-family:Menlo,'DejaVu Sans Mono',consolas,'Courier New',monospace\"><span style=\"font-style: italic\">                                              Results for bar chart!                                               </span>\n",
       "┏━━━━━━━━━━━━━━━━━━━━━━━━━━━━┳━━━━━━━━━━━━━━━━━━━━━━━━┳━━━━━━━━━━━━━━━━━━━━━━━━━━━━━━━┳━━━━━━━━━━━━━━━━━━━━━━━━━━━┓\n",
       "┃<span style=\"font-weight: bold\">                            </span>┃<span style=\"font-weight: bold\">                        </span>┃<span style=\"font-weight: bold\"> Average absolute effect on    </span>┃<span style=\"font-weight: bold\">                           </span>┃\n",
       "┃<span style=\"font-weight: bold\"> Type of ablation           </span>┃<span style=\"font-weight: bold\"> Average effect on loss </span>┃<span style=\"font-weight: bold\"> loss                          </span>┃<span style=\"font-weight: bold\"> Average KL div from clean </span>┃\n",
       "┡━━━━━━━━━━━━━━━━━━━━━━━━━━━━╇━━━━━━━━━━━━━━━━━━━━━━━━╇━━━━━━━━━━━━━━━━━━━━━━━━━━━━━━━╇━━━━━━━━━━━━━━━━━━━━━━━━━━━┩\n",
       "│ Both                       │ 0.0058                 │ 0.0693                        │ 0.01151                   │\n",
       "│ Direct                     │ 0.0059                 │ 0.0699                        │ 0.01314                   │\n",
       "│ Indirect                   │ 0.0045                 │ 0.0410                        │ 0.00294                   │\n",
       "│ Indirect (excluding 11.10) │ 0.0038                 │ 0.0386                        │ 0.00256                   │\n",
       "└────────────────────────────┴────────────────────────┴───────────────────────────────┴───────────────────────────┘\n",
       "</pre>\n"
      ],
      "text/plain": [
       "\u001b[3m                                              Results for bar chart!                                               \u001b[0m\n",
       "┏━━━━━━━━━━━━━━━━━━━━━━━━━━━━┳━━━━━━━━━━━━━━━━━━━━━━━━┳━━━━━━━━━━━━━━━━━━━━━━━━━━━━━━━┳━━━━━━━━━━━━━━━━━━━━━━━━━━━┓\n",
       "┃\u001b[1m                            \u001b[0m┃\u001b[1m                        \u001b[0m┃\u001b[1m \u001b[0m\u001b[1mAverage absolute effect on   \u001b[0m\u001b[1m \u001b[0m┃\u001b[1m                           \u001b[0m┃\n",
       "┃\u001b[1m \u001b[0m\u001b[1mType of ablation          \u001b[0m\u001b[1m \u001b[0m┃\u001b[1m \u001b[0m\u001b[1mAverage effect on loss\u001b[0m\u001b[1m \u001b[0m┃\u001b[1m \u001b[0m\u001b[1mloss                         \u001b[0m\u001b[1m \u001b[0m┃\u001b[1m \u001b[0m\u001b[1mAverage KL div from clean\u001b[0m\u001b[1m \u001b[0m┃\n",
       "┡━━━━━━━━━━━━━━━━━━━━━━━━━━━━╇━━━━━━━━━━━━━━━━━━━━━━━━╇━━━━━━━━━━━━━━━━━━━━━━━━━━━━━━━╇━━━━━━━━━━━━━━━━━━━━━━━━━━━┩\n",
       "│ Both                       │ 0.0058                 │ 0.0693                        │ 0.01151                   │\n",
       "│ Direct                     │ 0.0059                 │ 0.0699                        │ 0.01314                   │\n",
       "│ Indirect                   │ 0.0045                 │ 0.0410                        │ 0.00294                   │\n",
       "│ Indirect (excluding 11.10) │ 0.0038                 │ 0.0386                        │ 0.00256                   │\n",
       "└────────────────────────────┴────────────────────────┴───────────────────────────────┴───────────────────────────┘\n"
      ]
     },
     "metadata": {},
     "output_type": "display_data"
    }
   ],
   "source": [
    "result_mean = get_result_mean(\n",
    "    head_list=[(10, 7)],\n",
    "    toks=DATA_TOKS[:100],\n",
    "    model=model,\n",
    "    minibatch_size=10,\n",
    "    keep_seq_dim=True,\n",
    "    verbose=True\n",
    ")\n",
    "\n",
    "model_results = get_model_results_batched(\n",
    "    model = model,\n",
    "    toks = DATA_TOKS[:100, :500],\n",
    "    max_batch_size = 4,\n",
    "    negative_heads = [(10, 7)],\n",
    "    use_cuda = True,\n",
    "    store_in_cuda = False,\n",
    "    verbose = True,\n",
    "    effective_embedding = \"W_E (including MLPs)\",\n",
    "    result_mean = result_mean,\n",
    "    keep_logits = False,\n",
    "    keep_seq_dim_when_mean_ablating = True,\n",
    ")\n",
    "\n",
    "loss_diffs_dict = create_dict_for_table(model_results.loss_diffs, ln_mode=\"frozen\")\n",
    "kl_divs_dict = create_dict_for_table(model_results.kl_divs, ln_mode=\"frozen\")\n",
    "\n",
    "table = Table(\"Type of ablation\", \"Average effect on loss\", \"Average absolute effect on loss\", \"Average KL div from clean\", title=\"Results for bar chart!\")\n",
    "for k, v in loss_diffs_dict.items():\n",
    "    table.add_row(k.capitalize(), f\"{v.mean():.4f}\", f\"{v.abs().mean():.4f}\", f\"{kl_divs_dict[k].mean():.5f}\")\n",
    "rprint(table)"
   ]
  },
  {
   "cell_type": "code",
   "execution_count": 17,
   "metadata": {},
   "outputs": [
    {
     "data": {
      "text/html": [
       "<pre style=\"white-space:pre;overflow-x:auto;line-height:normal;font-family:Menlo,'DejaVu Sans Mono',consolas,'Courier New',monospace\"><span style=\"font-style: italic\">                                              Results for bar chart!                                               </span>\n",
       "┏━━━━━━━━━━━━━━━━━━━━━━━━━━━━┳━━━━━━━━━━━━━━━━━━━━━━━━┳━━━━━━━━━━━━━━━━━━━━━━━━━━━━━━━┳━━━━━━━━━━━━━━━━━━━━━━━━━━━┓\n",
       "┃<span style=\"font-weight: bold\">                            </span>┃<span style=\"font-weight: bold\">                        </span>┃<span style=\"font-weight: bold\"> Average absolute effect on    </span>┃<span style=\"font-weight: bold\">                           </span>┃\n",
       "┃<span style=\"font-weight: bold\"> Type of ablation           </span>┃<span style=\"font-weight: bold\"> Average effect on loss </span>┃<span style=\"font-weight: bold\"> loss                          </span>┃<span style=\"font-weight: bold\"> Average KL div from clean </span>┃\n",
       "┡━━━━━━━━━━━━━━━━━━━━━━━━━━━━╇━━━━━━━━━━━━━━━━━━━━━━━━╇━━━━━━━━━━━━━━━━━━━━━━━━━━━━━━━╇━━━━━━━━━━━━━━━━━━━━━━━━━━━┩\n",
       "│ Both                       │ 0.0018                 │ 0.0654                        │ 0.00995                   │\n",
       "│ Direct                     │ 0.0073                 │ 0.0681                        │ 0.01289                   │\n",
       "│ Indirect                   │ -0.0009                │ 0.0420                        │ 0.00321                   │\n",
       "│ Indirect (excluding 11.10) │ -0.0025                │ 0.0396                        │ 0.00257                   │\n",
       "└────────────────────────────┴────────────────────────┴───────────────────────────────┴───────────────────────────┘\n",
       "</pre>\n"
      ],
      "text/plain": [
       "\u001b[3m                                              Results for bar chart!                                               \u001b[0m\n",
       "┏━━━━━━━━━━━━━━━━━━━━━━━━━━━━┳━━━━━━━━━━━━━━━━━━━━━━━━┳━━━━━━━━━━━━━━━━━━━━━━━━━━━━━━━┳━━━━━━━━━━━━━━━━━━━━━━━━━━━┓\n",
       "┃\u001b[1m                            \u001b[0m┃\u001b[1m                        \u001b[0m┃\u001b[1m \u001b[0m\u001b[1mAverage absolute effect on   \u001b[0m\u001b[1m \u001b[0m┃\u001b[1m                           \u001b[0m┃\n",
       "┃\u001b[1m \u001b[0m\u001b[1mType of ablation          \u001b[0m\u001b[1m \u001b[0m┃\u001b[1m \u001b[0m\u001b[1mAverage effect on loss\u001b[0m\u001b[1m \u001b[0m┃\u001b[1m \u001b[0m\u001b[1mloss                         \u001b[0m\u001b[1m \u001b[0m┃\u001b[1m \u001b[0m\u001b[1mAverage KL div from clean\u001b[0m\u001b[1m \u001b[0m┃\n",
       "┡━━━━━━━━━━━━━━━━━━━━━━━━━━━━╇━━━━━━━━━━━━━━━━━━━━━━━━╇━━━━━━━━━━━━━━━━━━━━━━━━━━━━━━━╇━━━━━━━━━━━━━━━━━━━━━━━━━━━┩\n",
       "│ Both                       │ 0.0018                 │ 0.0654                        │ 0.00995                   │\n",
       "│ Direct                     │ 0.0073                 │ 0.0681                        │ 0.01289                   │\n",
       "│ Indirect                   │ -0.0009                │ 0.0420                        │ 0.00321                   │\n",
       "│ Indirect (excluding 11.10) │ -0.0025                │ 0.0396                        │ 0.00257                   │\n",
       "└────────────────────────────┴────────────────────────┴───────────────────────────────┴───────────────────────────┘\n"
      ]
     },
     "metadata": {},
     "output_type": "display_data"
    }
   ],
   "source": [
    "loss_diffs_dict = create_dict_for_table(model_results.loss_diffs, ln_mode=\"unfrozen\")\n",
    "kl_divs_dict = create_dict_for_table(model_results.kl_divs, ln_mode=\"unfrozen\")\n",
    "\n",
    "table = Table(\"Type of ablation\", \"Average effect on loss\", \"Average absolute effect on loss\", \"Average KL div from clean\", title=\"Results for bar chart!\")\n",
    "for k, v in loss_diffs_dict.items():\n",
    "    table.add_row(k.capitalize(), f\"{v.mean():.4f}\", f\"{v.abs().mean():.4f}\", f\"{kl_divs_dict[k].mean():.5f}\")\n",
    "rprint(table)"
   ]
  },
  {
   "cell_type": "code",
   "execution_count": 23,
   "metadata": {},
   "outputs": [
    {
     "data": {
      "text/html": [
       "<pre style=\"white-space:pre;overflow-x:auto;line-height:normal;font-family:Menlo,'DejaVu Sans Mono',consolas,'Courier New',monospace\"><span style=\"font-style: italic\">                                          Results for bar chart!                                           </span>\n",
       "┏━━━━━━━━━━━━━━━━━━┳━━━━━━━━━━━━━━━━━━━━━━━━┳━━━━━━━━━━━━━━━━━━━━━━━━━━━━━━━━━┳━━━━━━━━━━━━━━━━━━━━━━━━━━━┓\n",
       "┃<span style=\"font-weight: bold\"> Type of ablation </span>┃<span style=\"font-weight: bold\"> Average effect on loss </span>┃<span style=\"font-weight: bold\"> Average absolute effect on loss </span>┃<span style=\"font-weight: bold\"> Average KL div from clean </span>┃\n",
       "┡━━━━━━━━━━━━━━━━━━╇━━━━━━━━━━━━━━━━━━━━━━━━╇━━━━━━━━━━━━━━━━━━━━━━━━━━━━━━━━━╇━━━━━━━━━━━━━━━━━━━━━━━━━━━┩\n",
       "│ Both             │ 0.0191                 │ 0.0600                          │ 0.00564                   │\n",
       "│ Direct           │ 0.0019                 │ 0.0503                          │ 0.00598                   │\n",
       "│ Indirect         │ 0.0181                 │ 0.0345                          │ 0.00054                   │\n",
       "└──────────────────┴────────────────────────┴─────────────────────────────────┴───────────────────────────┘\n",
       "</pre>\n"
      ],
      "text/plain": [
       "\u001b[3m                                          Results for bar chart!                                           \u001b[0m\n",
       "┏━━━━━━━━━━━━━━━━━━┳━━━━━━━━━━━━━━━━━━━━━━━━┳━━━━━━━━━━━━━━━━━━━━━━━━━━━━━━━━━┳━━━━━━━━━━━━━━━━━━━━━━━━━━━┓\n",
       "┃\u001b[1m \u001b[0m\u001b[1mType of ablation\u001b[0m\u001b[1m \u001b[0m┃\u001b[1m \u001b[0m\u001b[1mAverage effect on loss\u001b[0m\u001b[1m \u001b[0m┃\u001b[1m \u001b[0m\u001b[1mAverage absolute effect on loss\u001b[0m\u001b[1m \u001b[0m┃\u001b[1m \u001b[0m\u001b[1mAverage KL div from clean\u001b[0m\u001b[1m \u001b[0m┃\n",
       "┡━━━━━━━━━━━━━━━━━━╇━━━━━━━━━━━━━━━━━━━━━━━━╇━━━━━━━━━━━━━━━━━━━━━━━━━━━━━━━━━╇━━━━━━━━━━━━━━━━━━━━━━━━━━━┩\n",
       "│ Both             │ 0.0191                 │ 0.0600                          │ 0.00564                   │\n",
       "│ Direct           │ 0.0019                 │ 0.0503                          │ 0.00598                   │\n",
       "│ Indirect         │ 0.0181                 │ 0.0345                          │ 0.00054                   │\n",
       "└──────────────────┴────────────────────────┴─────────────────────────────────┴───────────────────────────┘\n"
      ]
     },
     "metadata": {},
     "output_type": "display_data"
    }
   ],
   "source": [
    "result_mean = get_result_mean(\n",
    "    head_list=[(11, 10)],\n",
    "    toks=DATA_TOKS[:100],\n",
    "    model=model,\n",
    "    minibatch_size=10,\n",
    "    keep_seq_dim=True,\n",
    "    verbose=True\n",
    ")\n",
    "\n",
    "model_results = get_model_results_batched(\n",
    "    model = model,\n",
    "    toks = DATA_TOKS[:100, :500],\n",
    "    max_batch_size = 4,\n",
    "    negative_heads = [(11, 10)],\n",
    "    use_cuda = True,\n",
    "    store_in_cuda = False,\n",
    "    verbose = True,\n",
    "    effective_embedding = \"W_E (including MLPs)\",\n",
    "    result_mean = result_mean,\n",
    "    keep_logits = False,\n",
    "    keep_seq_dim_when_mean_ablating = True,\n",
    ")\n",
    "\n",
    "loss_diffs_dict = create_dict_for_table(model_results.loss_diffs, ln_mode=\"frozen\", head=(11, 10))\n",
    "kl_divs_dict = create_dict_for_table(model_results.kl_divs, ln_mode=\"frozen\", head=(11, 10))\n",
    "\n",
    "table = Table(\"Type of ablation\", \"Average effect on loss\", \"Average absolute effect on loss\", \"Average KL div from clean\", title=\"Results for bar chart!\")\n",
    "for k, v in loss_diffs_dict.items():\n",
    "    table.add_row(k.capitalize(), f\"{v.mean():.4f}\", f\"{v.abs().mean():.4f}\", f\"{kl_divs_dict[k].mean():.5f}\")\n",
    "rprint(table)"
   ]
  },
  {
   "cell_type": "code",
   "execution_count": 24,
   "metadata": {},
   "outputs": [
    {
     "name": "stderr",
     "output_type": "stream",
     "text": [
      "100%|██████████| 10/10 [00:01<00:00,  6.29it/s]\n",
      "Batch 1/25, shape (4, 500), time 0.77s:   4%|▍         | 1/25 [04:07<1:39:07, 247.82s/it]\n",
      "Batch 25/25, shape (4, 500), time 1.42s: 100%|██████████| 25/25 [00:27<00:00,  1.08s/it]\n"
     ]
    },
    {
     "data": {
      "text/html": [
       "<pre style=\"white-space:pre;overflow-x:auto;line-height:normal;font-family:Menlo,'DejaVu Sans Mono',consolas,'Courier New',monospace\"><span style=\"font-style: italic\">                                          Results for bar chart!                                           </span>\n",
       "┏━━━━━━━━━━━━━━━━━━┳━━━━━━━━━━━━━━━━━━━━━━━━┳━━━━━━━━━━━━━━━━━━━━━━━━━━━━━━━━━┳━━━━━━━━━━━━━━━━━━━━━━━━━━━┓\n",
       "┃<span style=\"font-weight: bold\"> Type of ablation </span>┃<span style=\"font-weight: bold\"> Average effect on loss </span>┃<span style=\"font-weight: bold\"> Average absolute effect on loss </span>┃<span style=\"font-weight: bold\"> Average KL div from clean </span>┃\n",
       "┡━━━━━━━━━━━━━━━━━━╇━━━━━━━━━━━━━━━━━━━━━━━━╇━━━━━━━━━━━━━━━━━━━━━━━━━━━━━━━━━╇━━━━━━━━━━━━━━━━━━━━━━━━━━━┩\n",
       "│ Both             │ 0.0191                 │ 0.0600                          │ 0.00564                   │\n",
       "│ Direct           │ 0.0019                 │ 0.0503                          │ 0.00598                   │\n",
       "│ Indirect         │ 0.0181                 │ 0.0345                          │ 0.00054                   │\n",
       "└──────────────────┴────────────────────────┴─────────────────────────────────┴───────────────────────────┘\n",
       "</pre>\n"
      ],
      "text/plain": [
       "\u001b[3m                                          Results for bar chart!                                           \u001b[0m\n",
       "┏━━━━━━━━━━━━━━━━━━┳━━━━━━━━━━━━━━━━━━━━━━━━┳━━━━━━━━━━━━━━━━━━━━━━━━━━━━━━━━━┳━━━━━━━━━━━━━━━━━━━━━━━━━━━┓\n",
       "┃\u001b[1m \u001b[0m\u001b[1mType of ablation\u001b[0m\u001b[1m \u001b[0m┃\u001b[1m \u001b[0m\u001b[1mAverage effect on loss\u001b[0m\u001b[1m \u001b[0m┃\u001b[1m \u001b[0m\u001b[1mAverage absolute effect on loss\u001b[0m\u001b[1m \u001b[0m┃\u001b[1m \u001b[0m\u001b[1mAverage KL div from clean\u001b[0m\u001b[1m \u001b[0m┃\n",
       "┡━━━━━━━━━━━━━━━━━━╇━━━━━━━━━━━━━━━━━━━━━━━━╇━━━━━━━━━━━━━━━━━━━━━━━━━━━━━━━━━╇━━━━━━━━━━━━━━━━━━━━━━━━━━━┩\n",
       "│ Both             │ 0.0191                 │ 0.0600                          │ 0.00564                   │\n",
       "│ Direct           │ 0.0019                 │ 0.0503                          │ 0.00598                   │\n",
       "│ Indirect         │ 0.0181                 │ 0.0345                          │ 0.00054                   │\n",
       "└──────────────────┴────────────────────────┴─────────────────────────────────┴───────────────────────────┘\n"
      ]
     },
     "metadata": {},
     "output_type": "display_data"
    }
   ],
   "source": [
    "result_mean = get_result_mean(\n",
    "    head_list=[(11, 10)],\n",
    "    toks=DATA_TOKS[:100],\n",
    "    model=model,\n",
    "    minibatch_size=10,\n",
    "    keep_seq_dim=True,\n",
    "    verbose=True\n",
    ")\n",
    "\n",
    "model_results = get_model_results_batched(\n",
    "    model = model,\n",
    "    toks = DATA_TOKS[:100, :500],\n",
    "    max_batch_size = 4,\n",
    "    negative_heads = [(11, 10)],\n",
    "    use_cuda = True,\n",
    "    store_in_cuda = False,\n",
    "    verbose = True,\n",
    "    effective_embedding = \"W_E (including MLPs)\",\n",
    "    result_mean = result_mean,\n",
    "    keep_logits = False,\n",
    "    keep_seq_dim_when_mean_ablating = True,\n",
    ")\n",
    "\n",
    "loss_diffs_dict = create_dict_for_table(model_results.loss_diffs, ln_mode=\"frozen\", head=(11, 10))\n",
    "kl_divs_dict = create_dict_for_table(model_results.kl_divs, ln_mode=\"frozen\", head=(11, 10))\n",
    "\n",
    "table = Table(\"Type of ablation\", \"Average effect on loss\", \"Average absolute effect on loss\", \"Average KL div from clean\", title=\"Results for bar chart!\")\n",
    "for k, v in loss_diffs_dict.items():\n",
    "    table.add_row(k.capitalize(), f\"{v.mean():.4f}\", f\"{v.abs().mean():.4f}\", f\"{kl_divs_dict[k].mean():.5f}\")\n",
    "rprint(table)"
   ]
  },
  {
   "cell_type": "code",
   "execution_count": 25,
   "metadata": {},
   "outputs": [
    {
     "name": "stderr",
     "output_type": "stream",
     "text": [
      "100%|██████████| 10/10 [00:01<00:00,  6.29it/s]\n",
      "Batch 25/25, shape (4, 500), time 1.42s: 100%|██████████| 25/25 [00:27<00:00,  1.08s/it]\n"
     ]
    },
    {
     "data": {
      "text/html": [
       "<pre style=\"white-space:pre;overflow-x:auto;line-height:normal;font-family:Menlo,'DejaVu Sans Mono',consolas,'Courier New',monospace\"><span style=\"font-style: italic\">                                          Results for bar chart!                                           </span>\n",
       "┏━━━━━━━━━━━━━━━━━━┳━━━━━━━━━━━━━━━━━━━━━━━━┳━━━━━━━━━━━━━━━━━━━━━━━━━━━━━━━━━┳━━━━━━━━━━━━━━━━━━━━━━━━━━━┓\n",
       "┃<span style=\"font-weight: bold\"> Type of ablation </span>┃<span style=\"font-weight: bold\"> Average effect on loss </span>┃<span style=\"font-weight: bold\"> Average absolute effect on loss </span>┃<span style=\"font-weight: bold\"> Average KL div from clean </span>┃\n",
       "┡━━━━━━━━━━━━━━━━━━╇━━━━━━━━━━━━━━━━━━━━━━━━╇━━━━━━━━━━━━━━━━━━━━━━━━━━━━━━━━━╇━━━━━━━━━━━━━━━━━━━━━━━━━━━┩\n",
       "│ Both             │ 0.0057                 │ 0.0360                          │ 0.00437                   │\n",
       "│ Direct           │ 0.0065                 │ 0.0417                          │ 0.00625                   │\n",
       "│ Indirect         │ 0.0023                 │ 0.0198                          │ 0.00115                   │\n",
       "└──────────────────┴────────────────────────┴─────────────────────────────────┴───────────────────────────┘\n",
       "</pre>\n"
      ],
      "text/plain": [
       "\u001b[3m                                          Results for bar chart!                                           \u001b[0m\n",
       "┏━━━━━━━━━━━━━━━━━━┳━━━━━━━━━━━━━━━━━━━━━━━━┳━━━━━━━━━━━━━━━━━━━━━━━━━━━━━━━━━┳━━━━━━━━━━━━━━━━━━━━━━━━━━━┓\n",
       "┃\u001b[1m \u001b[0m\u001b[1mType of ablation\u001b[0m\u001b[1m \u001b[0m┃\u001b[1m \u001b[0m\u001b[1mAverage effect on loss\u001b[0m\u001b[1m \u001b[0m┃\u001b[1m \u001b[0m\u001b[1mAverage absolute effect on loss\u001b[0m\u001b[1m \u001b[0m┃\u001b[1m \u001b[0m\u001b[1mAverage KL div from clean\u001b[0m\u001b[1m \u001b[0m┃\n",
       "┡━━━━━━━━━━━━━━━━━━╇━━━━━━━━━━━━━━━━━━━━━━━━╇━━━━━━━━━━━━━━━━━━━━━━━━━━━━━━━━━╇━━━━━━━━━━━━━━━━━━━━━━━━━━━┩\n",
       "│ Both             │ 0.0057                 │ 0.0360                          │ 0.00437                   │\n",
       "│ Direct           │ 0.0065                 │ 0.0417                          │ 0.00625                   │\n",
       "│ Indirect         │ 0.0023                 │ 0.0198                          │ 0.00115                   │\n",
       "└──────────────────┴────────────────────────┴─────────────────────────────────┴───────────────────────────┘\n"
      ]
     },
     "metadata": {},
     "output_type": "display_data"
    }
   ],
   "source": [
    "result_mean = get_result_mean(\n",
    "    head_list=[(11, 2)],\n",
    "    toks=DATA_TOKS[:100],\n",
    "    model=model,\n",
    "    minibatch_size=10,\n",
    "    keep_seq_dim=True,\n",
    "    verbose=True\n",
    ")\n",
    "\n",
    "model_results = get_model_results_batched(\n",
    "    model = model,\n",
    "    toks = DATA_TOKS[:100, :500],\n",
    "    max_batch_size = 4,\n",
    "    negative_heads = [(11, 2)],\n",
    "    use_cuda = True,\n",
    "    store_in_cuda = False,\n",
    "    verbose = True,\n",
    "    effective_embedding = \"W_E (including MLPs)\",\n",
    "    result_mean = result_mean,\n",
    "    keep_logits = False,\n",
    "    keep_seq_dim_when_mean_ablating = True,\n",
    ")\n",
    "\n",
    "loss_diffs_dict = create_dict_for_table(model_results.loss_diffs, ln_mode=\"frozen\", head=(11, 2))\n",
    "kl_divs_dict = create_dict_for_table(model_results.kl_divs, ln_mode=\"frozen\", head=(11, 2))\n",
    "\n",
    "table = Table(\"Type of ablation\", \"Average effect on loss\", \"Average absolute effect on loss\", \"Average KL div from clean\", title=\"Results for bar chart!\")\n",
    "for k, v in loss_diffs_dict.items():\n",
    "    table.add_row(k.capitalize(), f\"{v.mean():.4f}\", f\"{v.abs().mean():.4f}\", f\"{kl_divs_dict[k].mean():.5f}\")\n",
    "rprint(table)"
   ]
  }
 ],
 "metadata": {
  "kernelspec": {
   "display_name": "base",
   "language": "python",
   "name": "python3"
  },
  "language_info": {
   "codemirror_mode": {
    "name": "ipython",
    "version": 3
   },
   "file_extension": ".py",
   "mimetype": "text/x-python",
   "name": "python",
   "nbconvert_exporter": "python",
   "pygments_lexer": "ipython3",
   "version": "3.10.9"
  },
  "orig_nbformat": 4
 },
 "nbformat": 4,
 "nbformat_minor": 2
}
